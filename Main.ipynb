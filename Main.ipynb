{
 "cells": [
  {
   "cell_type": "code",
   "execution_count": 1,
   "id": "60f21439",
   "metadata": {},
   "outputs": [],
   "source": [
    "import vaex"
   ]
  },
  {
   "cell_type": "code",
   "execution_count": 2,
   "id": "f2730317",
   "metadata": {},
   "outputs": [],
   "source": [
    "import pandas as pd\n",
    "import numpy as np"
   ]
  },
  {
   "cell_type": "code",
   "execution_count": 3,
   "id": "2c4549ab",
   "metadata": {},
   "outputs": [],
   "source": [
    "flight = pd.read_parquet(\"C:/Users/HP/Desktop/Programming/Projects/Project 4- Flight/Dataset/Flight_Delay.parquet\")"
   ]
  },
  {
   "cell_type": "code",
   "execution_count": 4,
   "id": "aefd4d72",
   "metadata": {},
   "outputs": [
    {
     "data": {
      "text/html": [
       "<div>\n",
       "<style scoped>\n",
       "    .dataframe tbody tr th:only-of-type {\n",
       "        vertical-align: middle;\n",
       "    }\n",
       "\n",
       "    .dataframe tbody tr th {\n",
       "        vertical-align: top;\n",
       "    }\n",
       "\n",
       "    .dataframe thead th {\n",
       "        text-align: right;\n",
       "    }\n",
       "</style>\n",
       "<table border=\"1\" class=\"dataframe\">\n",
       "  <thead>\n",
       "    <tr style=\"text-align: right;\">\n",
       "      <th></th>\n",
       "      <th>Year</th>\n",
       "      <th>Month</th>\n",
       "      <th>DayofMonth</th>\n",
       "      <th>FlightDate</th>\n",
       "      <th>Marketing_Airline_Network</th>\n",
       "      <th>OriginCityName</th>\n",
       "      <th>DestCityName</th>\n",
       "      <th>CRSDepTime</th>\n",
       "      <th>DepTime</th>\n",
       "      <th>DepDelay</th>\n",
       "      <th>...</th>\n",
       "      <th>CRSElapsedTime</th>\n",
       "      <th>ActualElapsedTime</th>\n",
       "      <th>AirTime</th>\n",
       "      <th>Distance</th>\n",
       "      <th>DistanceGroup</th>\n",
       "      <th>CarrierDelay</th>\n",
       "      <th>WeatherDelay</th>\n",
       "      <th>NASDelay</th>\n",
       "      <th>SecurityDelay</th>\n",
       "      <th>LateAircraftDelay</th>\n",
       "    </tr>\n",
       "  </thead>\n",
       "  <tbody>\n",
       "    <tr>\n",
       "      <th>1</th>\n",
       "      <td>2018</td>\n",
       "      <td>1</td>\n",
       "      <td>15</td>\n",
       "      <td>2018-01-15</td>\n",
       "      <td>UA</td>\n",
       "      <td>Newark, NJ</td>\n",
       "      <td>Charleston, SC</td>\n",
       "      <td>1845</td>\n",
       "      <td>1928.0</td>\n",
       "      <td>43.0</td>\n",
       "      <td>...</td>\n",
       "      <td>143.0</td>\n",
       "      <td>141.0</td>\n",
       "      <td>102.0</td>\n",
       "      <td>628.0</td>\n",
       "      <td>3</td>\n",
       "      <td>41.0</td>\n",
       "      <td>0.0</td>\n",
       "      <td>0.0</td>\n",
       "      <td>0.0</td>\n",
       "      <td>0.0</td>\n",
       "    </tr>\n",
       "    <tr>\n",
       "      <th>2</th>\n",
       "      <td>2018</td>\n",
       "      <td>1</td>\n",
       "      <td>16</td>\n",
       "      <td>2018-01-16</td>\n",
       "      <td>UA</td>\n",
       "      <td>Newark, NJ</td>\n",
       "      <td>Charleston, SC</td>\n",
       "      <td>1835</td>\n",
       "      <td>1956.0</td>\n",
       "      <td>81.0</td>\n",
       "      <td>...</td>\n",
       "      <td>143.0</td>\n",
       "      <td>131.0</td>\n",
       "      <td>108.0</td>\n",
       "      <td>628.0</td>\n",
       "      <td>3</td>\n",
       "      <td>67.0</td>\n",
       "      <td>0.0</td>\n",
       "      <td>0.0</td>\n",
       "      <td>0.0</td>\n",
       "      <td>2.0</td>\n",
       "    </tr>\n",
       "    <tr>\n",
       "      <th>3</th>\n",
       "      <td>2018</td>\n",
       "      <td>1</td>\n",
       "      <td>17</td>\n",
       "      <td>2018-01-17</td>\n",
       "      <td>UA</td>\n",
       "      <td>Newark, NJ</td>\n",
       "      <td>Charleston, SC</td>\n",
       "      <td>1835</td>\n",
       "      <td>1836.0</td>\n",
       "      <td>1.0</td>\n",
       "      <td>...</td>\n",
       "      <td>143.0</td>\n",
       "      <td>138.0</td>\n",
       "      <td>113.0</td>\n",
       "      <td>628.0</td>\n",
       "      <td>3</td>\n",
       "      <td>0.0</td>\n",
       "      <td>0.0</td>\n",
       "      <td>0.0</td>\n",
       "      <td>0.0</td>\n",
       "      <td>0.0</td>\n",
       "    </tr>\n",
       "    <tr>\n",
       "      <th>4</th>\n",
       "      <td>2018</td>\n",
       "      <td>1</td>\n",
       "      <td>18</td>\n",
       "      <td>2018-01-18</td>\n",
       "      <td>UA</td>\n",
       "      <td>Newark, NJ</td>\n",
       "      <td>Charleston, SC</td>\n",
       "      <td>1845</td>\n",
       "      <td>1844.0</td>\n",
       "      <td>-1.0</td>\n",
       "      <td>...</td>\n",
       "      <td>143.0</td>\n",
       "      <td>134.0</td>\n",
       "      <td>92.0</td>\n",
       "      <td>628.0</td>\n",
       "      <td>3</td>\n",
       "      <td>0.0</td>\n",
       "      <td>0.0</td>\n",
       "      <td>0.0</td>\n",
       "      <td>0.0</td>\n",
       "      <td>0.0</td>\n",
       "    </tr>\n",
       "    <tr>\n",
       "      <th>6</th>\n",
       "      <td>2018</td>\n",
       "      <td>1</td>\n",
       "      <td>20</td>\n",
       "      <td>2018-01-20</td>\n",
       "      <td>UA</td>\n",
       "      <td>Newark, NJ</td>\n",
       "      <td>Charleston, SC</td>\n",
       "      <td>1835</td>\n",
       "      <td>1829.0</td>\n",
       "      <td>-6.0</td>\n",
       "      <td>...</td>\n",
       "      <td>143.0</td>\n",
       "      <td>117.0</td>\n",
       "      <td>89.0</td>\n",
       "      <td>628.0</td>\n",
       "      <td>3</td>\n",
       "      <td>0.0</td>\n",
       "      <td>0.0</td>\n",
       "      <td>0.0</td>\n",
       "      <td>0.0</td>\n",
       "      <td>0.0</td>\n",
       "    </tr>\n",
       "  </tbody>\n",
       "</table>\n",
       "<p>5 rows × 29 columns</p>\n",
       "</div>"
      ],
      "text/plain": [
       "   Year  Month  DayofMonth  FlightDate Marketing_Airline_Network  \\\n",
       "1  2018      1          15  2018-01-15                        UA   \n",
       "2  2018      1          16  2018-01-16                        UA   \n",
       "3  2018      1          17  2018-01-17                        UA   \n",
       "4  2018      1          18  2018-01-18                        UA   \n",
       "6  2018      1          20  2018-01-20                        UA   \n",
       "\n",
       "  OriginCityName    DestCityName  CRSDepTime  DepTime  DepDelay  ...  \\\n",
       "1     Newark, NJ  Charleston, SC        1845   1928.0      43.0  ...   \n",
       "2     Newark, NJ  Charleston, SC        1835   1956.0      81.0  ...   \n",
       "3     Newark, NJ  Charleston, SC        1835   1836.0       1.0  ...   \n",
       "4     Newark, NJ  Charleston, SC        1845   1844.0      -1.0  ...   \n",
       "6     Newark, NJ  Charleston, SC        1835   1829.0      -6.0  ...   \n",
       "\n",
       "   CRSElapsedTime  ActualElapsedTime  AirTime  Distance  DistanceGroup  \\\n",
       "1           143.0              141.0    102.0     628.0              3   \n",
       "2           143.0              131.0    108.0     628.0              3   \n",
       "3           143.0              138.0    113.0     628.0              3   \n",
       "4           143.0              134.0     92.0     628.0              3   \n",
       "6           143.0              117.0     89.0     628.0              3   \n",
       "\n",
       "   CarrierDelay  WeatherDelay  NASDelay  SecurityDelay  LateAircraftDelay  \n",
       "1          41.0           0.0       0.0            0.0                0.0  \n",
       "2          67.0           0.0       0.0            0.0                2.0  \n",
       "3           0.0           0.0       0.0            0.0                0.0  \n",
       "4           0.0           0.0       0.0            0.0                0.0  \n",
       "6           0.0           0.0       0.0            0.0                0.0  \n",
       "\n",
       "[5 rows x 29 columns]"
      ]
     },
     "execution_count": 4,
     "metadata": {},
     "output_type": "execute_result"
    }
   ],
   "source": [
    "flight.head()"
   ]
  },
  {
   "cell_type": "code",
   "execution_count": 5,
   "id": "e389fe12",
   "metadata": {},
   "outputs": [
    {
     "data": {
      "text/plain": [
       "(30132672, 29)"
      ]
     },
     "execution_count": 5,
     "metadata": {},
     "output_type": "execute_result"
    }
   ],
   "source": [
    "flight.shape"
   ]
  },
  {
   "cell_type": "code",
   "execution_count": 6,
   "id": "d7a961bf",
   "metadata": {},
   "outputs": [],
   "source": [
    "flight_vaex = vaex.from_pandas(flight)"
   ]
  },
  {
   "cell_type": "code",
   "execution_count": 7,
   "id": "ea6fa468",
   "metadata": {},
   "outputs": [
    {
     "data": {
      "text/plain": [
       "vaex.dataframe.DataFrameLocal"
      ]
     },
     "execution_count": 7,
     "metadata": {},
     "output_type": "execute_result"
    }
   ],
   "source": [
    "type(flight_vaex)"
   ]
  },
  {
   "cell_type": "code",
   "execution_count": 8,
   "id": "6abc2ef0",
   "metadata": {},
   "outputs": [
    {
     "data": {
      "text/html": [
       "<table>\n",
       "<thead>\n",
       "<tr><th>#                            </th><th style=\"text-align: right;\">  Year</th><th style=\"text-align: right;\">  Month</th><th style=\"text-align: right;\">  DayofMonth</th><th>FlightDate  </th><th>Marketing_Airline_Network  </th><th>OriginCityName  </th><th>DestCityName  </th><th style=\"text-align: right;\">  CRSDepTime</th><th style=\"text-align: right;\">  DepTime</th><th style=\"text-align: right;\">  DepDelay</th><th style=\"text-align: right;\">  DepDelayMinutes</th><th style=\"text-align: right;\">  TaxiOut</th><th style=\"text-align: right;\">  WheelsOff</th><th style=\"text-align: right;\">  WheelsOn</th><th style=\"text-align: right;\">  TaxiIn</th><th style=\"text-align: right;\">  CRSArrTime</th><th style=\"text-align: right;\">  ArrTime</th><th style=\"text-align: right;\">  ArrDelay</th><th style=\"text-align: right;\">  ArrDelayMinutes</th><th style=\"text-align: right;\">  CRSElapsedTime</th><th style=\"text-align: right;\">  ActualElapsedTime</th><th style=\"text-align: right;\">  AirTime</th><th style=\"text-align: right;\">  Distance</th><th style=\"text-align: right;\">  DistanceGroup</th><th style=\"text-align: right;\">  CarrierDelay</th><th style=\"text-align: right;\">  WeatherDelay</th><th style=\"text-align: right;\">  NASDelay</th><th style=\"text-align: right;\">  SecurityDelay</th><th style=\"text-align: right;\">  LateAircraftDelay</th></tr>\n",
       "</thead>\n",
       "<tbody>\n",
       "<tr><td><i style='opacity: 0.6'>0</i></td><td style=\"text-align: right;\">  2018</td><td style=\"text-align: right;\">      1</td><td style=\"text-align: right;\">          15</td><td>2018-01-15  </td><td>UA                         </td><td>Newark, NJ      </td><td>Charleston, SC</td><td style=\"text-align: right;\">        1845</td><td style=\"text-align: right;\">     1928</td><td style=\"text-align: right;\">        43</td><td style=\"text-align: right;\">               43</td><td style=\"text-align: right;\">       35</td><td style=\"text-align: right;\">       2003</td><td style=\"text-align: right;\">      2145</td><td style=\"text-align: right;\">       4</td><td style=\"text-align: right;\">        2108</td><td style=\"text-align: right;\">     2149</td><td style=\"text-align: right;\">        41</td><td style=\"text-align: right;\">               41</td><td style=\"text-align: right;\">             143</td><td style=\"text-align: right;\">                141</td><td style=\"text-align: right;\">      102</td><td style=\"text-align: right;\">       628</td><td style=\"text-align: right;\">              3</td><td style=\"text-align: right;\">            41</td><td style=\"text-align: right;\">             0</td><td style=\"text-align: right;\">         0</td><td style=\"text-align: right;\">              0</td><td style=\"text-align: right;\">                  0</td></tr>\n",
       "<tr><td><i style='opacity: 0.6'>1</i></td><td style=\"text-align: right;\">  2018</td><td style=\"text-align: right;\">      1</td><td style=\"text-align: right;\">          16</td><td>2018-01-16  </td><td>UA                         </td><td>Newark, NJ      </td><td>Charleston, SC</td><td style=\"text-align: right;\">        1835</td><td style=\"text-align: right;\">     1956</td><td style=\"text-align: right;\">        81</td><td style=\"text-align: right;\">               81</td><td style=\"text-align: right;\">       18</td><td style=\"text-align: right;\">       2014</td><td style=\"text-align: right;\">      2202</td><td style=\"text-align: right;\">       5</td><td style=\"text-align: right;\">        2058</td><td style=\"text-align: right;\">     2207</td><td style=\"text-align: right;\">        69</td><td style=\"text-align: right;\">               69</td><td style=\"text-align: right;\">             143</td><td style=\"text-align: right;\">                131</td><td style=\"text-align: right;\">      108</td><td style=\"text-align: right;\">       628</td><td style=\"text-align: right;\">              3</td><td style=\"text-align: right;\">            67</td><td style=\"text-align: right;\">             0</td><td style=\"text-align: right;\">         0</td><td style=\"text-align: right;\">              0</td><td style=\"text-align: right;\">                  2</td></tr>\n",
       "<tr><td><i style='opacity: 0.6'>2</i></td><td style=\"text-align: right;\">  2018</td><td style=\"text-align: right;\">      1</td><td style=\"text-align: right;\">          17</td><td>2018-01-17  </td><td>UA                         </td><td>Newark, NJ      </td><td>Charleston, SC</td><td style=\"text-align: right;\">        1835</td><td style=\"text-align: right;\">     1836</td><td style=\"text-align: right;\">         1</td><td style=\"text-align: right;\">                1</td><td style=\"text-align: right;\">       19</td><td style=\"text-align: right;\">       1855</td><td style=\"text-align: right;\">      2048</td><td style=\"text-align: right;\">       6</td><td style=\"text-align: right;\">        2058</td><td style=\"text-align: right;\">     2054</td><td style=\"text-align: right;\">        -4</td><td style=\"text-align: right;\">                0</td><td style=\"text-align: right;\">             143</td><td style=\"text-align: right;\">                138</td><td style=\"text-align: right;\">      113</td><td style=\"text-align: right;\">       628</td><td style=\"text-align: right;\">              3</td><td style=\"text-align: right;\">             0</td><td style=\"text-align: right;\">             0</td><td style=\"text-align: right;\">         0</td><td style=\"text-align: right;\">              0</td><td style=\"text-align: right;\">                  0</td></tr>\n",
       "<tr><td><i style='opacity: 0.6'>3</i></td><td style=\"text-align: right;\">  2018</td><td style=\"text-align: right;\">      1</td><td style=\"text-align: right;\">          18</td><td>2018-01-18  </td><td>UA                         </td><td>Newark, NJ      </td><td>Charleston, SC</td><td style=\"text-align: right;\">        1845</td><td style=\"text-align: right;\">     1844</td><td style=\"text-align: right;\">        -1</td><td style=\"text-align: right;\">                0</td><td style=\"text-align: right;\">       36</td><td style=\"text-align: right;\">       1920</td><td style=\"text-align: right;\">      2052</td><td style=\"text-align: right;\">       6</td><td style=\"text-align: right;\">        2108</td><td style=\"text-align: right;\">     2058</td><td style=\"text-align: right;\">       -10</td><td style=\"text-align: right;\">                0</td><td style=\"text-align: right;\">             143</td><td style=\"text-align: right;\">                134</td><td style=\"text-align: right;\">       92</td><td style=\"text-align: right;\">       628</td><td style=\"text-align: right;\">              3</td><td style=\"text-align: right;\">             0</td><td style=\"text-align: right;\">             0</td><td style=\"text-align: right;\">         0</td><td style=\"text-align: right;\">              0</td><td style=\"text-align: right;\">                  0</td></tr>\n",
       "<tr><td><i style='opacity: 0.6'>4</i></td><td style=\"text-align: right;\">  2018</td><td style=\"text-align: right;\">      1</td><td style=\"text-align: right;\">          20</td><td>2018-01-20  </td><td>UA                         </td><td>Newark, NJ      </td><td>Charleston, SC</td><td style=\"text-align: right;\">        1835</td><td style=\"text-align: right;\">     1829</td><td style=\"text-align: right;\">        -6</td><td style=\"text-align: right;\">                0</td><td style=\"text-align: right;\">       22</td><td style=\"text-align: right;\">       1851</td><td style=\"text-align: right;\">      2020</td><td style=\"text-align: right;\">       6</td><td style=\"text-align: right;\">        2058</td><td style=\"text-align: right;\">     2026</td><td style=\"text-align: right;\">       -32</td><td style=\"text-align: right;\">                0</td><td style=\"text-align: right;\">             143</td><td style=\"text-align: right;\">                117</td><td style=\"text-align: right;\">       89</td><td style=\"text-align: right;\">       628</td><td style=\"text-align: right;\">              3</td><td style=\"text-align: right;\">             0</td><td style=\"text-align: right;\">             0</td><td style=\"text-align: right;\">         0</td><td style=\"text-align: right;\">              0</td><td style=\"text-align: right;\">                  0</td></tr>\n",
       "<tr><td><i style='opacity: 0.6'>5</i></td><td style=\"text-align: right;\">  2018</td><td style=\"text-align: right;\">      1</td><td style=\"text-align: right;\">          21</td><td>2018-01-21  </td><td>UA                         </td><td>Newark, NJ      </td><td>Charleston, SC</td><td style=\"text-align: right;\">        1835</td><td style=\"text-align: right;\">     1825</td><td style=\"text-align: right;\">       -10</td><td style=\"text-align: right;\">                0</td><td style=\"text-align: right;\">       44</td><td style=\"text-align: right;\">       1909</td><td style=\"text-align: right;\">      2039</td><td style=\"text-align: right;\">       5</td><td style=\"text-align: right;\">        2058</td><td style=\"text-align: right;\">     2044</td><td style=\"text-align: right;\">       -14</td><td style=\"text-align: right;\">                0</td><td style=\"text-align: right;\">             143</td><td style=\"text-align: right;\">                139</td><td style=\"text-align: right;\">       90</td><td style=\"text-align: right;\">       628</td><td style=\"text-align: right;\">              3</td><td style=\"text-align: right;\">             0</td><td style=\"text-align: right;\">             0</td><td style=\"text-align: right;\">         0</td><td style=\"text-align: right;\">              0</td><td style=\"text-align: right;\">                  0</td></tr>\n",
       "<tr><td><i style='opacity: 0.6'>6</i></td><td style=\"text-align: right;\">  2018</td><td style=\"text-align: right;\">      1</td><td style=\"text-align: right;\">          22</td><td>2018-01-22  </td><td>UA                         </td><td>Newark, NJ      </td><td>Charleston, SC</td><td style=\"text-align: right;\">        1845</td><td style=\"text-align: right;\">     1847</td><td style=\"text-align: right;\">         2</td><td style=\"text-align: right;\">                2</td><td style=\"text-align: right;\">       41</td><td style=\"text-align: right;\">       1928</td><td style=\"text-align: right;\">      2118</td><td style=\"text-align: right;\">      10</td><td style=\"text-align: right;\">        2108</td><td style=\"text-align: right;\">     2128</td><td style=\"text-align: right;\">        20</td><td style=\"text-align: right;\">               20</td><td style=\"text-align: right;\">             143</td><td style=\"text-align: right;\">                161</td><td style=\"text-align: right;\">      110</td><td style=\"text-align: right;\">       628</td><td style=\"text-align: right;\">              3</td><td style=\"text-align: right;\">             2</td><td style=\"text-align: right;\">             0</td><td style=\"text-align: right;\">        18</td><td style=\"text-align: right;\">              0</td><td style=\"text-align: right;\">                  0</td></tr>\n",
       "<tr><td><i style='opacity: 0.6'>7</i></td><td style=\"text-align: right;\">  2018</td><td style=\"text-align: right;\">      1</td><td style=\"text-align: right;\">          23</td><td>2018-01-23  </td><td>UA                         </td><td>Newark, NJ      </td><td>Charleston, SC</td><td style=\"text-align: right;\">        1835</td><td style=\"text-align: right;\">     1823</td><td style=\"text-align: right;\">       -12</td><td style=\"text-align: right;\">                0</td><td style=\"text-align: right;\">       34</td><td style=\"text-align: right;\">       1857</td><td style=\"text-align: right;\">      2103</td><td style=\"text-align: right;\">      11</td><td style=\"text-align: right;\">        2058</td><td style=\"text-align: right;\">     2114</td><td style=\"text-align: right;\">        16</td><td style=\"text-align: right;\">               16</td><td style=\"text-align: right;\">             143</td><td style=\"text-align: right;\">                171</td><td style=\"text-align: right;\">      126</td><td style=\"text-align: right;\">       628</td><td style=\"text-align: right;\">              3</td><td style=\"text-align: right;\">             0</td><td style=\"text-align: right;\">             0</td><td style=\"text-align: right;\">        16</td><td style=\"text-align: right;\">              0</td><td style=\"text-align: right;\">                  0</td></tr>\n",
       "<tr><td><i style='opacity: 0.6'>8</i></td><td style=\"text-align: right;\">  2018</td><td style=\"text-align: right;\">      1</td><td style=\"text-align: right;\">          25</td><td>2018-01-25  </td><td>UA                         </td><td>Newark, NJ      </td><td>Charleston, SC</td><td style=\"text-align: right;\">        1845</td><td style=\"text-align: right;\">     1841</td><td style=\"text-align: right;\">        -4</td><td style=\"text-align: right;\">                0</td><td style=\"text-align: right;\">       38</td><td style=\"text-align: right;\">       1919</td><td style=\"text-align: right;\">      2056</td><td style=\"text-align: right;\">       7</td><td style=\"text-align: right;\">        2108</td><td style=\"text-align: right;\">     2103</td><td style=\"text-align: right;\">        -5</td><td style=\"text-align: right;\">                0</td><td style=\"text-align: right;\">             143</td><td style=\"text-align: right;\">                142</td><td style=\"text-align: right;\">       97</td><td style=\"text-align: right;\">       628</td><td style=\"text-align: right;\">              3</td><td style=\"text-align: right;\">             0</td><td style=\"text-align: right;\">             0</td><td style=\"text-align: right;\">         0</td><td style=\"text-align: right;\">              0</td><td style=\"text-align: right;\">                  0</td></tr>\n",
       "<tr><td><i style='opacity: 0.6'>9</i></td><td style=\"text-align: right;\">  2018</td><td style=\"text-align: right;\">      1</td><td style=\"text-align: right;\">          26</td><td>2018-01-26  </td><td>UA                         </td><td>Newark, NJ      </td><td>Charleston, SC</td><td style=\"text-align: right;\">        1845</td><td style=\"text-align: right;\">     1838</td><td style=\"text-align: right;\">        -7</td><td style=\"text-align: right;\">                0</td><td style=\"text-align: right;\">       39</td><td style=\"text-align: right;\">       1917</td><td style=\"text-align: right;\">      2047</td><td style=\"text-align: right;\">       6</td><td style=\"text-align: right;\">        2108</td><td style=\"text-align: right;\">     2053</td><td style=\"text-align: right;\">       -15</td><td style=\"text-align: right;\">                0</td><td style=\"text-align: right;\">             143</td><td style=\"text-align: right;\">                135</td><td style=\"text-align: right;\">       90</td><td style=\"text-align: right;\">       628</td><td style=\"text-align: right;\">              3</td><td style=\"text-align: right;\">             0</td><td style=\"text-align: right;\">             0</td><td style=\"text-align: right;\">         0</td><td style=\"text-align: right;\">              0</td><td style=\"text-align: right;\">                  0</td></tr>\n",
       "</tbody>\n",
       "</table>"
      ],
      "text/plain": [
       "  #    Year    Month    DayofMonth  FlightDate    Marketing_Airline_Network    OriginCityName    DestCityName      CRSDepTime    DepTime    DepDelay    DepDelayMinutes    TaxiOut    WheelsOff    WheelsOn    TaxiIn    CRSArrTime    ArrTime    ArrDelay    ArrDelayMinutes    CRSElapsedTime    ActualElapsedTime    AirTime    Distance    DistanceGroup    CarrierDelay    WeatherDelay    NASDelay    SecurityDelay    LateAircraftDelay\n",
       "  0    2018        1            15  2018-01-15    UA                           Newark, NJ        Charleston, SC          1845       1928          43                 43         35         2003        2145         4          2108       2149          41                 41               143                  141        102         628                3              41               0           0                0                    0\n",
       "  1    2018        1            16  2018-01-16    UA                           Newark, NJ        Charleston, SC          1835       1956          81                 81         18         2014        2202         5          2058       2207          69                 69               143                  131        108         628                3              67               0           0                0                    2\n",
       "  2    2018        1            17  2018-01-17    UA                           Newark, NJ        Charleston, SC          1835       1836           1                  1         19         1855        2048         6          2058       2054          -4                  0               143                  138        113         628                3               0               0           0                0                    0\n",
       "  3    2018        1            18  2018-01-18    UA                           Newark, NJ        Charleston, SC          1845       1844          -1                  0         36         1920        2052         6          2108       2058         -10                  0               143                  134         92         628                3               0               0           0                0                    0\n",
       "  4    2018        1            20  2018-01-20    UA                           Newark, NJ        Charleston, SC          1835       1829          -6                  0         22         1851        2020         6          2058       2026         -32                  0               143                  117         89         628                3               0               0           0                0                    0\n",
       "  5    2018        1            21  2018-01-21    UA                           Newark, NJ        Charleston, SC          1835       1825         -10                  0         44         1909        2039         5          2058       2044         -14                  0               143                  139         90         628                3               0               0           0                0                    0\n",
       "  6    2018        1            22  2018-01-22    UA                           Newark, NJ        Charleston, SC          1845       1847           2                  2         41         1928        2118        10          2108       2128          20                 20               143                  161        110         628                3               2               0          18                0                    0\n",
       "  7    2018        1            23  2018-01-23    UA                           Newark, NJ        Charleston, SC          1835       1823         -12                  0         34         1857        2103        11          2058       2114          16                 16               143                  171        126         628                3               0               0          16                0                    0\n",
       "  8    2018        1            25  2018-01-25    UA                           Newark, NJ        Charleston, SC          1845       1841          -4                  0         38         1919        2056         7          2108       2103          -5                  0               143                  142         97         628                3               0               0           0                0                    0\n",
       "  9    2018        1            26  2018-01-26    UA                           Newark, NJ        Charleston, SC          1845       1838          -7                  0         39         1917        2047         6          2108       2053         -15                  0               143                  135         90         628                3               0               0           0                0                    0"
      ]
     },
     "execution_count": 8,
     "metadata": {},
     "output_type": "execute_result"
    }
   ],
   "source": [
    "flight_vaex.head()"
   ]
  },
  {
   "cell_type": "code",
   "execution_count": 9,
   "id": "d66bb177",
   "metadata": {},
   "outputs": [
    {
     "data": {
      "text/html": [
       "<style>.vaex-description pre {\n",
       "          max-width : 450px;\n",
       "          white-space : nowrap;\n",
       "          overflow : hidden;\n",
       "          text-overflow: ellipsis;\n",
       "        }\n",
       "\n",
       "        .vex-description pre:hover {\n",
       "          max-width : initial;\n",
       "          white-space: pre;\n",
       "        }</style>"
      ],
      "text/plain": [
       "<IPython.core.display.HTML object>"
      ]
     },
     "metadata": {},
     "output_type": "display_data"
    },
    {
     "data": {
      "text/html": [
       "<div><h2>no-name</h2> <b>rows</b>: 30,132,672</div><h2>Columns:</h2><table class='table-striped'><thead><tr><th>column</th><th>type</th><th>unit</th><th>description</th><th>expression</th></tr></thead><tr><td>Year</td><td>int64</td><td></td><td ><pre></pre></td><td></td></tr><tr><td>Month</td><td>int64</td><td></td><td ><pre></pre></td><td></td></tr><tr><td>DayofMonth</td><td>int64</td><td></td><td ><pre></pre></td><td></td></tr><tr><td>FlightDate</td><td>str</td><td></td><td ><pre></pre></td><td></td></tr><tr><td>Marketing_Airline_Network</td><td>str</td><td></td><td ><pre></pre></td><td></td></tr><tr><td>OriginCityName</td><td>str</td><td></td><td ><pre></pre></td><td></td></tr><tr><td>DestCityName</td><td>str</td><td></td><td ><pre></pre></td><td></td></tr><tr><td>CRSDepTime</td><td>int64</td><td></td><td ><pre></pre></td><td></td></tr><tr><td>DepTime</td><td>float64</td><td></td><td ><pre></pre></td><td></td></tr><tr><td>DepDelay</td><td>float64</td><td></td><td ><pre></pre></td><td></td></tr><tr><td>DepDelayMinutes</td><td>float64</td><td></td><td ><pre></pre></td><td></td></tr><tr><td>TaxiOut</td><td>float64</td><td></td><td ><pre></pre></td><td></td></tr><tr><td>WheelsOff</td><td>float64</td><td></td><td ><pre></pre></td><td></td></tr><tr><td>WheelsOn</td><td>float64</td><td></td><td ><pre></pre></td><td></td></tr><tr><td>TaxiIn</td><td>float64</td><td></td><td ><pre></pre></td><td></td></tr><tr><td>CRSArrTime</td><td>int64</td><td></td><td ><pre></pre></td><td></td></tr><tr><td>ArrTime</td><td>float64</td><td></td><td ><pre></pre></td><td></td></tr><tr><td>ArrDelay</td><td>float64</td><td></td><td ><pre></pre></td><td></td></tr><tr><td>ArrDelayMinutes</td><td>float64</td><td></td><td ><pre></pre></td><td></td></tr><tr><td>CRSElapsedTime</td><td>float64</td><td></td><td ><pre></pre></td><td></td></tr><tr><td>ActualElapsedTime</td><td>float64</td><td></td><td ><pre></pre></td><td></td></tr><tr><td>AirTime</td><td>float64</td><td></td><td ><pre></pre></td><td></td></tr><tr><td>Distance</td><td>float64</td><td></td><td ><pre></pre></td><td></td></tr><tr><td>DistanceGroup</td><td>int64</td><td></td><td ><pre></pre></td><td></td></tr><tr><td>CarrierDelay</td><td>float64</td><td></td><td ><pre></pre></td><td></td></tr><tr><td>WeatherDelay</td><td>float64</td><td></td><td ><pre></pre></td><td></td></tr><tr><td>NASDelay</td><td>float64</td><td></td><td ><pre></pre></td><td></td></tr><tr><td>SecurityDelay</td><td>float64</td><td></td><td ><pre></pre></td><td></td></tr><tr><td>LateAircraftDelay</td><td>float64</td><td></td><td ><pre></pre></td><td></td></tr></table><h2>Data:</h2><table>\n",
       "<thead>\n",
       "<tr><th>#                                     </th><th>Year  </th><th>Month  </th><th>DayofMonth  </th><th>FlightDate  </th><th>Marketing_Airline_Network  </th><th>OriginCityName  </th><th>DestCityName     </th><th>CRSDepTime  </th><th>DepTime  </th><th>DepDelay  </th><th>DepDelayMinutes  </th><th>TaxiOut  </th><th>WheelsOff  </th><th>WheelsOn  </th><th>TaxiIn  </th><th>CRSArrTime  </th><th>ArrTime  </th><th>ArrDelay  </th><th>ArrDelayMinutes  </th><th>CRSElapsedTime  </th><th>ActualElapsedTime  </th><th>AirTime  </th><th>Distance  </th><th>DistanceGroup  </th><th>CarrierDelay  </th><th>WeatherDelay  </th><th>NASDelay  </th><th>SecurityDelay  </th><th>LateAircraftDelay  </th></tr>\n",
       "</thead>\n",
       "<tbody>\n",
       "<tr><td><i style='opacity: 0.6'>0</i>         </td><td>2018  </td><td>1      </td><td>15          </td><td>2018-01-15  </td><td>UA                         </td><td>Newark, NJ      </td><td>Charleston, SC   </td><td>1845        </td><td>1928.0   </td><td>43.0      </td><td>43.0             </td><td>35.0     </td><td>2003.0     </td><td>2145.0    </td><td>4.0     </td><td>2108        </td><td>2149.0   </td><td>41.0      </td><td>41.0             </td><td>143.0           </td><td>141.0              </td><td>102.0    </td><td>628.0     </td><td>3              </td><td>41.0          </td><td>0.0           </td><td>0.0       </td><td>0.0            </td><td>0.0                </td></tr>\n",
       "<tr><td><i style='opacity: 0.6'>1</i>         </td><td>2018  </td><td>1      </td><td>16          </td><td>2018-01-16  </td><td>UA                         </td><td>Newark, NJ      </td><td>Charleston, SC   </td><td>1835        </td><td>1956.0   </td><td>81.0      </td><td>81.0             </td><td>18.0     </td><td>2014.0     </td><td>2202.0    </td><td>5.0     </td><td>2058        </td><td>2207.0   </td><td>69.0      </td><td>69.0             </td><td>143.0           </td><td>131.0              </td><td>108.0    </td><td>628.0     </td><td>3              </td><td>67.0          </td><td>0.0           </td><td>0.0       </td><td>0.0            </td><td>2.0                </td></tr>\n",
       "<tr><td><i style='opacity: 0.6'>2</i>         </td><td>2018  </td><td>1      </td><td>17          </td><td>2018-01-17  </td><td>UA                         </td><td>Newark, NJ      </td><td>Charleston, SC   </td><td>1835        </td><td>1836.0   </td><td>1.0       </td><td>1.0              </td><td>19.0     </td><td>1855.0     </td><td>2048.0    </td><td>6.0     </td><td>2058        </td><td>2054.0   </td><td>-4.0      </td><td>0.0              </td><td>143.0           </td><td>138.0              </td><td>113.0    </td><td>628.0     </td><td>3              </td><td>0.0           </td><td>0.0           </td><td>0.0       </td><td>0.0            </td><td>0.0                </td></tr>\n",
       "<tr><td><i style='opacity: 0.6'>3</i>         </td><td>2018  </td><td>1      </td><td>18          </td><td>2018-01-18  </td><td>UA                         </td><td>Newark, NJ      </td><td>Charleston, SC   </td><td>1845        </td><td>1844.0   </td><td>-1.0      </td><td>0.0              </td><td>36.0     </td><td>1920.0     </td><td>2052.0    </td><td>6.0     </td><td>2108        </td><td>2058.0   </td><td>-10.0     </td><td>0.0              </td><td>143.0           </td><td>134.0              </td><td>92.0     </td><td>628.0     </td><td>3              </td><td>0.0           </td><td>0.0           </td><td>0.0       </td><td>0.0            </td><td>0.0                </td></tr>\n",
       "<tr><td><i style='opacity: 0.6'>4</i>         </td><td>2018  </td><td>1      </td><td>20          </td><td>2018-01-20  </td><td>UA                         </td><td>Newark, NJ      </td><td>Charleston, SC   </td><td>1835        </td><td>1829.0   </td><td>-6.0      </td><td>0.0              </td><td>22.0     </td><td>1851.0     </td><td>2020.0    </td><td>6.0     </td><td>2058        </td><td>2026.0   </td><td>-32.0     </td><td>0.0              </td><td>143.0           </td><td>117.0              </td><td>89.0     </td><td>628.0     </td><td>3              </td><td>0.0           </td><td>0.0           </td><td>0.0       </td><td>0.0            </td><td>0.0                </td></tr>\n",
       "<tr><td>...                                   </td><td>...   </td><td>...    </td><td>...         </td><td>...         </td><td>...                        </td><td>...             </td><td>...              </td><td>...         </td><td>...      </td><td>...       </td><td>...              </td><td>...      </td><td>...        </td><td>...       </td><td>...     </td><td>...         </td><td>...      </td><td>...       </td><td>...              </td><td>...             </td><td>...                </td><td>...      </td><td>...       </td><td>...            </td><td>...           </td><td>...           </td><td>...       </td><td>...            </td><td>...                </td></tr>\n",
       "<tr><td><i style='opacity: 0.6'>30,132,667</i></td><td>2023  </td><td>4      </td><td>26          </td><td>2023-04-26  </td><td>UA                         </td><td>Houston, TX     </td><td>San Francisco, CA</td><td>1234        </td><td>1230.0   </td><td>-4.0      </td><td>0.0              </td><td>19.0     </td><td>1249.0     </td><td>1426.0    </td><td>5.0     </td><td>1452        </td><td>1431.0   </td><td>-21.0     </td><td>0.0              </td><td>258.0           </td><td>241.0              </td><td>217.0    </td><td>1635.0    </td><td>7              </td><td>0.0           </td><td>0.0           </td><td>0.0       </td><td>0.0            </td><td>0.0                </td></tr>\n",
       "<tr><td><i style='opacity: 0.6'>30,132,668</i></td><td>2023  </td><td>4      </td><td>26          </td><td>2023-04-26  </td><td>UA                         </td><td>Chicago, IL     </td><td>Philadelphia, PA </td><td>1104        </td><td>1100.0   </td><td>-4.0      </td><td>0.0              </td><td>18.0     </td><td>1118.0     </td><td>1340.0    </td><td>8.0     </td><td>1412        </td><td>1348.0   </td><td>-24.0     </td><td>0.0              </td><td>128.0           </td><td>108.0              </td><td>82.0     </td><td>678.0     </td><td>3              </td><td>0.0           </td><td>0.0           </td><td>0.0       </td><td>0.0            </td><td>0.0                </td></tr>\n",
       "<tr><td><i style='opacity: 0.6'>30,132,669</i></td><td>2023  </td><td>4      </td><td>26          </td><td>2023-04-26  </td><td>UA                         </td><td>Las Vegas, NV   </td><td>Chicago, IL      </td><td>1249        </td><td>1247.0   </td><td>-2.0      </td><td>0.0              </td><td>17.0     </td><td>1304.0     </td><td>1808.0    </td><td>16.0    </td><td>1829        </td><td>1824.0   </td><td>-5.0      </td><td>0.0              </td><td>220.0           </td><td>217.0              </td><td>184.0    </td><td>1514.0    </td><td>7              </td><td>0.0           </td><td>0.0           </td><td>0.0       </td><td>0.0            </td><td>0.0                </td></tr>\n",
       "<tr><td><i style='opacity: 0.6'>30,132,670</i></td><td>2023  </td><td>4      </td><td>26          </td><td>2023-04-26  </td><td>UA                         </td><td>Miami, FL       </td><td>Newark, NJ       </td><td>751         </td><td>739.0    </td><td>-12.0     </td><td>0.0              </td><td>14.0     </td><td>753.0      </td><td>1017.0    </td><td>20.0    </td><td>1100        </td><td>1037.0   </td><td>-23.0     </td><td>0.0              </td><td>189.0           </td><td>178.0              </td><td>144.0    </td><td>1085.0    </td><td>5              </td><td>0.0           </td><td>0.0           </td><td>0.0       </td><td>0.0            </td><td>0.0                </td></tr>\n",
       "<tr><td><i style='opacity: 0.6'>30,132,671</i></td><td>2023  </td><td>4      </td><td>26          </td><td>2023-04-26  </td><td>UA                         </td><td>Tampa, FL       </td><td>Los Angeles, CA  </td><td>635         </td><td>624.0    </td><td>-11.0     </td><td>0.0              </td><td>11.0     </td><td>635.0      </td><td>836.0     </td><td>8.0     </td><td>855         </td><td>844.0    </td><td>-11.0     </td><td>0.0              </td><td>320.0           </td><td>320.0              </td><td>301.0    </td><td>2158.0    </td><td>9              </td><td>0.0           </td><td>0.0           </td><td>0.0       </td><td>0.0            </td><td>0.0                </td></tr>\n",
       "</tbody>\n",
       "</table>"
      ],
      "text/plain": [
       "<IPython.core.display.HTML object>"
      ]
     },
     "metadata": {},
     "output_type": "display_data"
    }
   ],
   "source": [
    "flight_vaex.info()"
   ]
  },
  {
   "cell_type": "code",
   "execution_count": 10,
   "id": "0aa580f1",
   "metadata": {},
   "outputs": [
    {
     "data": {
      "text/html": [
       "<div>\n",
       "<style scoped>\n",
       "    .dataframe tbody tr th:only-of-type {\n",
       "        vertical-align: middle;\n",
       "    }\n",
       "\n",
       "    .dataframe tbody tr th {\n",
       "        vertical-align: top;\n",
       "    }\n",
       "\n",
       "    .dataframe thead th {\n",
       "        text-align: right;\n",
       "    }\n",
       "</style>\n",
       "<table border=\"1\" class=\"dataframe\">\n",
       "  <thead>\n",
       "    <tr style=\"text-align: right;\">\n",
       "      <th></th>\n",
       "      <th>Year</th>\n",
       "      <th>Month</th>\n",
       "      <th>DayofMonth</th>\n",
       "      <th>FlightDate</th>\n",
       "      <th>Marketing_Airline_Network</th>\n",
       "      <th>OriginCityName</th>\n",
       "      <th>DestCityName</th>\n",
       "      <th>CRSDepTime</th>\n",
       "      <th>DepTime</th>\n",
       "      <th>DepDelay</th>\n",
       "      <th>...</th>\n",
       "      <th>CRSElapsedTime</th>\n",
       "      <th>ActualElapsedTime</th>\n",
       "      <th>AirTime</th>\n",
       "      <th>Distance</th>\n",
       "      <th>DistanceGroup</th>\n",
       "      <th>CarrierDelay</th>\n",
       "      <th>WeatherDelay</th>\n",
       "      <th>NASDelay</th>\n",
       "      <th>SecurityDelay</th>\n",
       "      <th>LateAircraftDelay</th>\n",
       "    </tr>\n",
       "  </thead>\n",
       "  <tbody>\n",
       "    <tr>\n",
       "      <th>data_type</th>\n",
       "      <td>int64</td>\n",
       "      <td>int64</td>\n",
       "      <td>int64</td>\n",
       "      <td>string</td>\n",
       "      <td>string</td>\n",
       "      <td>string</td>\n",
       "      <td>string</td>\n",
       "      <td>int64</td>\n",
       "      <td>float64</td>\n",
       "      <td>float64</td>\n",
       "      <td>...</td>\n",
       "      <td>float64</td>\n",
       "      <td>float64</td>\n",
       "      <td>float64</td>\n",
       "      <td>float64</td>\n",
       "      <td>int64</td>\n",
       "      <td>float64</td>\n",
       "      <td>float64</td>\n",
       "      <td>float64</td>\n",
       "      <td>float64</td>\n",
       "      <td>float64</td>\n",
       "    </tr>\n",
       "    <tr>\n",
       "      <th>count</th>\n",
       "      <td>30132672</td>\n",
       "      <td>30132672</td>\n",
       "      <td>30132672</td>\n",
       "      <td>30132672</td>\n",
       "      <td>30132672</td>\n",
       "      <td>30132672</td>\n",
       "      <td>30132672</td>\n",
       "      <td>30132672</td>\n",
       "      <td>30132672</td>\n",
       "      <td>30132672</td>\n",
       "      <td>...</td>\n",
       "      <td>30132672</td>\n",
       "      <td>30132672</td>\n",
       "      <td>30132672</td>\n",
       "      <td>30132672</td>\n",
       "      <td>30132672</td>\n",
       "      <td>30132672</td>\n",
       "      <td>30132672</td>\n",
       "      <td>30132672</td>\n",
       "      <td>30132672</td>\n",
       "      <td>30132672</td>\n",
       "    </tr>\n",
       "    <tr>\n",
       "      <th>NA</th>\n",
       "      <td>0</td>\n",
       "      <td>0</td>\n",
       "      <td>0</td>\n",
       "      <td>0</td>\n",
       "      <td>0</td>\n",
       "      <td>0</td>\n",
       "      <td>0</td>\n",
       "      <td>0</td>\n",
       "      <td>0</td>\n",
       "      <td>0</td>\n",
       "      <td>...</td>\n",
       "      <td>0</td>\n",
       "      <td>0</td>\n",
       "      <td>0</td>\n",
       "      <td>0</td>\n",
       "      <td>0</td>\n",
       "      <td>0</td>\n",
       "      <td>0</td>\n",
       "      <td>0</td>\n",
       "      <td>0</td>\n",
       "      <td>0</td>\n",
       "    </tr>\n",
       "    <tr>\n",
       "      <th>mean</th>\n",
       "      <td>2020.0914400156746</td>\n",
       "      <td>6.297564417785452</td>\n",
       "      <td>15.722973754202748</td>\n",
       "      <td>--</td>\n",
       "      <td>--</td>\n",
       "      <td>--</td>\n",
       "      <td>--</td>\n",
       "      <td>1322.7355737652472</td>\n",
       "      <td>1327.2451506789707</td>\n",
       "      <td>10.611442025453302</td>\n",
       "      <td>...</td>\n",
       "      <td>138.86781507461401</td>\n",
       "      <td>132.0091763186484</td>\n",
       "      <td>108.05376035022715</td>\n",
       "      <td>776.4743040378231</td>\n",
       "      <td>3.580302735847654</td>\n",
       "      <td>5.050472623204474</td>\n",
       "      <td>0.8417200107577583</td>\n",
       "      <td>2.9941116738668248</td>\n",
       "      <td>0.027410878132546626</td>\n",
       "      <td>5.522570052864877</td>\n",
       "    </tr>\n",
       "    <tr>\n",
       "      <th>std</th>\n",
       "      <td>1.602171</td>\n",
       "      <td>3.487835</td>\n",
       "      <td>8.770224</td>\n",
       "      <td>--</td>\n",
       "      <td>--</td>\n",
       "      <td>--</td>\n",
       "      <td>--</td>\n",
       "      <td>484.012482</td>\n",
       "      <td>498.389035</td>\n",
       "      <td>51.982926</td>\n",
       "      <td>...</td>\n",
       "      <td>70.961497</td>\n",
       "      <td>70.61227</td>\n",
       "      <td>68.726209</td>\n",
       "      <td>582.331462</td>\n",
       "      <td>2.291205</td>\n",
       "      <td>33.700239</td>\n",
       "      <td>15.09353</td>\n",
       "      <td>16.642516</td>\n",
       "      <td>1.650743</td>\n",
       "      <td>27.517373</td>\n",
       "    </tr>\n",
       "    <tr>\n",
       "      <th>min</th>\n",
       "      <td>2018</td>\n",
       "      <td>1</td>\n",
       "      <td>1</td>\n",
       "      <td>--</td>\n",
       "      <td>--</td>\n",
       "      <td>--</td>\n",
       "      <td>--</td>\n",
       "      <td>1</td>\n",
       "      <td>1.0</td>\n",
       "      <td>-342.0</td>\n",
       "      <td>...</td>\n",
       "      <td>-292.0</td>\n",
       "      <td>4.0</td>\n",
       "      <td>-1412.0</td>\n",
       "      <td>16.0</td>\n",
       "      <td>1</td>\n",
       "      <td>0.0</td>\n",
       "      <td>0.0</td>\n",
       "      <td>0.0</td>\n",
       "      <td>0.0</td>\n",
       "      <td>0.0</td>\n",
       "    </tr>\n",
       "    <tr>\n",
       "      <th>max</th>\n",
       "      <td>2023</td>\n",
       "      <td>12</td>\n",
       "      <td>31</td>\n",
       "      <td>--</td>\n",
       "      <td>--</td>\n",
       "      <td>--</td>\n",
       "      <td>--</td>\n",
       "      <td>2359</td>\n",
       "      <td>2400.0</td>\n",
       "      <td>7223.0</td>\n",
       "      <td>...</td>\n",
       "      <td>1645.0</td>\n",
       "      <td>1604.0</td>\n",
       "      <td>1557.0</td>\n",
       "      <td>5812.0</td>\n",
       "      <td>11</td>\n",
       "      <td>7232.0</td>\n",
       "      <td>2900.0</td>\n",
       "      <td>1848.0</td>\n",
       "      <td>1460.0</td>\n",
       "      <td>2962.0</td>\n",
       "    </tr>\n",
       "  </tbody>\n",
       "</table>\n",
       "<p>7 rows × 29 columns</p>\n",
       "</div>"
      ],
      "text/plain": [
       "                         Year              Month          DayofMonth  \\\n",
       "data_type               int64              int64               int64   \n",
       "count                30132672           30132672            30132672   \n",
       "NA                          0                  0                   0   \n",
       "mean       2020.0914400156746  6.297564417785452  15.722973754202748   \n",
       "std                  1.602171           3.487835            8.770224   \n",
       "min                      2018                  1                   1   \n",
       "max                      2023                 12                  31   \n",
       "\n",
       "          FlightDate Marketing_Airline_Network OriginCityName DestCityName  \\\n",
       "data_type     string                    string         string       string   \n",
       "count       30132672                  30132672       30132672     30132672   \n",
       "NA                 0                         0              0            0   \n",
       "mean              --                        --             --           --   \n",
       "std               --                        --             --           --   \n",
       "min               --                        --             --           --   \n",
       "max               --                        --             --           --   \n",
       "\n",
       "                   CRSDepTime             DepTime            DepDelay  ...  \\\n",
       "data_type               int64             float64             float64  ...   \n",
       "count                30132672            30132672            30132672  ...   \n",
       "NA                          0                   0                   0  ...   \n",
       "mean       1322.7355737652472  1327.2451506789707  10.611442025453302  ...   \n",
       "std                484.012482          498.389035           51.982926  ...   \n",
       "min                         1                 1.0              -342.0  ...   \n",
       "max                      2359              2400.0              7223.0  ...   \n",
       "\n",
       "               CRSElapsedTime  ActualElapsedTime             AirTime  \\\n",
       "data_type             float64            float64             float64   \n",
       "count                30132672           30132672            30132672   \n",
       "NA                          0                  0                   0   \n",
       "mean       138.86781507461401  132.0091763186484  108.05376035022715   \n",
       "std                 70.961497           70.61227           68.726209   \n",
       "min                    -292.0                4.0             -1412.0   \n",
       "max                    1645.0             1604.0              1557.0   \n",
       "\n",
       "                    Distance      DistanceGroup       CarrierDelay  \\\n",
       "data_type            float64              int64            float64   \n",
       "count               30132672           30132672           30132672   \n",
       "NA                         0                  0                  0   \n",
       "mean       776.4743040378231  3.580302735847654  5.050472623204474   \n",
       "std               582.331462           2.291205          33.700239   \n",
       "min                     16.0                  1                0.0   \n",
       "max                   5812.0                 11             7232.0   \n",
       "\n",
       "                 WeatherDelay            NASDelay         SecurityDelay  \\\n",
       "data_type             float64             float64               float64   \n",
       "count                30132672            30132672              30132672   \n",
       "NA                          0                   0                     0   \n",
       "mean       0.8417200107577583  2.9941116738668248  0.027410878132546626   \n",
       "std                  15.09353           16.642516              1.650743   \n",
       "min                       0.0                 0.0                   0.0   \n",
       "max                    2900.0              1848.0                1460.0   \n",
       "\n",
       "           LateAircraftDelay  \n",
       "data_type            float64  \n",
       "count               30132672  \n",
       "NA                         0  \n",
       "mean       5.522570052864877  \n",
       "std                27.517373  \n",
       "min                      0.0  \n",
       "max                   2962.0  \n",
       "\n",
       "[7 rows x 29 columns]"
      ]
     },
     "execution_count": 10,
     "metadata": {},
     "output_type": "execute_result"
    }
   ],
   "source": [
    "flight_vaex.describe()"
   ]
  },
  {
   "cell_type": "code",
   "execution_count": 11,
   "id": "aa808ea1",
   "metadata": {},
   "outputs": [],
   "source": [
    "# no null values"
   ]
  },
  {
   "cell_type": "code",
   "execution_count": 12,
   "id": "bf5e309b",
   "metadata": {},
   "outputs": [],
   "source": [
    "count_na = []\n",
    "for col in flight_vaex.column_names:\n",
    "    count_na.append(flight_vaex[col].isna().sum().item())\n",
    "na = pd.Series(data=count_na, index=flight_vaex.column_names)"
   ]
  },
  {
   "cell_type": "code",
   "execution_count": 13,
   "id": "ab145d3c",
   "metadata": {},
   "outputs": [
    {
     "data": {
      "text/plain": [
       "Year                         0\n",
       "Month                        0\n",
       "DayofMonth                   0\n",
       "FlightDate                   0\n",
       "Marketing_Airline_Network    0\n",
       "OriginCityName               0\n",
       "DestCityName                 0\n",
       "CRSDepTime                   0\n",
       "DepTime                      0\n",
       "DepDelay                     0\n",
       "DepDelayMinutes              0\n",
       "TaxiOut                      0\n",
       "WheelsOff                    0\n",
       "WheelsOn                     0\n",
       "TaxiIn                       0\n",
       "CRSArrTime                   0\n",
       "ArrTime                      0\n",
       "ArrDelay                     0\n",
       "ArrDelayMinutes              0\n",
       "CRSElapsedTime               0\n",
       "ActualElapsedTime            0\n",
       "AirTime                      0\n",
       "Distance                     0\n",
       "DistanceGroup                0\n",
       "CarrierDelay                 0\n",
       "WeatherDelay                 0\n",
       "NASDelay                     0\n",
       "SecurityDelay                0\n",
       "LateAircraftDelay            0\n",
       "dtype: int64"
      ]
     },
     "execution_count": 13,
     "metadata": {},
     "output_type": "execute_result"
    }
   ],
   "source": [
    "na"
   ]
  },
  {
   "cell_type": "code",
   "execution_count": 14,
   "id": "ba6e2b20",
   "metadata": {},
   "outputs": [],
   "source": [
    "# Year Column"
   ]
  },
  {
   "cell_type": "code",
   "execution_count": 15,
   "id": "36b5dbb5",
   "metadata": {},
   "outputs": [
    {
     "data": {
      "text/plain": [
       "[2021, 2022, 2018, 2020, 2023, 2019]"
      ]
     },
     "execution_count": 15,
     "metadata": {},
     "output_type": "execute_result"
    }
   ],
   "source": [
    "flight_vaex.Year.unique()"
   ]
  },
  {
   "cell_type": "code",
   "execution_count": 16,
   "id": "8faa374a",
   "metadata": {},
   "outputs": [],
   "source": [
    "# Marketing Airline network"
   ]
  },
  {
   "cell_type": "code",
   "execution_count": 17,
   "id": "c2cfabc2",
   "metadata": {},
   "outputs": [
    {
     "data": {
      "text/plain": [
       "['F9', 'DL', 'AA', 'HA', 'WN', 'B6', 'VX', 'AS', 'G4', 'NK', 'UA']"
      ]
     },
     "execution_count": 17,
     "metadata": {},
     "output_type": "execute_result"
    }
   ],
   "source": [
    "flight_vaex.Marketing_Airline_Network.unique()"
   ]
  },
  {
   "cell_type": "code",
   "execution_count": 18,
   "id": "485fed9a",
   "metadata": {},
   "outputs": [],
   "source": [
    "# Origin City Name"
   ]
  },
  {
   "cell_type": "code",
   "execution_count": 19,
   "id": "364ead91",
   "metadata": {},
   "outputs": [
    {
     "data": {
      "text/plain": [
       "['Tulsa, OK',\n",
       " 'St. Louis, MO',\n",
       " 'Burbank, CA',\n",
       " 'St. George, UT',\n",
       " 'Traverse City, MI',\n",
       " 'Valparaiso, FL',\n",
       " 'Las Vegas, NV',\n",
       " 'Kalispell, MT',\n",
       " 'Hilton Head, SC',\n",
       " 'Gulfport/Biloxi, MS',\n",
       " 'Panama City, FL',\n",
       " 'Raleigh/Durham, NC',\n",
       " 'Rock Springs, WY',\n",
       " 'Champaign/Urbana, IL',\n",
       " 'Staunton, VA',\n",
       " 'Norfolk, VA',\n",
       " 'Presque Isle/Houlton, ME',\n",
       " 'Orlando, FL',\n",
       " 'Fayetteville, AR',\n",
       " 'Oklahoma City, OK',\n",
       " 'Bemidji, MN',\n",
       " 'Laramie, WY',\n",
       " 'Portsmouth, NH',\n",
       " 'Nantucket, MA',\n",
       " 'Kansas City, MO',\n",
       " 'Albany, NY',\n",
       " 'Lewiston, ID',\n",
       " 'Quincy, IL',\n",
       " 'Kalamazoo, MI',\n",
       " 'Gunnison, CO',\n",
       " 'Flint, MI',\n",
       " 'Dubuque, IA',\n",
       " 'Sanford, FL',\n",
       " 'Myrtle Beach, SC',\n",
       " 'Anchorage, AK',\n",
       " 'Sitka, AK',\n",
       " 'Hyannis, MA',\n",
       " 'Madison, WI',\n",
       " 'Boise, ID',\n",
       " 'Amarillo, TX',\n",
       " 'Yakutat, AK',\n",
       " 'Nome, AK',\n",
       " 'CONCORD, NC',\n",
       " 'Asheville, NC',\n",
       " 'Eagle, CO',\n",
       " 'El Paso, TX',\n",
       " 'Pocatello, ID',\n",
       " 'Iron Mountain/Kingsfd, MI',\n",
       " 'Alexandria, LA',\n",
       " 'Charleston, SC',\n",
       " 'Omaha, NE',\n",
       " 'South Bend, IN',\n",
       " 'Grand Forks, ND',\n",
       " 'Milwaukee, WI',\n",
       " 'Bismarck/Mandan, ND',\n",
       " 'Daytona Beach, FL',\n",
       " 'Redding, CA',\n",
       " 'Fort Smith, AR',\n",
       " 'Everett, WA',\n",
       " 'New York, NY',\n",
       " 'Key West, FL',\n",
       " 'Fort Wayne, IN',\n",
       " 'Santa Rosa, CA',\n",
       " 'Columbia, MO',\n",
       " 'Brunswick, GA',\n",
       " 'New Haven, CT',\n",
       " 'Pellston, MI',\n",
       " 'Meridian, MS',\n",
       " 'Lawton/Fort Sill, OK',\n",
       " 'Austin, TX',\n",
       " 'Mission/McAllen/Edinburg, TX',\n",
       " 'Paducah, KY',\n",
       " 'Mosinee, WI',\n",
       " 'Moab, UT',\n",
       " 'Atlanta, GA',\n",
       " 'Memphis, TN',\n",
       " 'Columbus, OH',\n",
       " 'Albuquerque, NM',\n",
       " 'Alpena, MI',\n",
       " 'Hobbs, NM',\n",
       " 'Fort Leonard Wood, MO',\n",
       " 'Philadelphia, PA',\n",
       " 'Syracuse, NY',\n",
       " 'San Diego, CA',\n",
       " 'Dayton, OH',\n",
       " 'Marquette, MI',\n",
       " 'Joplin, MO',\n",
       " 'Dodge City, KS',\n",
       " 'Dallas/Fort Worth, TX',\n",
       " 'Fairbanks, AK',\n",
       " 'Newburgh/Poughkeepsie, NY',\n",
       " 'Duluth, MN',\n",
       " 'Shreveport, LA',\n",
       " 'Eau Claire, WI',\n",
       " 'Barrow, AK',\n",
       " 'Augusta, GA',\n",
       " 'San Juan, PR',\n",
       " 'Montgomery, AL',\n",
       " 'Missoula, MT',\n",
       " 'Unalaska, AK',\n",
       " 'Clarksburg/Fairmont, WV',\n",
       " 'Williamsport, PA',\n",
       " 'Santa Ana, CA',\n",
       " 'Bozeman, MT',\n",
       " 'Wichita, KS',\n",
       " 'Yakima, WA',\n",
       " 'Lanai, HI',\n",
       " 'Arcata/Eureka, CA',\n",
       " 'San Angelo, TX',\n",
       " 'Youngstown/Warren, OH',\n",
       " 'Chicago, IL',\n",
       " 'Huntsville, AL',\n",
       " 'Moline, IL',\n",
       " 'Chattanooga, TN',\n",
       " 'Midland/Odessa, TX',\n",
       " 'International Falls, MN',\n",
       " 'Lexington, KY',\n",
       " 'Denver, CO',\n",
       " 'Santa Barbara, CA',\n",
       " 'Greenville, NC',\n",
       " 'Sheridan, WY',\n",
       " 'Bloomington/Normal, IL',\n",
       " 'Wilmington, NC',\n",
       " 'Deadhorse, AK',\n",
       " 'State College, PA',\n",
       " 'Petersburg, AK',\n",
       " 'Charlottesville, VA',\n",
       " 'Bakersfield, CA',\n",
       " 'Owensboro, KY',\n",
       " 'Alamosa, CO',\n",
       " 'Tucson, AZ',\n",
       " 'Sioux Falls, SD',\n",
       " 'Dallas, TX',\n",
       " 'Cape Girardeau, MO',\n",
       " 'Salisbury, MD',\n",
       " 'St. Cloud, MN',\n",
       " 'Killeen, TX',\n",
       " 'Greensboro/High Point, NC',\n",
       " 'Reno, NV',\n",
       " 'Pensacola, FL',\n",
       " 'Eugene, OR',\n",
       " 'Harlingen/San Benito, TX',\n",
       " 'Pasco/Kennewick/Richland, WA',\n",
       " 'Cincinnati, OH',\n",
       " 'Los Angeles, CA',\n",
       " 'Lynchburg, VA',\n",
       " 'Brownsville, TX',\n",
       " 'Waterloo, IA',\n",
       " 'Rockford, IL',\n",
       " 'Ogdensburg, NY',\n",
       " 'Savannah, GA',\n",
       " 'Medford, OR',\n",
       " 'Grand Junction, CO',\n",
       " 'Jamestown, ND',\n",
       " 'North Bend/Coos Bay, OR',\n",
       " 'Valdosta, GA',\n",
       " 'Allentown/Bethlehem/Easton, PA',\n",
       " 'Cedar City, UT',\n",
       " 'Longview, TX',\n",
       " 'Columbus, GA',\n",
       " 'Honolulu, HI',\n",
       " 'Sacramento, CA',\n",
       " 'Bangor, ME',\n",
       " 'Hays, KS',\n",
       " 'Dillingham, AK',\n",
       " 'Little Rock, AR',\n",
       " 'Wenatchee, WA',\n",
       " 'Scranton/Wilkes-Barre, PA',\n",
       " 'Bethel, AK',\n",
       " 'Detroit, MI',\n",
       " 'Bellingham, WA',\n",
       " 'Butte, MT',\n",
       " 'Beaumont/Port Arthur, TX',\n",
       " 'Minneapolis, MN',\n",
       " 'Elmira/Corning, NY',\n",
       " 'Palm Springs, CA',\n",
       " 'Guam, TT',\n",
       " 'Waco, TX',\n",
       " 'Florence, SC',\n",
       " 'Kotzebue, AK',\n",
       " 'Wichita Falls, TX',\n",
       " 'Liberal, KS',\n",
       " 'Portland, ME',\n",
       " 'Manchester, NH',\n",
       " 'Portland, OR',\n",
       " 'Yuma, AZ',\n",
       " 'Newark, NJ',\n",
       " 'Harrisburg, PA',\n",
       " 'Christiansted, VI',\n",
       " 'Dickinson, ND',\n",
       " 'Tampa, FL',\n",
       " 'San Luis Obispo, CA',\n",
       " 'Wilmington, DE',\n",
       " 'Corpus Christi, TX',\n",
       " 'Evansville, IN',\n",
       " 'Bristol/Johnson City/Kingsport, TN',\n",
       " 'Great Falls, MT',\n",
       " 'Charlotte Amalie, VI',\n",
       " 'Watertown, NY',\n",
       " 'Monroe, LA',\n",
       " 'Stillwater, OK',\n",
       " 'Kahului, HI',\n",
       " 'Gillette, WY',\n",
       " 'Juneau, AK',\n",
       " 'Scottsbluff, NE',\n",
       " 'Cold Bay, AK',\n",
       " 'Ponce, PR',\n",
       " 'New Bern/Morehead/Beaufort, NC',\n",
       " 'Houston, TX',\n",
       " 'Cedar Rapids/Iowa City, IA',\n",
       " 'Salina, KS',\n",
       " 'Gustavus, AK',\n",
       " 'Grand Rapids, MI',\n",
       " 'Muskegon, MI',\n",
       " 'Prescott, AZ',\n",
       " 'Cheyenne, WY',\n",
       " 'Seattle, WA',\n",
       " 'Saginaw/Bay City/Midland, MI',\n",
       " 'Devils Lake, ND',\n",
       " 'Twin Falls, ID',\n",
       " 'Sault Ste. Marie, MI',\n",
       " 'Lansing, MI',\n",
       " 'Adak Island, AK',\n",
       " 'Garden City, KS',\n",
       " 'White Plains, NY',\n",
       " 'Colorado Springs, CO',\n",
       " 'Bullhead City, AZ',\n",
       " 'Johnstown, PA',\n",
       " 'Lafayette, LA',\n",
       " 'Rochester, MN',\n",
       " 'Phoenix, AZ',\n",
       " 'Rapid City, SD',\n",
       " 'Erie, PA',\n",
       " 'Texarkana, AR',\n",
       " 'Watertown, SD',\n",
       " 'Charleston/Dunbar, WV',\n",
       " 'Richmond, VA',\n",
       " 'Tallahassee, FL',\n",
       " 'Long Beach, CA',\n",
       " 'Flagstaff, AZ',\n",
       " 'Lincoln, NE',\n",
       " 'Rochester, NY',\n",
       " 'Lubbock, TX',\n",
       " 'Lake Charles, LA',\n",
       " 'Spokane, WA',\n",
       " 'Provo, UT',\n",
       " 'Buffalo, NY',\n",
       " 'Baltimore, MD',\n",
       " 'Akron, OH',\n",
       " 'Lihue, HI',\n",
       " 'Durango, CO',\n",
       " 'Hoolehua, HI',\n",
       " 'Columbus, MS',\n",
       " 'Hancock/Houghton, MI',\n",
       " 'Saipan, TT',\n",
       " 'Fayetteville, NC',\n",
       " 'Williston, ND',\n",
       " 'Del Rio, TX',\n",
       " 'King Salmon, AK',\n",
       " 'Trenton, NJ',\n",
       " 'Casper, WY',\n",
       " 'Hattiesburg/Laurel, MS',\n",
       " 'Fort Dodge, IA',\n",
       " 'Mobile, AL',\n",
       " 'Washington, DC',\n",
       " 'Monterey, CA',\n",
       " 'Roswell, NM',\n",
       " 'Aberdeen, SD',\n",
       " 'Minot, ND',\n",
       " 'Laredo, TX',\n",
       " 'Jackson/Vicksburg, MS',\n",
       " 'Newport News/Williamsburg, VA',\n",
       " 'Escanaba, MI',\n",
       " 'Pittsburgh, PA',\n",
       " 'Charlotte, NC',\n",
       " 'Billings, MT',\n",
       " 'Hilo, HI',\n",
       " 'Hagerstown, MD',\n",
       " 'Concord, NC',\n",
       " 'Bishop, CA',\n",
       " 'Burlington, VT',\n",
       " 'Louisville, KY',\n",
       " 'Toledo, OH',\n",
       " 'Hibbing, MN',\n",
       " 'Worcester, MA',\n",
       " 'Miami, FL',\n",
       " 'Melbourne, FL',\n",
       " 'Hayden, CO',\n",
       " 'Pullman, WA',\n",
       " 'Mammoth Lakes, CA',\n",
       " 'Columbia, SC',\n",
       " 'Islip, NY',\n",
       " 'San Francisco, CA',\n",
       " 'Ontario, CA',\n",
       " 'Indianapolis, IN',\n",
       " 'Sarasota/Bradenton, FL',\n",
       " 'Oakland, CA',\n",
       " 'Kapalua, HI',\n",
       " 'Brainerd, MN',\n",
       " 'Baton Rouge, LA',\n",
       " 'Fort Myers, FL',\n",
       " 'Green Bay, WI',\n",
       " 'Ithaca/Cortland, NY',\n",
       " 'Aguadilla, PR',\n",
       " 'Bend/Redmond, OR',\n",
       " 'Rhinelander, WI',\n",
       " 'Rota, TT',\n",
       " 'Elko, NV',\n",
       " 'Punta Gorda, FL',\n",
       " \"Martha's Vineyard, MA\",\n",
       " 'Branson, MO',\n",
       " 'West Yellowstone, MT',\n",
       " 'Ketchikan, AK',\n",
       " 'Cordova, AK',\n",
       " 'Abilene, TX',\n",
       " 'Ogden, UT',\n",
       " 'Des Moines, IA',\n",
       " 'New Orleans, LA',\n",
       " 'Sioux City, IA',\n",
       " 'Providence, RI',\n",
       " 'Kona, HI',\n",
       " 'Idaho Falls, ID',\n",
       " 'Greer, SC',\n",
       " 'Fargo, ND',\n",
       " 'Santa Fe, NM',\n",
       " 'Dothan, AL',\n",
       " 'Montrose/Delta, CO',\n",
       " 'Gainesville, FL',\n",
       " 'Jacksonville, FL',\n",
       " 'San Jose, CA',\n",
       " 'Albany, GA',\n",
       " 'Vernal, UT',\n",
       " 'Victoria, TX',\n",
       " 'San Antonio, TX',\n",
       " 'Jacksonville/Camp Lejeune, NC',\n",
       " 'Riverton/Lander, WY',\n",
       " 'Cleveland, OH',\n",
       " 'Birmingham, AL',\n",
       " 'Salt Lake City, UT',\n",
       " 'Aspen, CO',\n",
       " 'Mason City, IA',\n",
       " 'Knoxville, TN',\n",
       " 'Manhattan/Ft. Riley, KS',\n",
       " 'St. Petersburg, FL',\n",
       " 'North Platte, NE',\n",
       " 'Kearney, NE',\n",
       " 'Pierre, SD',\n",
       " 'Springfield, MO',\n",
       " 'Atlantic City, NJ',\n",
       " 'Plattsburgh, NY',\n",
       " 'Decatur, IL',\n",
       " 'Helena, MT',\n",
       " 'Pago Pago, TT',\n",
       " 'Binghamton, NY',\n",
       " 'La Crosse, WI',\n",
       " 'Tyler, TX',\n",
       " 'Stockton, CA',\n",
       " 'Nashville, TN',\n",
       " 'Fort Lauderdale, FL',\n",
       " 'Walla Walla, WA',\n",
       " 'Ashland, WV',\n",
       " 'Appleton, WI',\n",
       " 'Peoria, IL',\n",
       " 'Cody, WY',\n",
       " 'Kodiak, AK',\n",
       " 'Belleville, IL',\n",
       " 'Santa Maria, CA',\n",
       " 'Lewisburg, WV',\n",
       " 'Niagara Falls, NY',\n",
       " 'Springfield, IL',\n",
       " 'College Station/Bryan, TX',\n",
       " 'Hartford, CT',\n",
       " 'Boston, MA',\n",
       " 'Jackson, WY',\n",
       " 'Fresno, CA',\n",
       " 'Sun Valley/Hailey/Ketchum, ID',\n",
       " 'Pueblo, CO',\n",
       " 'West Palm Beach/Palm Beach, FL',\n",
       " 'Latrobe, PA',\n",
       " 'Grand Island, NE',\n",
       " 'Roanoke, VA',\n",
       " 'Wrangell, AK']"
      ]
     },
     "execution_count": 19,
     "metadata": {},
     "output_type": "execute_result"
    }
   ],
   "source": [
    "flight_vaex.OriginCityName.unique()"
   ]
  },
  {
   "cell_type": "code",
   "execution_count": 20,
   "id": "10d68f03",
   "metadata": {},
   "outputs": [],
   "source": [
    "# Destination City Name"
   ]
  },
  {
   "cell_type": "code",
   "execution_count": 21,
   "id": "bf99a733",
   "metadata": {},
   "outputs": [
    {
     "data": {
      "text/plain": [
       "['Tulsa, OK',\n",
       " 'St. Louis, MO',\n",
       " 'Burbank, CA',\n",
       " 'St. George, UT',\n",
       " 'Traverse City, MI',\n",
       " 'Valparaiso, FL',\n",
       " 'Las Vegas, NV',\n",
       " 'Kalispell, MT',\n",
       " 'Hilton Head, SC',\n",
       " 'Panama City, FL',\n",
       " 'Gulfport/Biloxi, MS',\n",
       " 'Raleigh/Durham, NC',\n",
       " 'Rock Springs, WY',\n",
       " 'Champaign/Urbana, IL',\n",
       " 'Staunton, VA',\n",
       " 'Norfolk, VA',\n",
       " 'Presque Isle/Houlton, ME',\n",
       " 'Fayetteville, AR',\n",
       " 'Oklahoma City, OK',\n",
       " 'Orlando, FL',\n",
       " 'Bemidji, MN',\n",
       " 'Laramie, WY',\n",
       " 'Portsmouth, NH',\n",
       " 'Nantucket, MA',\n",
       " 'Kansas City, MO',\n",
       " 'Albany, NY',\n",
       " 'Lewiston, ID',\n",
       " 'Quincy, IL',\n",
       " 'Kalamazoo, MI',\n",
       " 'Gunnison, CO',\n",
       " 'Flint, MI',\n",
       " 'Dubuque, IA',\n",
       " 'Sanford, FL',\n",
       " 'Myrtle Beach, SC',\n",
       " 'Anchorage, AK',\n",
       " 'Sitka, AK',\n",
       " 'Hyannis, MA',\n",
       " 'Amarillo, TX',\n",
       " 'Madison, WI',\n",
       " 'Boise, ID',\n",
       " 'Yakutat, AK',\n",
       " 'Nome, AK',\n",
       " 'CONCORD, NC',\n",
       " 'Asheville, NC',\n",
       " 'Eagle, CO',\n",
       " 'El Paso, TX',\n",
       " 'Pocatello, ID',\n",
       " 'Iron Mountain/Kingsfd, MI',\n",
       " 'Alexandria, LA',\n",
       " 'Charleston, SC',\n",
       " 'Omaha, NE',\n",
       " 'South Bend, IN',\n",
       " 'Grand Forks, ND',\n",
       " 'Milwaukee, WI',\n",
       " 'Bismarck/Mandan, ND',\n",
       " 'Daytona Beach, FL',\n",
       " 'Redding, CA',\n",
       " 'Fort Smith, AR',\n",
       " 'Everett, WA',\n",
       " 'New York, NY',\n",
       " 'Key West, FL',\n",
       " 'Fort Wayne, IN',\n",
       " 'Santa Rosa, CA',\n",
       " 'Columbia, MO',\n",
       " 'Brunswick, GA',\n",
       " 'New Haven, CT',\n",
       " 'Pellston, MI',\n",
       " 'Meridian, MS',\n",
       " 'Lawton/Fort Sill, OK',\n",
       " 'Austin, TX',\n",
       " 'Mission/McAllen/Edinburg, TX',\n",
       " 'Paducah, KY',\n",
       " 'Mosinee, WI',\n",
       " 'Moab, UT',\n",
       " 'Atlanta, GA',\n",
       " 'Memphis, TN',\n",
       " 'Columbus, OH',\n",
       " 'Albuquerque, NM',\n",
       " 'Alpena, MI',\n",
       " 'Hobbs, NM',\n",
       " 'Fort Leonard Wood, MO',\n",
       " 'Philadelphia, PA',\n",
       " 'Syracuse, NY',\n",
       " 'San Diego, CA',\n",
       " 'Dayton, OH',\n",
       " 'Marquette, MI',\n",
       " 'Joplin, MO',\n",
       " 'Dodge City, KS',\n",
       " 'Dallas/Fort Worth, TX',\n",
       " 'Fairbanks, AK',\n",
       " 'Newburgh/Poughkeepsie, NY',\n",
       " 'Duluth, MN',\n",
       " 'Shreveport, LA',\n",
       " 'Eau Claire, WI',\n",
       " 'Barrow, AK',\n",
       " 'Augusta, GA',\n",
       " 'San Juan, PR',\n",
       " 'Montgomery, AL',\n",
       " 'Missoula, MT',\n",
       " 'Unalaska, AK',\n",
       " 'Clarksburg/Fairmont, WV',\n",
       " 'Williamsport, PA',\n",
       " 'Santa Ana, CA',\n",
       " 'Bozeman, MT',\n",
       " 'Wichita, KS',\n",
       " 'Yakima, WA',\n",
       " 'Lanai, HI',\n",
       " 'Arcata/Eureka, CA',\n",
       " 'San Angelo, TX',\n",
       " 'Youngstown/Warren, OH',\n",
       " 'Chicago, IL',\n",
       " 'Huntsville, AL',\n",
       " 'Moline, IL',\n",
       " 'Chattanooga, TN',\n",
       " 'Midland/Odessa, TX',\n",
       " 'International Falls, MN',\n",
       " 'Lexington, KY',\n",
       " 'Denver, CO',\n",
       " 'Santa Barbara, CA',\n",
       " 'Greenville, NC',\n",
       " 'Sheridan, WY',\n",
       " 'Bloomington/Normal, IL',\n",
       " 'Wilmington, NC',\n",
       " 'Deadhorse, AK',\n",
       " 'State College, PA',\n",
       " 'Petersburg, AK',\n",
       " 'Charlottesville, VA',\n",
       " 'Bakersfield, CA',\n",
       " 'Owensboro, KY',\n",
       " 'Alamosa, CO',\n",
       " 'Sioux Falls, SD',\n",
       " 'Tucson, AZ',\n",
       " 'Dallas, TX',\n",
       " 'Cape Girardeau, MO',\n",
       " 'Salisbury, MD',\n",
       " 'St. Cloud, MN',\n",
       " 'Killeen, TX',\n",
       " 'Greensboro/High Point, NC',\n",
       " 'Reno, NV',\n",
       " 'Pensacola, FL',\n",
       " 'Eugene, OR',\n",
       " 'Harlingen/San Benito, TX',\n",
       " 'Pasco/Kennewick/Richland, WA',\n",
       " 'Cincinnati, OH',\n",
       " 'Los Angeles, CA',\n",
       " 'Lynchburg, VA',\n",
       " 'Brownsville, TX',\n",
       " 'Waterloo, IA',\n",
       " 'Rockford, IL',\n",
       " 'Ogdensburg, NY',\n",
       " 'Savannah, GA',\n",
       " 'Medford, OR',\n",
       " 'Grand Junction, CO',\n",
       " 'Jamestown, ND',\n",
       " 'North Bend/Coos Bay, OR',\n",
       " 'Valdosta, GA',\n",
       " 'Allentown/Bethlehem/Easton, PA',\n",
       " 'Cedar City, UT',\n",
       " 'Longview, TX',\n",
       " 'Columbus, GA',\n",
       " 'Sacramento, CA',\n",
       " 'Honolulu, HI',\n",
       " 'Bangor, ME',\n",
       " 'Hays, KS',\n",
       " 'Dillingham, AK',\n",
       " 'Little Rock, AR',\n",
       " 'Scranton/Wilkes-Barre, PA',\n",
       " 'Wenatchee, WA',\n",
       " 'Bethel, AK',\n",
       " 'Detroit, MI',\n",
       " 'Bellingham, WA',\n",
       " 'Butte, MT',\n",
       " 'Beaumont/Port Arthur, TX',\n",
       " 'Minneapolis, MN',\n",
       " 'Elmira/Corning, NY',\n",
       " 'Palm Springs, CA',\n",
       " 'Guam, TT',\n",
       " 'Waco, TX',\n",
       " 'Florence, SC',\n",
       " 'Kotzebue, AK',\n",
       " 'Wichita Falls, TX',\n",
       " 'Liberal, KS',\n",
       " 'Portland, ME',\n",
       " 'Manchester, NH',\n",
       " 'Portland, OR',\n",
       " 'Yuma, AZ',\n",
       " 'Newark, NJ',\n",
       " 'Harrisburg, PA',\n",
       " 'Christiansted, VI',\n",
       " 'Dickinson, ND',\n",
       " 'Tampa, FL',\n",
       " 'San Luis Obispo, CA',\n",
       " 'Wilmington, DE',\n",
       " 'Evansville, IN',\n",
       " 'Bristol/Johnson City/Kingsport, TN',\n",
       " 'Corpus Christi, TX',\n",
       " 'Great Falls, MT',\n",
       " 'Charlotte Amalie, VI',\n",
       " 'Watertown, NY',\n",
       " 'Monroe, LA',\n",
       " 'Stillwater, OK',\n",
       " 'Kahului, HI',\n",
       " 'Gillette, WY',\n",
       " 'Juneau, AK',\n",
       " 'Scottsbluff, NE',\n",
       " 'Cold Bay, AK',\n",
       " 'New Bern/Morehead/Beaufort, NC',\n",
       " 'Ponce, PR',\n",
       " 'Houston, TX',\n",
       " 'Cedar Rapids/Iowa City, IA',\n",
       " 'Salina, KS',\n",
       " 'Gustavus, AK',\n",
       " 'Grand Rapids, MI',\n",
       " 'Muskegon, MI',\n",
       " 'Prescott, AZ',\n",
       " 'Cheyenne, WY',\n",
       " 'Seattle, WA',\n",
       " 'Saginaw/Bay City/Midland, MI',\n",
       " 'Devils Lake, ND',\n",
       " 'Sault Ste. Marie, MI',\n",
       " 'Twin Falls, ID',\n",
       " 'Lansing, MI',\n",
       " 'Adak Island, AK',\n",
       " 'Garden City, KS',\n",
       " 'White Plains, NY',\n",
       " 'Colorado Springs, CO',\n",
       " 'Bullhead City, AZ',\n",
       " 'Johnstown, PA',\n",
       " 'Rochester, MN',\n",
       " 'Phoenix, AZ',\n",
       " 'Lafayette, LA',\n",
       " 'Rapid City, SD',\n",
       " 'Erie, PA',\n",
       " 'Texarkana, AR',\n",
       " 'Watertown, SD',\n",
       " 'Charleston/Dunbar, WV',\n",
       " 'Richmond, VA',\n",
       " 'Tallahassee, FL',\n",
       " 'Long Beach, CA',\n",
       " 'Flagstaff, AZ',\n",
       " 'Lincoln, NE',\n",
       " 'Rochester, NY',\n",
       " 'Lubbock, TX',\n",
       " 'Lake Charles, LA',\n",
       " 'Spokane, WA',\n",
       " 'Provo, UT',\n",
       " 'Buffalo, NY',\n",
       " 'Baltimore, MD',\n",
       " 'Akron, OH',\n",
       " 'Lihue, HI',\n",
       " 'Durango, CO',\n",
       " 'Hoolehua, HI',\n",
       " 'Columbus, MS',\n",
       " 'Hancock/Houghton, MI',\n",
       " 'Saipan, TT',\n",
       " 'Fayetteville, NC',\n",
       " 'Williston, ND',\n",
       " 'Del Rio, TX',\n",
       " 'King Salmon, AK',\n",
       " 'Trenton, NJ',\n",
       " 'Casper, WY',\n",
       " 'Hattiesburg/Laurel, MS',\n",
       " 'Fort Dodge, IA',\n",
       " 'Washington, DC',\n",
       " 'Mobile, AL',\n",
       " 'Monterey, CA',\n",
       " 'Roswell, NM',\n",
       " 'Aberdeen, SD',\n",
       " 'Minot, ND',\n",
       " 'Laredo, TX',\n",
       " 'Jackson/Vicksburg, MS',\n",
       " 'Newport News/Williamsburg, VA',\n",
       " 'Escanaba, MI',\n",
       " 'Charlotte, NC',\n",
       " 'Pittsburgh, PA',\n",
       " 'Hilo, HI',\n",
       " 'Billings, MT',\n",
       " 'Concord, NC',\n",
       " 'Hagerstown, MD',\n",
       " 'Bishop, CA',\n",
       " 'Louisville, KY',\n",
       " 'Burlington, VT',\n",
       " 'Hibbing, MN',\n",
       " 'Toledo, OH',\n",
       " 'Worcester, MA',\n",
       " 'Miami, FL',\n",
       " 'Melbourne, FL',\n",
       " 'Hayden, CO',\n",
       " 'Pullman, WA',\n",
       " 'Mammoth Lakes, CA',\n",
       " 'Indianapolis, IN',\n",
       " 'Columbia, SC',\n",
       " 'Islip, NY',\n",
       " 'San Francisco, CA',\n",
       " 'Ontario, CA',\n",
       " 'Oakland, CA',\n",
       " 'Sarasota/Bradenton, FL',\n",
       " 'Kapalua, HI',\n",
       " 'Brainerd, MN',\n",
       " 'Baton Rouge, LA',\n",
       " 'Fort Myers, FL',\n",
       " 'Green Bay, WI',\n",
       " 'Ithaca/Cortland, NY',\n",
       " 'Bend/Redmond, OR',\n",
       " 'Rhinelander, WI',\n",
       " 'Aguadilla, PR',\n",
       " 'Rota, TT',\n",
       " 'Elko, NV',\n",
       " 'Punta Gorda, FL',\n",
       " \"Martha's Vineyard, MA\",\n",
       " 'Branson, MO',\n",
       " 'West Yellowstone, MT',\n",
       " 'Cordova, AK',\n",
       " 'Ketchikan, AK',\n",
       " 'Abilene, TX',\n",
       " 'Ogden, UT',\n",
       " 'Des Moines, IA',\n",
       " 'New Orleans, LA',\n",
       " 'Sioux City, IA',\n",
       " 'Providence, RI',\n",
       " 'Kona, HI',\n",
       " 'Idaho Falls, ID',\n",
       " 'Greer, SC',\n",
       " 'Fargo, ND',\n",
       " 'Santa Fe, NM',\n",
       " 'Dothan, AL',\n",
       " 'Montrose/Delta, CO',\n",
       " 'Gainesville, FL',\n",
       " 'Jacksonville, FL',\n",
       " 'San Jose, CA',\n",
       " 'Albany, GA',\n",
       " 'Vernal, UT',\n",
       " 'Victoria, TX',\n",
       " 'San Antonio, TX',\n",
       " 'Jacksonville/Camp Lejeune, NC',\n",
       " 'Riverton/Lander, WY',\n",
       " 'Cleveland, OH',\n",
       " 'Birmingham, AL',\n",
       " 'Salt Lake City, UT',\n",
       " 'Aspen, CO',\n",
       " 'Mason City, IA',\n",
       " 'Knoxville, TN',\n",
       " 'Manhattan/Ft. Riley, KS',\n",
       " 'St. Petersburg, FL',\n",
       " 'Kearney, NE',\n",
       " 'North Platte, NE',\n",
       " 'Pierre, SD',\n",
       " 'Springfield, MO',\n",
       " 'Atlantic City, NJ',\n",
       " 'Plattsburgh, NY',\n",
       " 'Decatur, IL',\n",
       " 'Helena, MT',\n",
       " 'Pago Pago, TT',\n",
       " 'Binghamton, NY',\n",
       " 'La Crosse, WI',\n",
       " 'Tyler, TX',\n",
       " 'Stockton, CA',\n",
       " 'Nashville, TN',\n",
       " 'Fort Lauderdale, FL',\n",
       " 'Walla Walla, WA',\n",
       " 'Ashland, WV',\n",
       " 'Appleton, WI',\n",
       " 'Peoria, IL',\n",
       " 'Cody, WY',\n",
       " 'Kodiak, AK',\n",
       " 'Belleville, IL',\n",
       " 'Santa Maria, CA',\n",
       " 'Lewisburg, WV',\n",
       " 'Springfield, IL',\n",
       " 'College Station/Bryan, TX',\n",
       " 'Niagara Falls, NY',\n",
       " 'Boston, MA',\n",
       " 'Hartford, CT',\n",
       " 'Jackson, WY',\n",
       " 'Fresno, CA',\n",
       " 'Sun Valley/Hailey/Ketchum, ID',\n",
       " 'Pueblo, CO',\n",
       " 'West Palm Beach/Palm Beach, FL',\n",
       " 'Latrobe, PA',\n",
       " 'Roanoke, VA',\n",
       " 'Grand Island, NE',\n",
       " 'Wrangell, AK']"
      ]
     },
     "execution_count": 21,
     "metadata": {},
     "output_type": "execute_result"
    }
   ],
   "source": [
    "flight_vaex.DestCityName.unique()"
   ]
  },
  {
   "cell_type": "code",
   "execution_count": 22,
   "id": "764cdcd6",
   "metadata": {},
   "outputs": [],
   "source": [
    "# CRSDep Time, CRS(scheduled) Departure Time (local time: hhmm)"
   ]
  },
  {
   "cell_type": "code",
   "execution_count": 23,
   "id": "978d4b7b",
   "metadata": {},
   "outputs": [
    {
     "data": {
      "text/plain": [
       "Expression = CRSDepTime\n",
       "Length: 30,132,672 dtype: int64 (column)\n",
       "----------------------------------------\n",
       "       0  1845\n",
       "       1  1835\n",
       "       2  1835\n",
       "       3  1845\n",
       "       4  1835\n",
       "     ...      \n",
       "30132667  1234\n",
       "30132668  1104\n",
       "30132669  1249\n",
       "30132670   751\n",
       "30132671   635"
      ]
     },
     "execution_count": 23,
     "metadata": {},
     "output_type": "execute_result"
    }
   ],
   "source": [
    "flight_vaex.CRSDepTime"
   ]
  },
  {
   "cell_type": "code",
   "execution_count": 24,
   "id": "1125f054",
   "metadata": {},
   "outputs": [],
   "source": [
    "#  Dep  Time, Actual Departure Time (local time: hhmm)"
   ]
  },
  {
   "cell_type": "code",
   "execution_count": 25,
   "id": "0fb58ba4",
   "metadata": {},
   "outputs": [
    {
     "data": {
      "text/plain": [
       "Expression = DepTime\n",
       "Length: 30,132,672 dtype: float64 (column)\n",
       "------------------------------------------\n",
       "       0  1928\n",
       "       1  1956\n",
       "       2  1836\n",
       "       3  1844\n",
       "       4  1829\n",
       "     ...      \n",
       "30132667  1230\n",
       "30132668  1100\n",
       "30132669  1247\n",
       "30132670   739\n",
       "30132671   624"
      ]
     },
     "execution_count": 25,
     "metadata": {},
     "output_type": "execute_result"
    }
   ],
   "source": [
    "flight_vaex.DepTime"
   ]
  },
  {
   "cell_type": "code",
   "execution_count": 26,
   "id": "865059fc",
   "metadata": {},
   "outputs": [],
   "source": [
    "# DepDelay (Difference in minutes between scheduled and actual departure time. Early departures show negative numbers.)"
   ]
  },
  {
   "cell_type": "code",
   "execution_count": 27,
   "id": "1add3de0",
   "metadata": {},
   "outputs": [
    {
     "data": {
      "text/plain": [
       "Expression = DepDelay\n",
       "Length: 30,132,672 dtype: float64 (column)\n",
       "------------------------------------------\n",
       "       0   43\n",
       "       1   81\n",
       "       2    1\n",
       "       3   -1\n",
       "       4   -6\n",
       "     ...     \n",
       "30132667   -4\n",
       "30132668   -4\n",
       "30132669   -2\n",
       "30132670  -12\n",
       "30132671  -11"
      ]
     },
     "execution_count": 27,
     "metadata": {},
     "output_type": "execute_result"
    }
   ],
   "source": [
    "flight_vaex.DepDelay"
   ]
  },
  {
   "cell_type": "code",
   "execution_count": 28,
   "id": "cb4d1b0e",
   "metadata": {},
   "outputs": [],
   "source": [
    "# DepDelayMinutes (Difference in minutes between scheduled and actual departure time. Early departures set to 0.)"
   ]
  },
  {
   "cell_type": "code",
   "execution_count": 29,
   "id": "557067d5",
   "metadata": {},
   "outputs": [
    {
     "data": {
      "text/plain": [
       "Expression = DepDelayMinutes\n",
       "Length: 30,132,672 dtype: float64 (column)\n",
       "------------------------------------------\n",
       "       0  43\n",
       "       1  81\n",
       "       2   1\n",
       "       3   0\n",
       "       4   0\n",
       "    ...     \n",
       "30132667   0\n",
       "30132668   0\n",
       "30132669   0\n",
       "30132670   0\n",
       "30132671   0"
      ]
     },
     "execution_count": 29,
     "metadata": {},
     "output_type": "execute_result"
    }
   ],
   "source": [
    "flight_vaex.DepDelayMinutes"
   ]
  },
  {
   "cell_type": "code",
   "execution_count": 30,
   "id": "82ebbb03",
   "metadata": {},
   "outputs": [],
   "source": [
    "# Taxi out (Taxi Out Time refers to the duration an aircraft spends taxiing from the gate or terminal to the runway before taking off, in Minutes)"
   ]
  },
  {
   "cell_type": "code",
   "execution_count": 31,
   "id": "3ea271d0",
   "metadata": {},
   "outputs": [
    {
     "data": {
      "text/plain": [
       "Expression = TaxiOut\n",
       "Length: 30,132,672 dtype: float64 (column)\n",
       "------------------------------------------\n",
       "       0  35\n",
       "       1  18\n",
       "       2  19\n",
       "       3  36\n",
       "       4  22\n",
       "    ...     \n",
       "30132667  19\n",
       "30132668  18\n",
       "30132669  17\n",
       "30132670  14\n",
       "30132671  11"
      ]
     },
     "execution_count": 31,
     "metadata": {},
     "output_type": "execute_result"
    }
   ],
   "source": [
    "flight_vaex.TaxiOut"
   ]
  },
  {
   "cell_type": "code",
   "execution_count": 32,
   "id": "c0a7344e",
   "metadata": {},
   "outputs": [],
   "source": [
    "# WheelsOff (\"Wheels-Off Time\" refers to the exact moment when an aircraft's wheels leave the ground during takeoff. (local time: hhmm))"
   ]
  },
  {
   "cell_type": "code",
   "execution_count": 33,
   "id": "c2fbcb80",
   "metadata": {},
   "outputs": [
    {
     "data": {
      "text/plain": [
       "Expression = WheelsOff\n",
       "Length: 30,132,672 dtype: float64 (column)\n",
       "------------------------------------------\n",
       "       0  2003\n",
       "       1  2014\n",
       "       2  1855\n",
       "       3  1920\n",
       "       4  1851\n",
       "     ...      \n",
       "30132667  1249\n",
       "30132668  1118\n",
       "30132669  1304\n",
       "30132670   753\n",
       "30132671   635"
      ]
     },
     "execution_count": 33,
     "metadata": {},
     "output_type": "execute_result"
    }
   ],
   "source": [
    "flight_vaex.WheelsOff"
   ]
  },
  {
   "cell_type": "code",
   "execution_count": 34,
   "id": "07644813",
   "metadata": {},
   "outputs": [],
   "source": [
    "# WheelsOn (\"Wheels-On Time\" refers to the exact moment when an aircraft's wheels make contact with the runway during landing. (local time: hhmm))"
   ]
  },
  {
   "cell_type": "code",
   "execution_count": 35,
   "id": "86222e02",
   "metadata": {},
   "outputs": [
    {
     "data": {
      "text/plain": [
       "Expression = WheelsOn\n",
       "Length: 30,132,672 dtype: float64 (column)\n",
       "------------------------------------------\n",
       "       0  2145\n",
       "       1  2202\n",
       "       2  2048\n",
       "       3  2052\n",
       "       4  2020\n",
       "     ...      \n",
       "30132667  1426\n",
       "30132668  1340\n",
       "30132669  1808\n",
       "30132670  1017\n",
       "30132671   836"
      ]
     },
     "execution_count": 35,
     "metadata": {},
     "output_type": "execute_result"
    }
   ],
   "source": [
    "flight_vaex.WheelsOn"
   ]
  },
  {
   "cell_type": "code",
   "execution_count": 36,
   "id": "93c66179",
   "metadata": {},
   "outputs": [],
   "source": [
    "# Taxi in (Taxi In Time is the duration an aircraft spends taxiing from the runway to the gate or terminal after landing, in Minutes)"
   ]
  },
  {
   "cell_type": "code",
   "execution_count": 37,
   "id": "d6c29872",
   "metadata": {},
   "outputs": [
    {
     "data": {
      "text/plain": [
       "Expression = TaxiIn\n",
       "Length: 30,132,672 dtype: float64 (column)\n",
       "------------------------------------------\n",
       "       0   4\n",
       "       1   5\n",
       "       2   6\n",
       "       3   6\n",
       "       4   6\n",
       "    ...     \n",
       "30132667   5\n",
       "30132668   8\n",
       "30132669  16\n",
       "30132670  20\n",
       "30132671   8"
      ]
     },
     "execution_count": 37,
     "metadata": {},
     "output_type": "execute_result"
    }
   ],
   "source": [
    "flight_vaex.TaxiIn"
   ]
  },
  {
   "cell_type": "code",
   "execution_count": 38,
   "id": "d55d6204",
   "metadata": {},
   "outputs": [],
   "source": [
    "# CRSARRtime (CRS(scheduled) Arrival Time (local time: hhmm))"
   ]
  },
  {
   "cell_type": "code",
   "execution_count": 39,
   "id": "ab48e811",
   "metadata": {},
   "outputs": [
    {
     "data": {
      "text/plain": [
       "Expression = CRSArrTime\n",
       "Length: 30,132,672 dtype: int64 (column)\n",
       "----------------------------------------\n",
       "       0  2108\n",
       "       1  2058\n",
       "       2  2058\n",
       "       3  2108\n",
       "       4  2058\n",
       "     ...      \n",
       "30132667  1452\n",
       "30132668  1412\n",
       "30132669  1829\n",
       "30132670  1100\n",
       "30132671   855"
      ]
     },
     "execution_count": 39,
     "metadata": {},
     "output_type": "execute_result"
    }
   ],
   "source": [
    "flight_vaex.CRSArrTime"
   ]
  },
  {
   "cell_type": "code",
   "execution_count": 40,
   "id": "b05c14f0",
   "metadata": {},
   "outputs": [],
   "source": [
    "# ArrTime (Actual Arrival Time (local time: hhmm))"
   ]
  },
  {
   "cell_type": "code",
   "execution_count": 41,
   "id": "5efd6480",
   "metadata": {},
   "outputs": [
    {
     "data": {
      "text/plain": [
       "Expression = ArrTime\n",
       "Length: 30,132,672 dtype: float64 (column)\n",
       "------------------------------------------\n",
       "       0  2149\n",
       "       1  2207\n",
       "       2  2054\n",
       "       3  2058\n",
       "       4  2026\n",
       "     ...      \n",
       "30132667  1431\n",
       "30132668  1348\n",
       "30132669  1824\n",
       "30132670  1037\n",
       "30132671   844"
      ]
     },
     "execution_count": 41,
     "metadata": {},
     "output_type": "execute_result"
    }
   ],
   "source": [
    "flight_vaex.ArrTime"
   ]
  },
  {
   "cell_type": "code",
   "execution_count": 42,
   "id": "96f29a7f",
   "metadata": {},
   "outputs": [],
   "source": [
    "# ArrDelay (Difference in minutes between scheduled and actual arrival time. Early arrivals show negative numbers.)"
   ]
  },
  {
   "cell_type": "code",
   "execution_count": 43,
   "id": "161e8542",
   "metadata": {},
   "outputs": [
    {
     "data": {
      "text/plain": [
       "Expression = ArrDelay\n",
       "Length: 30,132,672 dtype: float64 (column)\n",
       "------------------------------------------\n",
       "       0   41\n",
       "       1   69\n",
       "       2   -4\n",
       "       3  -10\n",
       "       4  -32\n",
       "     ...     \n",
       "30132667  -21\n",
       "30132668  -24\n",
       "30132669   -5\n",
       "30132670  -23\n",
       "30132671  -11"
      ]
     },
     "execution_count": 43,
     "metadata": {},
     "output_type": "execute_result"
    }
   ],
   "source": [
    "flight_vaex.ArrDelay"
   ]
  },
  {
   "cell_type": "code",
   "execution_count": 44,
   "id": "97d028be",
   "metadata": {},
   "outputs": [],
   "source": [
    "# ArrDelayMinutes (Difference in minutes between scheduled and actual arrival time. Early arrivals set to 0.)"
   ]
  },
  {
   "cell_type": "code",
   "execution_count": 45,
   "id": "988a21b8",
   "metadata": {},
   "outputs": [
    {
     "data": {
      "text/plain": [
       "Expression = ArrDelayMinutes\n",
       "Length: 30,132,672 dtype: float64 (column)\n",
       "------------------------------------------\n",
       "       0  41\n",
       "       1  69\n",
       "       2   0\n",
       "       3   0\n",
       "       4   0\n",
       "    ...     \n",
       "30132667   0\n",
       "30132668   0\n",
       "30132669   0\n",
       "30132670   0\n",
       "30132671   0"
      ]
     },
     "execution_count": 45,
     "metadata": {},
     "output_type": "execute_result"
    }
   ],
   "source": [
    "flight_vaex.ArrDelayMinutes"
   ]
  },
  {
   "cell_type": "code",
   "execution_count": 46,
   "id": "3d9114bc",
   "metadata": {},
   "outputs": [],
   "source": [
    "# CRSElapsedTime (CRS(scheduled) Elapsed Time of Flight, in Minutes)"
   ]
  },
  {
   "cell_type": "code",
   "execution_count": 47,
   "id": "77259449",
   "metadata": {},
   "outputs": [
    {
     "data": {
      "text/plain": [
       "Expression = CRSElapsedTime\n",
       "Length: 30,132,672 dtype: float64 (column)\n",
       "------------------------------------------\n",
       "       0  143\n",
       "       1  143\n",
       "       2  143\n",
       "       3  143\n",
       "       4  143\n",
       "     ...     \n",
       "30132667  258\n",
       "30132668  128\n",
       "30132669  220\n",
       "30132670  189\n",
       "30132671  320"
      ]
     },
     "execution_count": 47,
     "metadata": {},
     "output_type": "execute_result"
    }
   ],
   "source": [
    "flight_vaex.CRSElapsedTime"
   ]
  },
  {
   "cell_type": "code",
   "execution_count": 48,
   "id": "fa04936a",
   "metadata": {},
   "outputs": [],
   "source": [
    "# Actual Elapsed time (Elapsed Time of Flight, in Minutes)"
   ]
  },
  {
   "cell_type": "code",
   "execution_count": 49,
   "id": "a899f9d1",
   "metadata": {},
   "outputs": [
    {
     "data": {
      "text/plain": [
       "Expression = ActualElapsedTime\n",
       "Length: 30,132,672 dtype: float64 (column)\n",
       "------------------------------------------\n",
       "       0  141\n",
       "       1  131\n",
       "       2  138\n",
       "       3  134\n",
       "       4  117\n",
       "     ...     \n",
       "30132667  241\n",
       "30132668  108\n",
       "30132669  217\n",
       "30132670  178\n",
       "30132671  320"
      ]
     },
     "execution_count": 49,
     "metadata": {},
     "output_type": "execute_result"
    }
   ],
   "source": [
    "flight_vaex.ActualElapsedTime"
   ]
  },
  {
   "cell_type": "code",
   "execution_count": 50,
   "id": "2267e80f",
   "metadata": {},
   "outputs": [],
   "source": [
    "# AirTime (Flight Time, in Minutes)"
   ]
  },
  {
   "cell_type": "code",
   "execution_count": 51,
   "id": "e03389f2",
   "metadata": {},
   "outputs": [
    {
     "data": {
      "text/plain": [
       "Expression = AirTime\n",
       "Length: 30,132,672 dtype: float64 (column)\n",
       "------------------------------------------\n",
       "       0  102\n",
       "       1  108\n",
       "       2  113\n",
       "       3   92\n",
       "       4   89\n",
       "     ...     \n",
       "30132667  217\n",
       "30132668   82\n",
       "30132669  184\n",
       "30132670  144\n",
       "30132671  301"
      ]
     },
     "execution_count": 51,
     "metadata": {},
     "output_type": "execute_result"
    }
   ],
   "source": [
    "flight_vaex.AirTime"
   ]
  },
  {
   "cell_type": "code",
   "execution_count": 52,
   "id": "78301b71",
   "metadata": {},
   "outputs": [],
   "source": [
    "# Distance (Distance between airports (miles))"
   ]
  },
  {
   "cell_type": "code",
   "execution_count": 53,
   "id": "e5afb478",
   "metadata": {},
   "outputs": [
    {
     "data": {
      "text/plain": [
       "Expression = Distance\n",
       "Length: 30,132,672 dtype: float64 (column)\n",
       "------------------------------------------\n",
       "       0   628\n",
       "       1   628\n",
       "       2   628\n",
       "       3   628\n",
       "       4   628\n",
       "     ...      \n",
       "30132667  1635\n",
       "30132668   678\n",
       "30132669  1514\n",
       "30132670  1085\n",
       "30132671  2158"
      ]
     },
     "execution_count": 53,
     "metadata": {},
     "output_type": "execute_result"
    }
   ],
   "source": [
    "flight_vaex.Distance"
   ]
  },
  {
   "cell_type": "code",
   "execution_count": 54,
   "id": "0fe79744",
   "metadata": {},
   "outputs": [],
   "source": [
    "# DistanceGroup (Distance Intervals, every 250 Miles, for Flight Segment)"
   ]
  },
  {
   "cell_type": "code",
   "execution_count": 55,
   "id": "703290b3",
   "metadata": {},
   "outputs": [
    {
     "data": {
      "text/plain": [
       "Expression = DistanceGroup\n",
       "Length: 30,132,672 dtype: int64 (column)\n",
       "----------------------------------------\n",
       "       0  3\n",
       "       1  3\n",
       "       2  3\n",
       "       3  3\n",
       "       4  3\n",
       "    ...    \n",
       "30132667  7\n",
       "30132668  3\n",
       "30132669  7\n",
       "30132670  5\n",
       "30132671  9"
      ]
     },
     "execution_count": 55,
     "metadata": {},
     "output_type": "execute_result"
    }
   ],
   "source": [
    "flight_vaex.DistanceGroup"
   ]
  },
  {
   "cell_type": "code",
   "execution_count": 56,
   "id": "b3ccc3d6",
   "metadata": {},
   "outputs": [],
   "source": [
    "# CarrierDelay (Carrier Delay, in Minutes)"
   ]
  },
  {
   "cell_type": "code",
   "execution_count": 57,
   "id": "8a39fd23",
   "metadata": {
    "scrolled": true
   },
   "outputs": [
    {
     "data": {
      "text/plain": [
       "Expression = CarrierDelay\n",
       "Length: 30,132,672 dtype: float64 (column)\n",
       "------------------------------------------\n",
       "       0  41\n",
       "       1  67\n",
       "       2   0\n",
       "       3   0\n",
       "       4   0\n",
       "    ...     \n",
       "30132667   0\n",
       "30132668   0\n",
       "30132669   0\n",
       "30132670   0\n",
       "30132671   0"
      ]
     },
     "execution_count": 57,
     "metadata": {},
     "output_type": "execute_result"
    }
   ],
   "source": [
    "flight_vaex.CarrierDelay"
   ]
  },
  {
   "cell_type": "code",
   "execution_count": 58,
   "id": "d11eddab",
   "metadata": {
    "scrolled": true
   },
   "outputs": [
    {
     "data": {
      "text/plain": [
       "[0.0,\n",
       " 210.0,\n",
       " 217.0,\n",
       " 313.0,\n",
       " 191.0,\n",
       " 222.0,\n",
       " 433.0,\n",
       " 711.0,\n",
       " 542.0,\n",
       " 926.0,\n",
       " 255.0,\n",
       " 1100.0,\n",
       " 703.0,\n",
       " 565.0,\n",
       " 877.0,\n",
       " 536.0,\n",
       " 766.0,\n",
       " 1105.0,\n",
       " 1202.0,\n",
       " 1050.0,\n",
       " 1199.0,\n",
       " 1704.0,\n",
       " 1494.0,\n",
       " 1341.0,\n",
       " 1856.0,\n",
       " 2294.0,\n",
       " 30.0,\n",
       " 503.0,\n",
       " 157.0,\n",
       " 62.0,\n",
       " 145.0,\n",
       " 43.0,\n",
       " 50.0,\n",
       " 68.0,\n",
       " 806.0,\n",
       " 1179.0,\n",
       " 1454.0,\n",
       " 1009.0,\n",
       " 1168.0,\n",
       " 432.0,\n",
       " 1221.0,\n",
       " 678.0,\n",
       " 1026.0,\n",
       " 1204.0,\n",
       " 2522.0,\n",
       " 1468.0,\n",
       " 2365.0,\n",
       " 2059.0,\n",
       " 6.0,\n",
       " 914.0,\n",
       " 461.0,\n",
       " 473.0,\n",
       " 343.0,\n",
       " 245.0,\n",
       " 566.0,\n",
       " 1223.0,\n",
       " 527.0,\n",
       " 1205.0,\n",
       " 755.0,\n",
       " 1402.0,\n",
       " 1230.0,\n",
       " 1317.0,\n",
       " 1383.0,\n",
       " 1614.0,\n",
       " 1701.0,\n",
       " 2090.0,\n",
       " 45.0,\n",
       " 66.0,\n",
       " 141.0,\n",
       " 356.0,\n",
       " 173.0,\n",
       " 582.0,\n",
       " 435.0,\n",
       " 870.0,\n",
       " 949.0,\n",
       " 1353.0,\n",
       " 1363.0,\n",
       " 1521.0,\n",
       " 1346.0,\n",
       " 1792.0,\n",
       " 1716.0,\n",
       " 1527.0,\n",
       " 2240.0,\n",
       " 166.0,\n",
       " 349.0,\n",
       " 69.0,\n",
       " 815.0,\n",
       " 532.0,\n",
       " 545.0,\n",
       " 1022.0,\n",
       " 890.0,\n",
       " 1276.0,\n",
       " 1403.0,\n",
       " 1251.0,\n",
       " 1233.0,\n",
       " 1249.0,\n",
       " 1702.0,\n",
       " 1278.0,\n",
       " 5324.0,\n",
       " 2018.0,\n",
       " 1142.0,\n",
       " 75.0,\n",
       " 358.0,\n",
       " 645.0,\n",
       " 200.0,\n",
       " 271.0,\n",
       " 1088.0,\n",
       " 428.0,\n",
       " 1145.0,\n",
       " 496.0,\n",
       " 635.0,\n",
       " 921.0,\n",
       " 860.0,\n",
       " 1238.0,\n",
       " 1117.0,\n",
       " 1441.0,\n",
       " 1498.0,\n",
       " 1768.0,\n",
       " 2308.0,\n",
       " 1508.0,\n",
       " 2545.0,\n",
       " 49.0,\n",
       " 38.0,\n",
       " 345.0,\n",
       " 114.0,\n",
       " 380.0,\n",
       " 247.0,\n",
       " 190.0,\n",
       " 1296.0,\n",
       " 873.0,\n",
       " 475.0,\n",
       " 611.0,\n",
       " 535.0,\n",
       " 595.0,\n",
       " 790.0,\n",
       " 709.0,\n",
       " 511.0,\n",
       " 480.0,\n",
       " 644.0,\n",
       " 694.0,\n",
       " 990.0,\n",
       " 1453.0,\n",
       " 1193.0,\n",
       " 1360.0,\n",
       " 1286.0,\n",
       " 1326.0,\n",
       " 1556.0,\n",
       " 3864.0,\n",
       " 1773.0,\n",
       " 1625.0,\n",
       " 1642.0,\n",
       " 1745.0,\n",
       " 346.0,\n",
       " 1017.0,\n",
       " 918.0,\n",
       " 900.0,\n",
       " 525.0,\n",
       " 997.0,\n",
       " 1303.0,\n",
       " 1463.0,\n",
       " 1137.0,\n",
       " 1127.0,\n",
       " 1185.0,\n",
       " 1484.0,\n",
       " 1653.0,\n",
       " 2302.0,\n",
       " 2934.0,\n",
       " 1673.0,\n",
       " 555.0,\n",
       " 44.0,\n",
       " 77.0,\n",
       " 309.0,\n",
       " 861.0,\n",
       " 360.0,\n",
       " 328.0,\n",
       " 911.0,\n",
       " 337.0,\n",
       " 204.0,\n",
       " 726.0,\n",
       " 604.0,\n",
       " 704.0,\n",
       " 1190.0,\n",
       " 1531.0,\n",
       " 2066.0,\n",
       " 587.0,\n",
       " 792.0,\n",
       " 813.0,\n",
       " 1165.0,\n",
       " 1216.0,\n",
       " 1842.0,\n",
       " 1285.0,\n",
       " 1385.0,\n",
       " 1767.0,\n",
       " 1308.0,\n",
       " 1424.0,\n",
       " 1461.0,\n",
       " 1610.0,\n",
       " 2477.0,\n",
       " 56.0,\n",
       " 115.0,\n",
       " 103.0,\n",
       " 136.0,\n",
       " 81.0,\n",
       " 161.0,\n",
       " 137.0,\n",
       " 227.0,\n",
       " 288.0,\n",
       " 254.0,\n",
       " 865.0,\n",
       " 429.0,\n",
       " 541.0,\n",
       " 485.0,\n",
       " 1065.0,\n",
       " 586.0,\n",
       " 1144.0,\n",
       " 713.0,\n",
       " 964.0,\n",
       " 1078.0,\n",
       " 771.0,\n",
       " 1192.0,\n",
       " 1318.0,\n",
       " 1036.0,\n",
       " 1224.0,\n",
       " 1478.0,\n",
       " 1789.0,\n",
       " 1593.0,\n",
       " 1543.0,\n",
       " 2112.0,\n",
       " 1530.0,\n",
       " 1626.0,\n",
       " 4218.0,\n",
       " 10.0,\n",
       " 84.0,\n",
       " 27.0,\n",
       " 622.0,\n",
       " 1119.0,\n",
       " 868.0,\n",
       " 1131.0,\n",
       " 405.0,\n",
       " 1822.0,\n",
       " 478.0,\n",
       " 752.0,\n",
       " 1279.0,\n",
       " 1037.0,\n",
       " 1059.0,\n",
       " 1090.0,\n",
       " 1313.0,\n",
       " 1231.0,\n",
       " 1161.0,\n",
       " 1167.0,\n",
       " 1674.0,\n",
       " 1123.0,\n",
       " 1798.0,\n",
       " 2976.0,\n",
       " 1364.0,\n",
       " 1670.0,\n",
       " 2647.0,\n",
       " 123.0,\n",
       " 154.0,\n",
       " 122.0,\n",
       " 299.0,\n",
       " 403.0,\n",
       " 437.0,\n",
       " 1334.0,\n",
       " 1020.0,\n",
       " 1061.0,\n",
       " 946.0,\n",
       " 867.0,\n",
       " 633.0,\n",
       " 1222.0,\n",
       " 1046.0,\n",
       " 886.0,\n",
       " 2973.0,\n",
       " 1408.0,\n",
       " 1523.0,\n",
       " 1252.0,\n",
       " 1098.0,\n",
       " 1727.0,\n",
       " 2903.0,\n",
       " 1462.0,\n",
       " 1504.0,\n",
       " 189.0,\n",
       " 162.0,\n",
       " 237.0,\n",
       " 361.0,\n",
       " 438.0,\n",
       " 756.0,\n",
       " 721.0,\n",
       " 1435.0,\n",
       " 1369.0,\n",
       " 1021.0,\n",
       " 1241.0,\n",
       " 1458.0,\n",
       " 1333.0,\n",
       " 1386.0,\n",
       " 1707.0,\n",
       " 1686.0,\n",
       " 1786.0,\n",
       " 1312.0,\n",
       " 2011.0,\n",
       " 2742.0,\n",
       " 1923.0,\n",
       " 2186.0,\n",
       " 213.0,\n",
       " 53.0,\n",
       " 7.0,\n",
       " 165.0,\n",
       " 111.0,\n",
       " 206.0,\n",
       " 332.0,\n",
       " 977.0,\n",
       " 529.0,\n",
       " 281.0,\n",
       " 950.0,\n",
       " 581.0,\n",
       " 477.0,\n",
       " 808.0,\n",
       " 1129.0,\n",
       " 825.0,\n",
       " 947.0,\n",
       " 1433.0,\n",
       " 973.0,\n",
       " 1756.0,\n",
       " 1246.0,\n",
       " 1910.0,\n",
       " 1506.0,\n",
       " 1541.0,\n",
       " 2181.0,\n",
       " 1731.0,\n",
       " 1974.0,\n",
       " 25.0,\n",
       " 215.0,\n",
       " 324.0,\n",
       " 869.0,\n",
       " 339.0,\n",
       " 821.0,\n",
       " 571.0,\n",
       " 814.0,\n",
       " 1445.0,\n",
       " 1365.0,\n",
       " 1467.0,\n",
       " 1917.0,\n",
       " 1709.0,\n",
       " 1600.0,\n",
       " 1554.0,\n",
       " 2807.0,\n",
       " 140.0,\n",
       " 127.0,\n",
       " 308.0,\n",
       " 93.0,\n",
       " 563.0,\n",
       " 260.0,\n",
       " 564.0,\n",
       " 666.0,\n",
       " 1291.0,\n",
       " 1154.0,\n",
       " 888.0,\n",
       " 696.0,\n",
       " 526.0,\n",
       " 467.0,\n",
       " 1048.0,\n",
       " 1613.0,\n",
       " 2221.0,\n",
       " 1818.0,\n",
       " 5.0,\n",
       " 735.0,\n",
       " 311.0,\n",
       " 262.0,\n",
       " 92.0,\n",
       " 172.0,\n",
       " 1093.0,\n",
       " 231.0,\n",
       " 319.0,\n",
       " 397.0,\n",
       " 621.0,\n",
       " 899.0,\n",
       " 692.0,\n",
       " 684.0,\n",
       " 1340.0,\n",
       " 2007.0,\n",
       " 995.0,\n",
       " 1068.0,\n",
       " 653.0,\n",
       " 650.0,\n",
       " 829.0,\n",
       " 1489.0,\n",
       " 920.0,\n",
       " 1332.0,\n",
       " 983.0,\n",
       " 1479.0,\n",
       " 1715.0,\n",
       " 1465.0,\n",
       " 1679.0,\n",
       " 1637.0,\n",
       " 1588.0,\n",
       " 2916.0,\n",
       " 57.0,\n",
       " 85.0,\n",
       " 593.0,\n",
       " 257.0,\n",
       " 803.0,\n",
       " 445.0,\n",
       " 557.0,\n",
       " 904.0,\n",
       " 468.0,\n",
       " 691.0,\n",
       " 1182.0,\n",
       " 501.0,\n",
       " 1417.0,\n",
       " 1101.0,\n",
       " 1414.0,\n",
       " 1438.0,\n",
       " 1615.0,\n",
       " 1398.0,\n",
       " 1455.0,\n",
       " 1877.0,\n",
       " 8.0,\n",
       " 107.0,\n",
       " 55.0,\n",
       " 58.0,\n",
       " 259.0,\n",
       " 1253.0,\n",
       " 118.0,\n",
       " 239.0,\n",
       " 298.0,\n",
       " 782.0,\n",
       " 576.0,\n",
       " 1019.0,\n",
       " 1218.0,\n",
       " 1339.0,\n",
       " 1384.0,\n",
       " 1645.0,\n",
       " 1262.0,\n",
       " 1862.0,\n",
       " 1853.0,\n",
       " 116.0,\n",
       " 74.0,\n",
       " 135.0,\n",
       " 371.0,\n",
       " 376.0,\n",
       " 799.0,\n",
       " 915.0,\n",
       " 1124.0,\n",
       " 1781.0,\n",
       " 1475.0,\n",
       " 1045.0,\n",
       " 1320.0,\n",
       " 1323.0,\n",
       " 1379.0,\n",
       " 1570.0,\n",
       " 1294.0,\n",
       " 1481.0,\n",
       " 2457.0,\n",
       " 2416.0,\n",
       " 1493.0,\n",
       " 1472.0,\n",
       " 418.0,\n",
       " 372.0,\n",
       " 153.0,\n",
       " 175.0,\n",
       " 83.0,\n",
       " 283.0,\n",
       " 660.0,\n",
       " 958.0,\n",
       " 835.0,\n",
       " 646.0,\n",
       " 784.0,\n",
       " 667.0,\n",
       " 864.0,\n",
       " 506.0,\n",
       " 1483.0,\n",
       " 1697.0,\n",
       " 1170.0,\n",
       " 1152.0,\n",
       " 1110.0,\n",
       " 1928.0,\n",
       " 1292.0,\n",
       " 1646.0,\n",
       " 1746.0,\n",
       " 1710.0,\n",
       " 2013.0,\n",
       " 1886.0,\n",
       " 2.0,\n",
       " 36.0,\n",
       " 72.0,\n",
       " 40.0,\n",
       " 46.0,\n",
       " 194.0,\n",
       " 286.0,\n",
       " 907.0,\n",
       " 441.0,\n",
       " 843.0,\n",
       " 575.0,\n",
       " 502.0,\n",
       " 1067.0,\n",
       " 853.0,\n",
       " 923.0,\n",
       " 959.0,\n",
       " 1344.0,\n",
       " 1239.0,\n",
       " 1099.0,\n",
       " 1388.0,\n",
       " 1456.0,\n",
       " 2560.0,\n",
       " 1284.0,\n",
       " 2423.0,\n",
       " 1569.0,\n",
       " 1540.0,\n",
       " 1713.0,\n",
       " 188.0,\n",
       " 730.0,\n",
       " 287.0,\n",
       " 558.0,\n",
       " 982.0,\n",
       " 410.0,\n",
       " 643.0,\n",
       " 1115.0,\n",
       " 1327.0,\n",
       " 670.0,\n",
       " 981.0,\n",
       " 1428.0,\n",
       " 2791.0,\n",
       " 1736.0,\n",
       " 1534.0,\n",
       " 1883.0,\n",
       " 1737.0,\n",
       " 88.0,\n",
       " 52.0,\n",
       " 292.0,\n",
       " 180.0,\n",
       " 178.0,\n",
       " 252.0,\n",
       " 507.0,\n",
       " 1416.0,\n",
       " 993.0,\n",
       " 677.0,\n",
       " 787.0,\n",
       " 1069.0,\n",
       " 893.0,\n",
       " 1389.0,\n",
       " 1194.0,\n",
       " 1208.0,\n",
       " 1741.0,\n",
       " 1446.0,\n",
       " 82.0,\n",
       " 150.0,\n",
       " 134.0,\n",
       " 284.0,\n",
       " 265.0,\n",
       " 296.0,\n",
       " 340.0,\n",
       " 606.0,\n",
       " 610.0,\n",
       " 1171.0,\n",
       " 802.0,\n",
       " 712.0,\n",
       " 723.0,\n",
       " 1434.0,\n",
       " 530.0,\n",
       " 1039.0,\n",
       " 1503.0,\n",
       " 1255.0,\n",
       " 1148.0,\n",
       " 1444.0,\n",
       " 1585.0,\n",
       " 1553.0,\n",
       " 1277.0,\n",
       " 1307.0,\n",
       " 1272.0,\n",
       " 39.0,\n",
       " 60.0,\n",
       " 833.0,\n",
       " 882.0,\n",
       " 917.0,\n",
       " 444.0,\n",
       " 800.0,\n",
       " 629.0,\n",
       " 1109.0,\n",
       " 1391.0,\n",
       " 1587.0,\n",
       " 2489.0,\n",
       " 1598.0,\n",
       " 1517.0,\n",
       " 2687.0,\n",
       " 1.0,\n",
       " 892.0,\n",
       " 392.0,\n",
       " 307.0,\n",
       " 209.0,\n",
       " 335.0,\n",
       " 474.0,\n",
       " 1259.0,\n",
       " 442.0,\n",
       " 488.0,\n",
       " 651.0,\n",
       " 941.0,\n",
       " 434.0,\n",
       " 687.0,\n",
       " 924.0,\n",
       " 1003.0,\n",
       " 979.0,\n",
       " 801.0,\n",
       " 966.0,\n",
       " 1108.0,\n",
       " 827.0,\n",
       " 1514.0,\n",
       " 1162.0,\n",
       " 1671.0,\n",
       " 1034.0,\n",
       " 1174.0,\n",
       " 1937.0,\n",
       " 1343.0,\n",
       " 1762.0,\n",
       " 3246.0,\n",
       " 301.0,\n",
       " 251.0,\n",
       " 91.0,\n",
       " 584.0,\n",
       " 312.0,\n",
       " 685.0,\n",
       " 641.0,\n",
       " 412.0,\n",
       " 364.0,\n",
       " 776.0,\n",
       " 1132.0,\n",
       " 642.0,\n",
       " 697.0,\n",
       " 647.0,\n",
       " 1265.0,\n",
       " 1409.0,\n",
       " 1359.0,\n",
       " 1621.0,\n",
       " 80.0,\n",
       " 932.0,\n",
       " 177.0,\n",
       " 146.0,\n",
       " 384.0,\n",
       " 1280.0,\n",
       " 1197.0,\n",
       " 269.0,\n",
       " 672.0,\n",
       " 846.0,\n",
       " 698.0,\n",
       " 916.0,\n",
       " 1138.0,\n",
       " 1106.0,\n",
       " 1227.0,\n",
       " 1557.0,\n",
       " 1450.0,\n",
       " 2067.0,\n",
       " 2991.0,\n",
       " 1658.0,\n",
       " 21.0,\n",
       " 101.0,\n",
       " 354.0,\n",
       " 293.0,\n",
       " 841.0,\n",
       " 466.0,\n",
       " 375.0,\n",
       " 816.0,\n",
       " 676.0,\n",
       " 551.0,\n",
       " 809.0,\n",
       " 695.0,\n",
       " 747.0,\n",
       " 1387.0,\n",
       " 1571.0,\n",
       " 1186.0,\n",
       " 1558.0,\n",
       " 1567.0,\n",
       " 1156.0,\n",
       " 1536.0,\n",
       " 1301.0,\n",
       " 1623.0,\n",
       " 1542.0,\n",
       " 2977.0,\n",
       " 244.0,\n",
       " 131.0,\n",
       " 431.0,\n",
       " 789.0,\n",
       " 1228.0,\n",
       " 396.0,\n",
       " 547.0,\n",
       " 649.0,\n",
       " 952.0,\n",
       " 1040.0,\n",
       " 618.0,\n",
       " 668.0,\n",
       " 906.0,\n",
       " 1052.0,\n",
       " 985.0,\n",
       " 1191.0,\n",
       " 1309.0,\n",
       " 1306.0,\n",
       " 1661.0,\n",
       " 1509.0,\n",
       " 1797.0,\n",
       " 2100.0,\n",
       " 2054.0,\n",
       " 1685.0,\n",
       " 22.0,\n",
       " 59.0,\n",
       " 104.0,\n",
       " 246.0,\n",
       " 241.0,\n",
       " 866.0,\n",
       " 1752.0,\n",
       " 699.0,\n",
       " 378.0,\n",
       " 367.0,\n",
       " 550.0,\n",
       " 999.0,\n",
       " 1002.0,\n",
       " 905.0,\n",
       " 1806.0,\n",
       " 1675.0,\n",
       " 1873.0,\n",
       " 1830.0,\n",
       " 108.0,\n",
       " 839.0,\n",
       " 261.0,\n",
       " 238.0,\n",
       " 344.0,\n",
       " 297.0,\n",
       " 795.0,\n",
       " 482.0,\n",
       " 1151.0,\n",
       " 908.0,\n",
       " 944.0,\n",
       " 778.0,\n",
       " 753.0,\n",
       " 884.0,\n",
       " 1290.0,\n",
       " 1066.0,\n",
       " 1742.0,\n",
       " 1628.0,\n",
       " 1528.0,\n",
       " 1535.0,\n",
       " 2677.0,\n",
       " 876.0,\n",
       " 89.0,\n",
       " 304.0,\n",
       " 598.0,\n",
       " 279.0,\n",
       " 476.0,\n",
       " 812.0,\n",
       " 1128.0,\n",
       " 394.0,\n",
       " 773.0,\n",
       " 948.0,\n",
       " 896.0,\n",
       " 931.0,\n",
       " 509.0,\n",
       " 725.0,\n",
       " 1368.0,\n",
       " 1358.0,\n",
       " 1175.0,\n",
       " 1507.0,\n",
       " 1688.0,\n",
       " 1616.0,\n",
       " 1808.0,\n",
       " 1766.0,\n",
       " 1821.0,\n",
       " 1809.0,\n",
       " 71.0,\n",
       " 119.0,\n",
       " 793.0,\n",
       " 856.0,\n",
       " 174.0,\n",
       " 125.0,\n",
       " 718.0,\n",
       " 270.0,\n",
       " 912.0,\n",
       " 242.0,\n",
       " 544.0,\n",
       " 1118.0,\n",
       " 379.0,\n",
       " 819.0,\n",
       " 583.0,\n",
       " 1042.0,\n",
       " 807.0,\n",
       " 1189.0,\n",
       " 1087.0,\n",
       " 1183.0,\n",
       " 1201.0,\n",
       " 1443.0,\n",
       " 1823.0,\n",
       " 2039.0,\n",
       " 1672.0,\n",
       " 389.0,\n",
       " 1157.0,\n",
       " 282.0,\n",
       " 1420.0,\n",
       " 470.0,\n",
       " 1004.0,\n",
       " 741.0,\n",
       " 1258.0,\n",
       " 679.0,\n",
       " 1122.0,\n",
       " 1150.0,\n",
       " 1155.0,\n",
       " 2671.0,\n",
       " 1896.0,\n",
       " 1520.0,\n",
       " 834.0,\n",
       " 120.0,\n",
       " 179.0,\n",
       " 197.0,\n",
       " 760.0,\n",
       " 377.0,\n",
       " 446.0,\n",
       " 652.0,\n",
       " 1012.0,\n",
       " 556.0,\n",
       " 1080.0,\n",
       " 1861.0,\n",
       " 1314.0,\n",
       " 1471.0,\n",
       " 1495.0,\n",
       " 2107.0,\n",
       " 2341.0,\n",
       " 100.0,\n",
       " 443.0,\n",
       " 250.0,\n",
       " 848.0,\n",
       " 1206.0,\n",
       " 855.0,\n",
       " 602.0,\n",
       " 940.0,\n",
       " 828.0,\n",
       " 614.0,\n",
       " 567.0,\n",
       " 1136.0,\n",
       " 1578.0,\n",
       " 1325.0,\n",
       " 1126.0,\n",
       " 1449.0,\n",
       " 2592.0,\n",
       " 1288.0,\n",
       " 1260.0,\n",
       " 1934.0,\n",
       " 1754.0,\n",
       " 1918.0,\n",
       " 1545.0,\n",
       " 151.0,\n",
       " 330.0,\n",
       " 233.0,\n",
       " 400.0,\n",
       " 673.0,\n",
       " 769.0,\n",
       " 452.0,\n",
       " 758.0,\n",
       " 1198.0,\n",
       " 1200.0,\n",
       " 745.0,\n",
       " 1250.0,\n",
       " 1149.0,\n",
       " 764.0,\n",
       " 1546.0,\n",
       " 1311.0,\n",
       " 1302.0,\n",
       " 1968.0,\n",
       " 1836.0,\n",
       " 1348.0,\n",
       " 2705.0,\n",
       " 12.0,\n",
       " 112.0,\n",
       " 729.0,\n",
       " 385.0,\n",
       " 401.0,\n",
       " 823.0,\n",
       " 413.0,\n",
       " 989.0,\n",
       " 459.0,\n",
       " 534.0,\n",
       " 804.0,\n",
       " 746.0,\n",
       " 1146.0,\n",
       " 733.0,\n",
       " 967.0,\n",
       " 1271.0,\n",
       " 1352.0,\n",
       " 1349.0,\n",
       " 1374.0,\n",
       " 14.0,\n",
       " 102.0,\n",
       " 11.0,\n",
       " 183.0,\n",
       " 514.0,\n",
       " 1035.0,\n",
       " 560.0,\n",
       " 524.0,\n",
       " 707.0,\n",
       " 1120.0,\n",
       " 479.0,\n",
       " 1304.0,\n",
       " 1056.0,\n",
       " 1254.0,\n",
       " 1561.0,\n",
       " 1027.0,\n",
       " 1013.0,\n",
       " 1595.0,\n",
       " 2106.0,\n",
       " 1730.0,\n",
       " 1775.0,\n",
       " 1413.0,\n",
       " 2619.0,\n",
       " 1729.0,\n",
       " 158.0,\n",
       " 149.0,\n",
       " 302.0,\n",
       " 234.0,\n",
       " 1140.0,\n",
       " 322.0,\n",
       " 705.0,\n",
       " 447.0,\n",
       " 574.0,\n",
       " 862.0,\n",
       " 1121.0,\n",
       " 1266.0,\n",
       " 850.0,\n",
       " 1163.0,\n",
       " 1518.0,\n",
       " 1440.0,\n",
       " 1184.0,\n",
       " 1351.0,\n",
       " 1566.0,\n",
       " 1596.0,\n",
       " 1188.0,\n",
       " 1269.0,\n",
       " 1632.0,\n",
       " 1371.0,\n",
       " 1606.0,\n",
       " 2216.0,\n",
       " 898.0,\n",
       " 211.0,\n",
       " 273.0,\n",
       " 163.0,\n",
       " 305.0,\n",
       " 159.0,\n",
       " 654.0,\n",
       " 539.0,\n",
       " 871.0,\n",
       " 1431.0,\n",
       " 601.0,\n",
       " 887.0,\n",
       " 961.0,\n",
       " 849.0,\n",
       " 1780.0,\n",
       " 1355.0,\n",
       " 1855.0,\n",
       " 1996.0,\n",
       " 1787.0,\n",
       " 42.0,\n",
       " 902.0,\n",
       " 182.0,\n",
       " 1038.0,\n",
       " 142.0,\n",
       " 320.0,\n",
       " 243.0,\n",
       " 208.0,\n",
       " 368.0,\n",
       " 664.0,\n",
       " 481.0,\n",
       " 538.0,\n",
       " 625.0,\n",
       " 675.0,\n",
       " 634.0,\n",
       " 794.0,\n",
       " 1519.0,\n",
       " 495.0,\n",
       " 1166.0,\n",
       " 1055.0,\n",
       " 450.0,\n",
       " 863.0,\n",
       " 1342.0,\n",
       " 1225.0,\n",
       " 1421.0,\n",
       " 2173.0,\n",
       " 2398.0,\n",
       " 2166.0,\n",
       " 1602.0,\n",
       " 105.0,\n",
       " 9.0,\n",
       " 37.0,\n",
       " 929.0,\n",
       " 1060.0,\n",
       " 229.0,\n",
       " 1064.0,\n",
       " 362.0,\n",
       " 838.0,\n",
       " 968.0,\n",
       " 960.0,\n",
       " 1023.0,\n",
       " 987.0,\n",
       " 1011.0,\n",
       " 1073.0,\n",
       " 1244.0,\n",
       " 1008.0,\n",
       " 1500.0,\n",
       " ...]"
      ]
     },
     "execution_count": 58,
     "metadata": {},
     "output_type": "execute_result"
    }
   ],
   "source": [
    "flight_vaex.CarrierDelay.unique()"
   ]
  },
  {
   "cell_type": "code",
   "execution_count": 59,
   "id": "3fa3cb88",
   "metadata": {
    "scrolled": true
   },
   "outputs": [
    {
     "data": {
      "text/plain": [
       "0.0       26679478\n",
       "1.0         111661\n",
       "2.0         110619\n",
       "3.0         107441\n",
       "6.0         104246\n",
       "            ...   \n",
       "2238.0           1\n",
       "2109.0           1\n",
       "1766.0           1\n",
       "1555.0           1\n",
       "2140.0           1\n",
       "Length: 1884, dtype: int64"
      ]
     },
     "execution_count": 59,
     "metadata": {},
     "output_type": "execute_result"
    }
   ],
   "source": [
    "flight_vaex.CarrierDelay.value_counts()"
   ]
  },
  {
   "cell_type": "code",
   "execution_count": 60,
   "id": "fd6f6d99",
   "metadata": {},
   "outputs": [
    {
     "data": {
      "text/plain": [
       "88.54003682580944"
      ]
     },
     "execution_count": 60,
     "metadata": {},
     "output_type": "execute_result"
    }
   ],
   "source": [
    "(26679478/30132671)*100"
   ]
  },
  {
   "cell_type": "code",
   "execution_count": 61,
   "id": "e2ac2d64",
   "metadata": {},
   "outputs": [
    {
     "data": {
      "text/plain": [
       "array(0.69709477)"
      ]
     },
     "execution_count": 61,
     "metadata": {},
     "output_type": "execute_result"
    }
   ],
   "source": [
    "# vaex.expr.pearsonr(flight_vaex['CarrierDelay'],flight_vaex['DepDelay'])\n",
    "# flight_vaex[['CarrierDelay','DepDelay']].stat.correlation()\n",
    "\n",
    "flight_vaex.correlation('CarrierDelay','DepDelay')"
   ]
  },
  {
   "cell_type": "code",
   "execution_count": 62,
   "id": "8a482009",
   "metadata": {},
   "outputs": [],
   "source": [
    "# Weather Delay (\tWeather Delay, in Minutes)"
   ]
  },
  {
   "cell_type": "code",
   "execution_count": 63,
   "id": "b9011f68",
   "metadata": {
    "scrolled": false
   },
   "outputs": [
    {
     "data": {
      "text/plain": [
       "Expression = WeatherDelay\n",
       "Length: 30,132,672 dtype: float64 (column)\n",
       "------------------------------------------\n",
       "       0  0\n",
       "       1  0\n",
       "       2  0\n",
       "       3  0\n",
       "       4  0\n",
       "    ...    \n",
       "30132667  0\n",
       "30132668  0\n",
       "30132669  0\n",
       "30132670  0\n",
       "30132671  0"
      ]
     },
     "execution_count": 63,
     "metadata": {},
     "output_type": "execute_result"
    }
   ],
   "source": [
    "flight_vaex.WeatherDelay"
   ]
  },
  {
   "cell_type": "code",
   "execution_count": null,
   "id": "f2c96119",
   "metadata": {},
   "outputs": [],
   "source": []
  },
  {
   "cell_type": "code",
   "execution_count": 64,
   "id": "963be08f",
   "metadata": {
    "scrolled": true
   },
   "outputs": [
    {
     "data": {
      "text/plain": [
       "1379"
      ]
     },
     "execution_count": 64,
     "metadata": {},
     "output_type": "execute_result"
    }
   ],
   "source": [
    "len(flight_vaex.WeatherDelay.unique())"
   ]
  },
  {
   "cell_type": "code",
   "execution_count": 65,
   "id": "5650482d",
   "metadata": {},
   "outputs": [
    {
     "data": {
      "text/plain": [
       "0.0       29746720\n",
       "15.0          8181\n",
       "1.0           7978\n",
       "2.0           7913\n",
       "6.0           7865\n",
       "            ...   \n",
       "1470.0           1\n",
       "1301.0           1\n",
       "1519.0           1\n",
       "1373.0           1\n",
       "1847.0           1\n",
       "Length: 1379, dtype: int64"
      ]
     },
     "execution_count": 65,
     "metadata": {},
     "output_type": "execute_result"
    }
   ],
   "source": [
    "flight_vaex.WeatherDelay.value_counts()"
   ]
  },
  {
   "cell_type": "code",
   "execution_count": 66,
   "id": "d3b8cef1",
   "metadata": {
    "scrolled": true
   },
   "outputs": [
    {
     "data": {
      "text/plain": [
       "98.71916100633761"
      ]
     },
     "execution_count": 66,
     "metadata": {},
     "output_type": "execute_result"
    }
   ],
   "source": [
    "(29746720/30132671)*100"
   ]
  },
  {
   "cell_type": "code",
   "execution_count": 67,
   "id": "368929e8",
   "metadata": {},
   "outputs": [
    {
     "data": {
      "text/plain": [
       "array(0.30413114)"
      ]
     },
     "execution_count": 67,
     "metadata": {},
     "output_type": "execute_result"
    }
   ],
   "source": [
    "flight_vaex.correlation('WeatherDelay','DepDelay')"
   ]
  },
  {
   "cell_type": "markdown",
   "id": "dd1ae53e",
   "metadata": {},
   "source": [
    "WeatherDelay has 98.7 perc value 0, drop it"
   ]
  },
  {
   "cell_type": "code",
   "execution_count": 68,
   "id": "55f5cfe2",
   "metadata": {},
   "outputs": [],
   "source": [
    "# NAS Delay (National Air System Delay, in Minutes)"
   ]
  },
  {
   "cell_type": "code",
   "execution_count": 69,
   "id": "d35a93f9",
   "metadata": {
    "scrolled": true
   },
   "outputs": [
    {
     "data": {
      "text/plain": [
       "Expression = NASDelay\n",
       "Length: 30,132,672 dtype: float64 (column)\n",
       "------------------------------------------\n",
       "       0  0\n",
       "       1  0\n",
       "       2  0\n",
       "       3  0\n",
       "       4  0\n",
       "    ...    \n",
       "30132667  0\n",
       "30132668  0\n",
       "30132669  0\n",
       "30132670  0\n",
       "30132671  0"
      ]
     },
     "execution_count": 69,
     "metadata": {},
     "output_type": "execute_result"
    }
   ],
   "source": [
    "flight_vaex.NASDelay"
   ]
  },
  {
   "cell_type": "code",
   "execution_count": 70,
   "id": "0e05d190",
   "metadata": {},
   "outputs": [
    {
     "data": {
      "text/plain": [
       "1300"
      ]
     },
     "execution_count": 70,
     "metadata": {},
     "output_type": "execute_result"
    }
   ],
   "source": [
    "len(flight_vaex.NASDelay.unique())"
   ]
  },
  {
   "cell_type": "code",
   "execution_count": 71,
   "id": "628e86c4",
   "metadata": {
    "scrolled": true
   },
   "outputs": [
    {
     "data": {
      "text/plain": [
       "0.0       26882919\n",
       "1.0         147052\n",
       "15.0        132741\n",
       "16.0        120433\n",
       "2.0         119700\n",
       "            ...   \n",
       "882.0            1\n",
       "1419.0           1\n",
       "1145.0           1\n",
       "1277.0           1\n",
       "1711.0           1\n",
       "Length: 1300, dtype: int64"
      ]
     },
     "execution_count": 71,
     "metadata": {},
     "output_type": "execute_result"
    }
   ],
   "source": [
    "flight_vaex.NASDelay.value_counts()"
   ]
  },
  {
   "cell_type": "code",
   "execution_count": 72,
   "id": "688772aa",
   "metadata": {},
   "outputs": [
    {
     "data": {
      "text/plain": [
       "89.21518772763291"
      ]
     },
     "execution_count": 72,
     "metadata": {},
     "output_type": "execute_result"
    }
   ],
   "source": [
    "(26882919/30132671)*100"
   ]
  },
  {
   "cell_type": "code",
   "execution_count": 73,
   "id": "8acb13ca",
   "metadata": {},
   "outputs": [
    {
     "data": {
      "text/plain": [
       "array(0.28571692)"
      ]
     },
     "execution_count": 73,
     "metadata": {},
     "output_type": "execute_result"
    }
   ],
   "source": [
    "flight_vaex.correlation('NASDelay','DepDelay')"
   ]
  },
  {
   "cell_type": "code",
   "execution_count": 74,
   "id": "89cdc289",
   "metadata": {},
   "outputs": [],
   "source": [
    "# Security Delay"
   ]
  },
  {
   "cell_type": "code",
   "execution_count": 75,
   "id": "8f04367d",
   "metadata": {
    "scrolled": true
   },
   "outputs": [
    {
     "data": {
      "text/plain": [
       "Expression = SecurityDelay\n",
       "Length: 30,132,672 dtype: float64 (column)\n",
       "------------------------------------------\n",
       "       0  0\n",
       "       1  0\n",
       "       2  0\n",
       "       3  0\n",
       "       4  0\n",
       "    ...    \n",
       "30132667  0\n",
       "30132668  0\n",
       "30132669  0\n",
       "30132670  0\n",
       "30132671  0"
      ]
     },
     "execution_count": 75,
     "metadata": {},
     "output_type": "execute_result"
    }
   ],
   "source": [
    "flight_vaex.SecurityDelay"
   ]
  },
  {
   "cell_type": "code",
   "execution_count": 76,
   "id": "2802feb5",
   "metadata": {},
   "outputs": [
    {
     "data": {
      "text/plain": [
       "348"
      ]
     },
     "execution_count": 76,
     "metadata": {},
     "output_type": "execute_result"
    }
   ],
   "source": [
    "len(flight_vaex.SecurityDelay.unique())"
   ]
  },
  {
   "cell_type": "code",
   "execution_count": 77,
   "id": "47b7b5b8",
   "metadata": {
    "scrolled": true
   },
   "outputs": [
    {
     "data": {
      "text/plain": [
       "0.0      30103548\n",
       "15.0         1179\n",
       "16.0         1047\n",
       "18.0          945\n",
       "17.0          936\n",
       "           ...   \n",
       "369.0           1\n",
       "204.0           1\n",
       "398.0           1\n",
       "550.0           1\n",
       "308.0           1\n",
       "Length: 348, dtype: int64"
      ]
     },
     "execution_count": 77,
     "metadata": {},
     "output_type": "execute_result"
    }
   ],
   "source": [
    "flight_vaex.SecurityDelay.value_counts()"
   ]
  },
  {
   "cell_type": "code",
   "execution_count": 78,
   "id": "38f5c230",
   "metadata": {},
   "outputs": [
    {
     "data": {
      "text/plain": [
       "99.90335075174717"
      ]
     },
     "execution_count": 78,
     "metadata": {},
     "output_type": "execute_result"
    }
   ],
   "source": [
    "(30103548/30132671)*100"
   ]
  },
  {
   "cell_type": "code",
   "execution_count": 79,
   "id": "373f1f16",
   "metadata": {},
   "outputs": [
    {
     "data": {
      "text/plain": [
       "array(0.03542479)"
      ]
     },
     "execution_count": 79,
     "metadata": {},
     "output_type": "execute_result"
    }
   ],
   "source": [
    "flight_vaex.correlation('SecurityDelay','DepDelay')"
   ]
  },
  {
   "cell_type": "markdown",
   "id": "217f6aea",
   "metadata": {},
   "source": [
    "SecurityDelay Column has 99.9 perc value 0, can drop this column"
   ]
  },
  {
   "cell_type": "code",
   "execution_count": 80,
   "id": "ca9859c9",
   "metadata": {},
   "outputs": [],
   "source": [
    "# LateAircraftDelay"
   ]
  },
  {
   "cell_type": "code",
   "execution_count": 81,
   "id": "05cc8379",
   "metadata": {},
   "outputs": [
    {
     "data": {
      "text/plain": [
       "Expression = LateAircraftDelay\n",
       "Length: 30,132,672 dtype: float64 (column)\n",
       "------------------------------------------\n",
       "       0  0\n",
       "       1  2\n",
       "       2  0\n",
       "       3  0\n",
       "       4  0\n",
       "    ...    \n",
       "30132667  0\n",
       "30132668  0\n",
       "30132669  0\n",
       "30132670  0\n",
       "30132671  0"
      ]
     },
     "execution_count": 81,
     "metadata": {},
     "output_type": "execute_result"
    }
   ],
   "source": [
    "flight_vaex.LateAircraftDelay"
   ]
  },
  {
   "cell_type": "code",
   "execution_count": 82,
   "id": "31101716",
   "metadata": {},
   "outputs": [
    {
     "data": {
      "text/plain": [
       "1519"
      ]
     },
     "execution_count": 82,
     "metadata": {},
     "output_type": "execute_result"
    }
   ],
   "source": [
    "len(flight_vaex.LateAircraftDelay.unique())"
   ]
  },
  {
   "cell_type": "code",
   "execution_count": 83,
   "id": "18519ce7",
   "metadata": {},
   "outputs": [
    {
     "data": {
      "text/plain": [
       "0.0       26977089\n",
       "15.0         75493\n",
       "16.0         71538\n",
       "17.0         67883\n",
       "18.0         65207\n",
       "            ...   \n",
       "1434.0           1\n",
       "1539.0           1\n",
       "1432.0           1\n",
       "1041.0           1\n",
       "1330.0           1\n",
       "Length: 1519, dtype: int64"
      ]
     },
     "execution_count": 83,
     "metadata": {},
     "output_type": "execute_result"
    }
   ],
   "source": [
    "flight_vaex.LateAircraftDelay.value_counts()"
   ]
  },
  {
   "cell_type": "code",
   "execution_count": 84,
   "id": "b05ec18e",
   "metadata": {},
   "outputs": [
    {
     "data": {
      "text/plain": [
       "89.52770565875159"
      ]
     },
     "execution_count": 84,
     "metadata": {},
     "output_type": "execute_result"
    }
   ],
   "source": [
    "(26977089/30132671)*100"
   ]
  },
  {
   "cell_type": "code",
   "execution_count": 85,
   "id": "5243e6b7",
   "metadata": {
    "scrolled": true
   },
   "outputs": [
    {
     "data": {
      "text/plain": [
       "array(0.60874058)"
      ]
     },
     "execution_count": 85,
     "metadata": {},
     "output_type": "execute_result"
    }
   ],
   "source": [
    "flight_vaex.correlation('LateAircraftDelay','DepDelay')"
   ]
  },
  {
   "cell_type": "markdown",
   "id": "5b535ae6",
   "metadata": {},
   "source": [
    "Droping cols Year, Month, DayofMonth,SecurityDelay,NASDelay,WeatherDelay"
   ]
  },
  {
   "cell_type": "code",
   "execution_count": 86,
   "id": "2795e6c1",
   "metadata": {},
   "outputs": [],
   "source": [
    "flight_vaex = flight_vaex.drop(columns=['Year','Month','DayofMonth','SecurityDelay','NASDelay','WeatherDelay'])"
   ]
  },
  {
   "cell_type": "code",
   "execution_count": 87,
   "id": "758395f9",
   "metadata": {},
   "outputs": [],
   "source": [
    "flight_vaex['FlightDate'] = flight_vaex['FlightDate'].astype('datetime64')"
   ]
  },
  {
   "cell_type": "code",
   "execution_count": 88,
   "id": "b3a7183d",
   "metadata": {},
   "outputs": [],
   "source": [
    "flight_vaex['Was Weekend']=  flight_vaex['FlightDate'].dt.dayofweek.isin([5,6])"
   ]
  },
  {
   "cell_type": "code",
   "execution_count": 89,
   "id": "12a280cc",
   "metadata": {},
   "outputs": [
    {
     "data": {
      "text/html": [
       "<table>\n",
       "<thead>\n",
       "<tr><th>#                            </th><th>FlightDate         </th><th>Marketing_Airline_Network  </th><th>OriginCityName  </th><th>DestCityName  </th><th style=\"text-align: right;\">  CRSDepTime</th><th style=\"text-align: right;\">  DepTime</th><th style=\"text-align: right;\">  DepDelay</th><th style=\"text-align: right;\">  DepDelayMinutes</th><th style=\"text-align: right;\">  TaxiOut</th><th style=\"text-align: right;\">  WheelsOff</th><th style=\"text-align: right;\">  WheelsOn</th><th style=\"text-align: right;\">  TaxiIn</th><th style=\"text-align: right;\">  CRSArrTime</th><th style=\"text-align: right;\">  ArrTime</th><th style=\"text-align: right;\">  ArrDelay</th><th style=\"text-align: right;\">  ArrDelayMinutes</th><th style=\"text-align: right;\">  CRSElapsedTime</th><th style=\"text-align: right;\">  ActualElapsedTime</th><th style=\"text-align: right;\">  AirTime</th><th style=\"text-align: right;\">  Distance</th><th style=\"text-align: right;\">  DistanceGroup</th><th style=\"text-align: right;\">  CarrierDelay</th><th style=\"text-align: right;\">  LateAircraftDelay</th><th>Was Weekend  </th></tr>\n",
       "</thead>\n",
       "<tbody>\n",
       "<tr><td><i style='opacity: 0.6'>0</i></td><td>2018-01-15 00:00:00</td><td>UA                         </td><td>Newark, NJ      </td><td>Charleston, SC</td><td style=\"text-align: right;\">        1845</td><td style=\"text-align: right;\">     1928</td><td style=\"text-align: right;\">        43</td><td style=\"text-align: right;\">               43</td><td style=\"text-align: right;\">       35</td><td style=\"text-align: right;\">       2003</td><td style=\"text-align: right;\">      2145</td><td style=\"text-align: right;\">       4</td><td style=\"text-align: right;\">        2108</td><td style=\"text-align: right;\">     2149</td><td style=\"text-align: right;\">        41</td><td style=\"text-align: right;\">               41</td><td style=\"text-align: right;\">             143</td><td style=\"text-align: right;\">                141</td><td style=\"text-align: right;\">      102</td><td style=\"text-align: right;\">       628</td><td style=\"text-align: right;\">              3</td><td style=\"text-align: right;\">            41</td><td style=\"text-align: right;\">                  0</td><td>False        </td></tr>\n",
       "<tr><td><i style='opacity: 0.6'>1</i></td><td>2018-01-16 00:00:00</td><td>UA                         </td><td>Newark, NJ      </td><td>Charleston, SC</td><td style=\"text-align: right;\">        1835</td><td style=\"text-align: right;\">     1956</td><td style=\"text-align: right;\">        81</td><td style=\"text-align: right;\">               81</td><td style=\"text-align: right;\">       18</td><td style=\"text-align: right;\">       2014</td><td style=\"text-align: right;\">      2202</td><td style=\"text-align: right;\">       5</td><td style=\"text-align: right;\">        2058</td><td style=\"text-align: right;\">     2207</td><td style=\"text-align: right;\">        69</td><td style=\"text-align: right;\">               69</td><td style=\"text-align: right;\">             143</td><td style=\"text-align: right;\">                131</td><td style=\"text-align: right;\">      108</td><td style=\"text-align: right;\">       628</td><td style=\"text-align: right;\">              3</td><td style=\"text-align: right;\">            67</td><td style=\"text-align: right;\">                  2</td><td>False        </td></tr>\n",
       "<tr><td><i style='opacity: 0.6'>2</i></td><td>2018-01-17 00:00:00</td><td>UA                         </td><td>Newark, NJ      </td><td>Charleston, SC</td><td style=\"text-align: right;\">        1835</td><td style=\"text-align: right;\">     1836</td><td style=\"text-align: right;\">         1</td><td style=\"text-align: right;\">                1</td><td style=\"text-align: right;\">       19</td><td style=\"text-align: right;\">       1855</td><td style=\"text-align: right;\">      2048</td><td style=\"text-align: right;\">       6</td><td style=\"text-align: right;\">        2058</td><td style=\"text-align: right;\">     2054</td><td style=\"text-align: right;\">        -4</td><td style=\"text-align: right;\">                0</td><td style=\"text-align: right;\">             143</td><td style=\"text-align: right;\">                138</td><td style=\"text-align: right;\">      113</td><td style=\"text-align: right;\">       628</td><td style=\"text-align: right;\">              3</td><td style=\"text-align: right;\">             0</td><td style=\"text-align: right;\">                  0</td><td>False        </td></tr>\n",
       "<tr><td><i style='opacity: 0.6'>3</i></td><td>2018-01-18 00:00:00</td><td>UA                         </td><td>Newark, NJ      </td><td>Charleston, SC</td><td style=\"text-align: right;\">        1845</td><td style=\"text-align: right;\">     1844</td><td style=\"text-align: right;\">        -1</td><td style=\"text-align: right;\">                0</td><td style=\"text-align: right;\">       36</td><td style=\"text-align: right;\">       1920</td><td style=\"text-align: right;\">      2052</td><td style=\"text-align: right;\">       6</td><td style=\"text-align: right;\">        2108</td><td style=\"text-align: right;\">     2058</td><td style=\"text-align: right;\">       -10</td><td style=\"text-align: right;\">                0</td><td style=\"text-align: right;\">             143</td><td style=\"text-align: right;\">                134</td><td style=\"text-align: right;\">       92</td><td style=\"text-align: right;\">       628</td><td style=\"text-align: right;\">              3</td><td style=\"text-align: right;\">             0</td><td style=\"text-align: right;\">                  0</td><td>False        </td></tr>\n",
       "<tr><td><i style='opacity: 0.6'>4</i></td><td>2018-01-20 00:00:00</td><td>UA                         </td><td>Newark, NJ      </td><td>Charleston, SC</td><td style=\"text-align: right;\">        1835</td><td style=\"text-align: right;\">     1829</td><td style=\"text-align: right;\">        -6</td><td style=\"text-align: right;\">                0</td><td style=\"text-align: right;\">       22</td><td style=\"text-align: right;\">       1851</td><td style=\"text-align: right;\">      2020</td><td style=\"text-align: right;\">       6</td><td style=\"text-align: right;\">        2058</td><td style=\"text-align: right;\">     2026</td><td style=\"text-align: right;\">       -32</td><td style=\"text-align: right;\">                0</td><td style=\"text-align: right;\">             143</td><td style=\"text-align: right;\">                117</td><td style=\"text-align: right;\">       89</td><td style=\"text-align: right;\">       628</td><td style=\"text-align: right;\">              3</td><td style=\"text-align: right;\">             0</td><td style=\"text-align: right;\">                  0</td><td>True         </td></tr>\n",
       "<tr><td><i style='opacity: 0.6'>5</i></td><td>2018-01-21 00:00:00</td><td>UA                         </td><td>Newark, NJ      </td><td>Charleston, SC</td><td style=\"text-align: right;\">        1835</td><td style=\"text-align: right;\">     1825</td><td style=\"text-align: right;\">       -10</td><td style=\"text-align: right;\">                0</td><td style=\"text-align: right;\">       44</td><td style=\"text-align: right;\">       1909</td><td style=\"text-align: right;\">      2039</td><td style=\"text-align: right;\">       5</td><td style=\"text-align: right;\">        2058</td><td style=\"text-align: right;\">     2044</td><td style=\"text-align: right;\">       -14</td><td style=\"text-align: right;\">                0</td><td style=\"text-align: right;\">             143</td><td style=\"text-align: right;\">                139</td><td style=\"text-align: right;\">       90</td><td style=\"text-align: right;\">       628</td><td style=\"text-align: right;\">              3</td><td style=\"text-align: right;\">             0</td><td style=\"text-align: right;\">                  0</td><td>True         </td></tr>\n",
       "<tr><td><i style='opacity: 0.6'>6</i></td><td>2018-01-22 00:00:00</td><td>UA                         </td><td>Newark, NJ      </td><td>Charleston, SC</td><td style=\"text-align: right;\">        1845</td><td style=\"text-align: right;\">     1847</td><td style=\"text-align: right;\">         2</td><td style=\"text-align: right;\">                2</td><td style=\"text-align: right;\">       41</td><td style=\"text-align: right;\">       1928</td><td style=\"text-align: right;\">      2118</td><td style=\"text-align: right;\">      10</td><td style=\"text-align: right;\">        2108</td><td style=\"text-align: right;\">     2128</td><td style=\"text-align: right;\">        20</td><td style=\"text-align: right;\">               20</td><td style=\"text-align: right;\">             143</td><td style=\"text-align: right;\">                161</td><td style=\"text-align: right;\">      110</td><td style=\"text-align: right;\">       628</td><td style=\"text-align: right;\">              3</td><td style=\"text-align: right;\">             2</td><td style=\"text-align: right;\">                  0</td><td>False        </td></tr>\n",
       "<tr><td><i style='opacity: 0.6'>7</i></td><td>2018-01-23 00:00:00</td><td>UA                         </td><td>Newark, NJ      </td><td>Charleston, SC</td><td style=\"text-align: right;\">        1835</td><td style=\"text-align: right;\">     1823</td><td style=\"text-align: right;\">       -12</td><td style=\"text-align: right;\">                0</td><td style=\"text-align: right;\">       34</td><td style=\"text-align: right;\">       1857</td><td style=\"text-align: right;\">      2103</td><td style=\"text-align: right;\">      11</td><td style=\"text-align: right;\">        2058</td><td style=\"text-align: right;\">     2114</td><td style=\"text-align: right;\">        16</td><td style=\"text-align: right;\">               16</td><td style=\"text-align: right;\">             143</td><td style=\"text-align: right;\">                171</td><td style=\"text-align: right;\">      126</td><td style=\"text-align: right;\">       628</td><td style=\"text-align: right;\">              3</td><td style=\"text-align: right;\">             0</td><td style=\"text-align: right;\">                  0</td><td>False        </td></tr>\n",
       "<tr><td><i style='opacity: 0.6'>8</i></td><td>2018-01-25 00:00:00</td><td>UA                         </td><td>Newark, NJ      </td><td>Charleston, SC</td><td style=\"text-align: right;\">        1845</td><td style=\"text-align: right;\">     1841</td><td style=\"text-align: right;\">        -4</td><td style=\"text-align: right;\">                0</td><td style=\"text-align: right;\">       38</td><td style=\"text-align: right;\">       1919</td><td style=\"text-align: right;\">      2056</td><td style=\"text-align: right;\">       7</td><td style=\"text-align: right;\">        2108</td><td style=\"text-align: right;\">     2103</td><td style=\"text-align: right;\">        -5</td><td style=\"text-align: right;\">                0</td><td style=\"text-align: right;\">             143</td><td style=\"text-align: right;\">                142</td><td style=\"text-align: right;\">       97</td><td style=\"text-align: right;\">       628</td><td style=\"text-align: right;\">              3</td><td style=\"text-align: right;\">             0</td><td style=\"text-align: right;\">                  0</td><td>False        </td></tr>\n",
       "<tr><td><i style='opacity: 0.6'>9</i></td><td>2018-01-26 00:00:00</td><td>UA                         </td><td>Newark, NJ      </td><td>Charleston, SC</td><td style=\"text-align: right;\">        1845</td><td style=\"text-align: right;\">     1838</td><td style=\"text-align: right;\">        -7</td><td style=\"text-align: right;\">                0</td><td style=\"text-align: right;\">       39</td><td style=\"text-align: right;\">       1917</td><td style=\"text-align: right;\">      2047</td><td style=\"text-align: right;\">       6</td><td style=\"text-align: right;\">        2108</td><td style=\"text-align: right;\">     2053</td><td style=\"text-align: right;\">       -15</td><td style=\"text-align: right;\">                0</td><td style=\"text-align: right;\">             143</td><td style=\"text-align: right;\">                135</td><td style=\"text-align: right;\">       90</td><td style=\"text-align: right;\">       628</td><td style=\"text-align: right;\">              3</td><td style=\"text-align: right;\">             0</td><td style=\"text-align: right;\">                  0</td><td>False        </td></tr>\n",
       "</tbody>\n",
       "</table>"
      ],
      "text/plain": [
       "  #  FlightDate           Marketing_Airline_Network    OriginCityName    DestCityName      CRSDepTime    DepTime    DepDelay    DepDelayMinutes    TaxiOut    WheelsOff    WheelsOn    TaxiIn    CRSArrTime    ArrTime    ArrDelay    ArrDelayMinutes    CRSElapsedTime    ActualElapsedTime    AirTime    Distance    DistanceGroup    CarrierDelay    LateAircraftDelay  Was Weekend\n",
       "  0  2018-01-15 00:00:00  UA                           Newark, NJ        Charleston, SC          1845       1928          43                 43         35         2003        2145         4          2108       2149          41                 41               143                  141        102         628                3              41                    0  False\n",
       "  1  2018-01-16 00:00:00  UA                           Newark, NJ        Charleston, SC          1835       1956          81                 81         18         2014        2202         5          2058       2207          69                 69               143                  131        108         628                3              67                    2  False\n",
       "  2  2018-01-17 00:00:00  UA                           Newark, NJ        Charleston, SC          1835       1836           1                  1         19         1855        2048         6          2058       2054          -4                  0               143                  138        113         628                3               0                    0  False\n",
       "  3  2018-01-18 00:00:00  UA                           Newark, NJ        Charleston, SC          1845       1844          -1                  0         36         1920        2052         6          2108       2058         -10                  0               143                  134         92         628                3               0                    0  False\n",
       "  4  2018-01-20 00:00:00  UA                           Newark, NJ        Charleston, SC          1835       1829          -6                  0         22         1851        2020         6          2058       2026         -32                  0               143                  117         89         628                3               0                    0  True\n",
       "  5  2018-01-21 00:00:00  UA                           Newark, NJ        Charleston, SC          1835       1825         -10                  0         44         1909        2039         5          2058       2044         -14                  0               143                  139         90         628                3               0                    0  True\n",
       "  6  2018-01-22 00:00:00  UA                           Newark, NJ        Charleston, SC          1845       1847           2                  2         41         1928        2118        10          2108       2128          20                 20               143                  161        110         628                3               2                    0  False\n",
       "  7  2018-01-23 00:00:00  UA                           Newark, NJ        Charleston, SC          1835       1823         -12                  0         34         1857        2103        11          2058       2114          16                 16               143                  171        126         628                3               0                    0  False\n",
       "  8  2018-01-25 00:00:00  UA                           Newark, NJ        Charleston, SC          1845       1841          -4                  0         38         1919        2056         7          2108       2103          -5                  0               143                  142         97         628                3               0                    0  False\n",
       "  9  2018-01-26 00:00:00  UA                           Newark, NJ        Charleston, SC          1845       1838          -7                  0         39         1917        2047         6          2108       2053         -15                  0               143                  135         90         628                3               0                    0  False"
      ]
     },
     "execution_count": 89,
     "metadata": {},
     "output_type": "execute_result"
    }
   ],
   "source": [
    "flight_vaex.head()"
   ]
  },
  {
   "cell_type": "markdown",
   "id": "c3752110",
   "metadata": {},
   "source": [
    "Note CRS ELapsed time = CRSDep Time - CRSArr Time\n",
    ",same in case for actual"
   ]
  },
  {
   "cell_type": "code",
   "execution_count": 90,
   "id": "acb9d767",
   "metadata": {},
   "outputs": [],
   "source": [
    "def airline_abbreviation_to_name(x): \n",
    "    airline_abb = {\n",
    "        \"UA\" : \"United Airlines\",\n",
    "        \"DL\" : \"Delta Airlines\",\n",
    "        \"F9\" : \"Frontier Airlines\",\n",
    "        \"NK\" : \"Spirit Airlines\",\n",
    "        \"AA\" : \"American Airlines\",\n",
    "        \"WN\" : \"Southwest Airlines\",\n",
    "        \"AS\" : \"Alaska Airlines\",\n",
    "        \"HA\" : \"Hawaiian Airlines\",\n",
    "        \"VX\" : \"Virgin America\",\n",
    "        \"B6\" : \"JetBlue Airways\",\n",
    "        \"G4\" : \"Allegiant Air\",    \n",
    "    }\n",
    "    for key, value in airline_abb.items():\n",
    "        if x == key:\n",
    "            x = value\n",
    "    return x\n",
    "\n",
    "flight_vaex[\"Airline\"] = flight_vaex[\"Marketing_Airline_Network\"].apply(airline_abbreviation_to_name)"
   ]
  },
  {
   "cell_type": "code",
   "execution_count": 91,
   "id": "080a68c2",
   "metadata": {},
   "outputs": [],
   "source": [
    "flight_vaex = flight_vaex.drop(columns=['Marketing_Airline_Network'])"
   ]
  },
  {
   "cell_type": "code",
   "execution_count": 92,
   "id": "7369161c",
   "metadata": {},
   "outputs": [
    {
     "data": {
      "text/html": [
       "<table>\n",
       "<thead>\n",
       "<tr><th>#                            </th><th>FlightDate         </th><th>OriginCityName  </th><th>DestCityName  </th><th style=\"text-align: right;\">  CRSDepTime</th><th style=\"text-align: right;\">  DepTime</th><th style=\"text-align: right;\">  DepDelay</th><th style=\"text-align: right;\">  DepDelayMinutes</th><th style=\"text-align: right;\">  TaxiOut</th><th style=\"text-align: right;\">  WheelsOff</th><th style=\"text-align: right;\">  WheelsOn</th><th style=\"text-align: right;\">  TaxiIn</th><th style=\"text-align: right;\">  CRSArrTime</th><th style=\"text-align: right;\">  ArrTime</th><th style=\"text-align: right;\">  ArrDelay</th><th style=\"text-align: right;\">  ArrDelayMinutes</th><th style=\"text-align: right;\">  CRSElapsedTime</th><th style=\"text-align: right;\">  ActualElapsedTime</th><th style=\"text-align: right;\">  AirTime</th><th style=\"text-align: right;\">  Distance</th><th style=\"text-align: right;\">  DistanceGroup</th><th style=\"text-align: right;\">  CarrierDelay</th><th style=\"text-align: right;\">  LateAircraftDelay</th><th>Was Weekend  </th><th>Airline        </th></tr>\n",
       "</thead>\n",
       "<tbody>\n",
       "<tr><td><i style='opacity: 0.6'>0</i></td><td>2018-01-15 00:00:00</td><td>Newark, NJ      </td><td>Charleston, SC</td><td style=\"text-align: right;\">        1845</td><td style=\"text-align: right;\">     1928</td><td style=\"text-align: right;\">        43</td><td style=\"text-align: right;\">               43</td><td style=\"text-align: right;\">       35</td><td style=\"text-align: right;\">       2003</td><td style=\"text-align: right;\">      2145</td><td style=\"text-align: right;\">       4</td><td style=\"text-align: right;\">        2108</td><td style=\"text-align: right;\">     2149</td><td style=\"text-align: right;\">        41</td><td style=\"text-align: right;\">               41</td><td style=\"text-align: right;\">             143</td><td style=\"text-align: right;\">                141</td><td style=\"text-align: right;\">      102</td><td style=\"text-align: right;\">       628</td><td style=\"text-align: right;\">              3</td><td style=\"text-align: right;\">            41</td><td style=\"text-align: right;\">                  0</td><td>False        </td><td>United Airlines</td></tr>\n",
       "<tr><td><i style='opacity: 0.6'>1</i></td><td>2018-01-16 00:00:00</td><td>Newark, NJ      </td><td>Charleston, SC</td><td style=\"text-align: right;\">        1835</td><td style=\"text-align: right;\">     1956</td><td style=\"text-align: right;\">        81</td><td style=\"text-align: right;\">               81</td><td style=\"text-align: right;\">       18</td><td style=\"text-align: right;\">       2014</td><td style=\"text-align: right;\">      2202</td><td style=\"text-align: right;\">       5</td><td style=\"text-align: right;\">        2058</td><td style=\"text-align: right;\">     2207</td><td style=\"text-align: right;\">        69</td><td style=\"text-align: right;\">               69</td><td style=\"text-align: right;\">             143</td><td style=\"text-align: right;\">                131</td><td style=\"text-align: right;\">      108</td><td style=\"text-align: right;\">       628</td><td style=\"text-align: right;\">              3</td><td style=\"text-align: right;\">            67</td><td style=\"text-align: right;\">                  2</td><td>False        </td><td>United Airlines</td></tr>\n",
       "<tr><td><i style='opacity: 0.6'>2</i></td><td>2018-01-17 00:00:00</td><td>Newark, NJ      </td><td>Charleston, SC</td><td style=\"text-align: right;\">        1835</td><td style=\"text-align: right;\">     1836</td><td style=\"text-align: right;\">         1</td><td style=\"text-align: right;\">                1</td><td style=\"text-align: right;\">       19</td><td style=\"text-align: right;\">       1855</td><td style=\"text-align: right;\">      2048</td><td style=\"text-align: right;\">       6</td><td style=\"text-align: right;\">        2058</td><td style=\"text-align: right;\">     2054</td><td style=\"text-align: right;\">        -4</td><td style=\"text-align: right;\">                0</td><td style=\"text-align: right;\">             143</td><td style=\"text-align: right;\">                138</td><td style=\"text-align: right;\">      113</td><td style=\"text-align: right;\">       628</td><td style=\"text-align: right;\">              3</td><td style=\"text-align: right;\">             0</td><td style=\"text-align: right;\">                  0</td><td>False        </td><td>United Airlines</td></tr>\n",
       "<tr><td><i style='opacity: 0.6'>3</i></td><td>2018-01-18 00:00:00</td><td>Newark, NJ      </td><td>Charleston, SC</td><td style=\"text-align: right;\">        1845</td><td style=\"text-align: right;\">     1844</td><td style=\"text-align: right;\">        -1</td><td style=\"text-align: right;\">                0</td><td style=\"text-align: right;\">       36</td><td style=\"text-align: right;\">       1920</td><td style=\"text-align: right;\">      2052</td><td style=\"text-align: right;\">       6</td><td style=\"text-align: right;\">        2108</td><td style=\"text-align: right;\">     2058</td><td style=\"text-align: right;\">       -10</td><td style=\"text-align: right;\">                0</td><td style=\"text-align: right;\">             143</td><td style=\"text-align: right;\">                134</td><td style=\"text-align: right;\">       92</td><td style=\"text-align: right;\">       628</td><td style=\"text-align: right;\">              3</td><td style=\"text-align: right;\">             0</td><td style=\"text-align: right;\">                  0</td><td>False        </td><td>United Airlines</td></tr>\n",
       "<tr><td><i style='opacity: 0.6'>4</i></td><td>2018-01-20 00:00:00</td><td>Newark, NJ      </td><td>Charleston, SC</td><td style=\"text-align: right;\">        1835</td><td style=\"text-align: right;\">     1829</td><td style=\"text-align: right;\">        -6</td><td style=\"text-align: right;\">                0</td><td style=\"text-align: right;\">       22</td><td style=\"text-align: right;\">       1851</td><td style=\"text-align: right;\">      2020</td><td style=\"text-align: right;\">       6</td><td style=\"text-align: right;\">        2058</td><td style=\"text-align: right;\">     2026</td><td style=\"text-align: right;\">       -32</td><td style=\"text-align: right;\">                0</td><td style=\"text-align: right;\">             143</td><td style=\"text-align: right;\">                117</td><td style=\"text-align: right;\">       89</td><td style=\"text-align: right;\">       628</td><td style=\"text-align: right;\">              3</td><td style=\"text-align: right;\">             0</td><td style=\"text-align: right;\">                  0</td><td>True         </td><td>United Airlines</td></tr>\n",
       "<tr><td><i style='opacity: 0.6'>5</i></td><td>2018-01-21 00:00:00</td><td>Newark, NJ      </td><td>Charleston, SC</td><td style=\"text-align: right;\">        1835</td><td style=\"text-align: right;\">     1825</td><td style=\"text-align: right;\">       -10</td><td style=\"text-align: right;\">                0</td><td style=\"text-align: right;\">       44</td><td style=\"text-align: right;\">       1909</td><td style=\"text-align: right;\">      2039</td><td style=\"text-align: right;\">       5</td><td style=\"text-align: right;\">        2058</td><td style=\"text-align: right;\">     2044</td><td style=\"text-align: right;\">       -14</td><td style=\"text-align: right;\">                0</td><td style=\"text-align: right;\">             143</td><td style=\"text-align: right;\">                139</td><td style=\"text-align: right;\">       90</td><td style=\"text-align: right;\">       628</td><td style=\"text-align: right;\">              3</td><td style=\"text-align: right;\">             0</td><td style=\"text-align: right;\">                  0</td><td>True         </td><td>United Airlines</td></tr>\n",
       "<tr><td><i style='opacity: 0.6'>6</i></td><td>2018-01-22 00:00:00</td><td>Newark, NJ      </td><td>Charleston, SC</td><td style=\"text-align: right;\">        1845</td><td style=\"text-align: right;\">     1847</td><td style=\"text-align: right;\">         2</td><td style=\"text-align: right;\">                2</td><td style=\"text-align: right;\">       41</td><td style=\"text-align: right;\">       1928</td><td style=\"text-align: right;\">      2118</td><td style=\"text-align: right;\">      10</td><td style=\"text-align: right;\">        2108</td><td style=\"text-align: right;\">     2128</td><td style=\"text-align: right;\">        20</td><td style=\"text-align: right;\">               20</td><td style=\"text-align: right;\">             143</td><td style=\"text-align: right;\">                161</td><td style=\"text-align: right;\">      110</td><td style=\"text-align: right;\">       628</td><td style=\"text-align: right;\">              3</td><td style=\"text-align: right;\">             2</td><td style=\"text-align: right;\">                  0</td><td>False        </td><td>United Airlines</td></tr>\n",
       "<tr><td><i style='opacity: 0.6'>7</i></td><td>2018-01-23 00:00:00</td><td>Newark, NJ      </td><td>Charleston, SC</td><td style=\"text-align: right;\">        1835</td><td style=\"text-align: right;\">     1823</td><td style=\"text-align: right;\">       -12</td><td style=\"text-align: right;\">                0</td><td style=\"text-align: right;\">       34</td><td style=\"text-align: right;\">       1857</td><td style=\"text-align: right;\">      2103</td><td style=\"text-align: right;\">      11</td><td style=\"text-align: right;\">        2058</td><td style=\"text-align: right;\">     2114</td><td style=\"text-align: right;\">        16</td><td style=\"text-align: right;\">               16</td><td style=\"text-align: right;\">             143</td><td style=\"text-align: right;\">                171</td><td style=\"text-align: right;\">      126</td><td style=\"text-align: right;\">       628</td><td style=\"text-align: right;\">              3</td><td style=\"text-align: right;\">             0</td><td style=\"text-align: right;\">                  0</td><td>False        </td><td>United Airlines</td></tr>\n",
       "<tr><td><i style='opacity: 0.6'>8</i></td><td>2018-01-25 00:00:00</td><td>Newark, NJ      </td><td>Charleston, SC</td><td style=\"text-align: right;\">        1845</td><td style=\"text-align: right;\">     1841</td><td style=\"text-align: right;\">        -4</td><td style=\"text-align: right;\">                0</td><td style=\"text-align: right;\">       38</td><td style=\"text-align: right;\">       1919</td><td style=\"text-align: right;\">      2056</td><td style=\"text-align: right;\">       7</td><td style=\"text-align: right;\">        2108</td><td style=\"text-align: right;\">     2103</td><td style=\"text-align: right;\">        -5</td><td style=\"text-align: right;\">                0</td><td style=\"text-align: right;\">             143</td><td style=\"text-align: right;\">                142</td><td style=\"text-align: right;\">       97</td><td style=\"text-align: right;\">       628</td><td style=\"text-align: right;\">              3</td><td style=\"text-align: right;\">             0</td><td style=\"text-align: right;\">                  0</td><td>False        </td><td>United Airlines</td></tr>\n",
       "<tr><td><i style='opacity: 0.6'>9</i></td><td>2018-01-26 00:00:00</td><td>Newark, NJ      </td><td>Charleston, SC</td><td style=\"text-align: right;\">        1845</td><td style=\"text-align: right;\">     1838</td><td style=\"text-align: right;\">        -7</td><td style=\"text-align: right;\">                0</td><td style=\"text-align: right;\">       39</td><td style=\"text-align: right;\">       1917</td><td style=\"text-align: right;\">      2047</td><td style=\"text-align: right;\">       6</td><td style=\"text-align: right;\">        2108</td><td style=\"text-align: right;\">     2053</td><td style=\"text-align: right;\">       -15</td><td style=\"text-align: right;\">                0</td><td style=\"text-align: right;\">             143</td><td style=\"text-align: right;\">                135</td><td style=\"text-align: right;\">       90</td><td style=\"text-align: right;\">       628</td><td style=\"text-align: right;\">              3</td><td style=\"text-align: right;\">             0</td><td style=\"text-align: right;\">                  0</td><td>False        </td><td>United Airlines</td></tr>\n",
       "</tbody>\n",
       "</table>"
      ],
      "text/plain": [
       "  #  FlightDate           OriginCityName    DestCityName      CRSDepTime    DepTime    DepDelay    DepDelayMinutes    TaxiOut    WheelsOff    WheelsOn    TaxiIn    CRSArrTime    ArrTime    ArrDelay    ArrDelayMinutes    CRSElapsedTime    ActualElapsedTime    AirTime    Distance    DistanceGroup    CarrierDelay    LateAircraftDelay  Was Weekend    Airline\n",
       "  0  2018-01-15 00:00:00  Newark, NJ        Charleston, SC          1845       1928          43                 43         35         2003        2145         4          2108       2149          41                 41               143                  141        102         628                3              41                    0  False          United Airlines\n",
       "  1  2018-01-16 00:00:00  Newark, NJ        Charleston, SC          1835       1956          81                 81         18         2014        2202         5          2058       2207          69                 69               143                  131        108         628                3              67                    2  False          United Airlines\n",
       "  2  2018-01-17 00:00:00  Newark, NJ        Charleston, SC          1835       1836           1                  1         19         1855        2048         6          2058       2054          -4                  0               143                  138        113         628                3               0                    0  False          United Airlines\n",
       "  3  2018-01-18 00:00:00  Newark, NJ        Charleston, SC          1845       1844          -1                  0         36         1920        2052         6          2108       2058         -10                  0               143                  134         92         628                3               0                    0  False          United Airlines\n",
       "  4  2018-01-20 00:00:00  Newark, NJ        Charleston, SC          1835       1829          -6                  0         22         1851        2020         6          2058       2026         -32                  0               143                  117         89         628                3               0                    0  True           United Airlines\n",
       "  5  2018-01-21 00:00:00  Newark, NJ        Charleston, SC          1835       1825         -10                  0         44         1909        2039         5          2058       2044         -14                  0               143                  139         90         628                3               0                    0  True           United Airlines\n",
       "  6  2018-01-22 00:00:00  Newark, NJ        Charleston, SC          1845       1847           2                  2         41         1928        2118        10          2108       2128          20                 20               143                  161        110         628                3               2                    0  False          United Airlines\n",
       "  7  2018-01-23 00:00:00  Newark, NJ        Charleston, SC          1835       1823         -12                  0         34         1857        2103        11          2058       2114          16                 16               143                  171        126         628                3               0                    0  False          United Airlines\n",
       "  8  2018-01-25 00:00:00  Newark, NJ        Charleston, SC          1845       1841          -4                  0         38         1919        2056         7          2108       2103          -5                  0               143                  142         97         628                3               0                    0  False          United Airlines\n",
       "  9  2018-01-26 00:00:00  Newark, NJ        Charleston, SC          1845       1838          -7                  0         39         1917        2047         6          2108       2053         -15                  0               143                  135         90         628                3               0                    0  False          United Airlines"
      ]
     },
     "execution_count": 92,
     "metadata": {},
     "output_type": "execute_result"
    }
   ],
   "source": [
    "flight_vaex.head()"
   ]
  },
  {
   "cell_type": "code",
   "execution_count": 93,
   "id": "6551ce73",
   "metadata": {},
   "outputs": [],
   "source": [
    "# From FLightDate Column \n",
    "# new col \"year\", \"DayOfWeek\",\"DayOfMonth\" ,\"Month\""
   ]
  },
  {
   "cell_type": "code",
   "execution_count": 94,
   "id": "ec9e7499",
   "metadata": {},
   "outputs": [],
   "source": [
    "flight_vaex['Year']=flight_vaex['FlightDate'].dt.year\n",
    "flight_vaex['DayOfWeek']=flight_vaex['FlightDate'].dt.dayofweek\n",
    "flight_vaex['Month']=flight_vaex['FlightDate'].dt.month\n",
    "flight_vaex['DayOfMonth']=flight_vaex['FlightDate'].dt.day"
   ]
  },
  {
   "cell_type": "code",
   "execution_count": 95,
   "id": "5e9cf42c",
   "metadata": {},
   "outputs": [
    {
     "data": {
      "text/html": [
       "<table>\n",
       "<thead>\n",
       "<tr><th>#                            </th><th>FlightDate         </th><th>OriginCityName  </th><th>DestCityName  </th><th style=\"text-align: right;\">  CRSDepTime</th><th style=\"text-align: right;\">  DepTime</th><th style=\"text-align: right;\">  DepDelay</th><th style=\"text-align: right;\">  DepDelayMinutes</th><th style=\"text-align: right;\">  TaxiOut</th><th style=\"text-align: right;\">  WheelsOff</th><th style=\"text-align: right;\">  WheelsOn</th><th style=\"text-align: right;\">  TaxiIn</th><th style=\"text-align: right;\">  CRSArrTime</th><th style=\"text-align: right;\">  ArrTime</th><th style=\"text-align: right;\">  ArrDelay</th><th style=\"text-align: right;\">  ArrDelayMinutes</th><th style=\"text-align: right;\">  CRSElapsedTime</th><th style=\"text-align: right;\">  ActualElapsedTime</th><th style=\"text-align: right;\">  AirTime</th><th style=\"text-align: right;\">  Distance</th><th style=\"text-align: right;\">  DistanceGroup</th><th style=\"text-align: right;\">  CarrierDelay</th><th style=\"text-align: right;\">  LateAircraftDelay</th><th>Was Weekend  </th><th>Airline        </th><th style=\"text-align: right;\">  Year</th><th style=\"text-align: right;\">  DayOfWeek</th><th style=\"text-align: right;\">  Month</th><th style=\"text-align: right;\">  DayOfMonth</th></tr>\n",
       "</thead>\n",
       "<tbody>\n",
       "<tr><td><i style='opacity: 0.6'>0</i></td><td>2018-01-15 00:00:00</td><td>Newark, NJ      </td><td>Charleston, SC</td><td style=\"text-align: right;\">        1845</td><td style=\"text-align: right;\">     1928</td><td style=\"text-align: right;\">        43</td><td style=\"text-align: right;\">               43</td><td style=\"text-align: right;\">       35</td><td style=\"text-align: right;\">       2003</td><td style=\"text-align: right;\">      2145</td><td style=\"text-align: right;\">       4</td><td style=\"text-align: right;\">        2108</td><td style=\"text-align: right;\">     2149</td><td style=\"text-align: right;\">        41</td><td style=\"text-align: right;\">               41</td><td style=\"text-align: right;\">             143</td><td style=\"text-align: right;\">                141</td><td style=\"text-align: right;\">      102</td><td style=\"text-align: right;\">       628</td><td style=\"text-align: right;\">              3</td><td style=\"text-align: right;\">            41</td><td style=\"text-align: right;\">                  0</td><td>False        </td><td>United Airlines</td><td style=\"text-align: right;\">  2018</td><td style=\"text-align: right;\">          0</td><td style=\"text-align: right;\">      1</td><td style=\"text-align: right;\">          15</td></tr>\n",
       "<tr><td><i style='opacity: 0.6'>1</i></td><td>2018-01-16 00:00:00</td><td>Newark, NJ      </td><td>Charleston, SC</td><td style=\"text-align: right;\">        1835</td><td style=\"text-align: right;\">     1956</td><td style=\"text-align: right;\">        81</td><td style=\"text-align: right;\">               81</td><td style=\"text-align: right;\">       18</td><td style=\"text-align: right;\">       2014</td><td style=\"text-align: right;\">      2202</td><td style=\"text-align: right;\">       5</td><td style=\"text-align: right;\">        2058</td><td style=\"text-align: right;\">     2207</td><td style=\"text-align: right;\">        69</td><td style=\"text-align: right;\">               69</td><td style=\"text-align: right;\">             143</td><td style=\"text-align: right;\">                131</td><td style=\"text-align: right;\">      108</td><td style=\"text-align: right;\">       628</td><td style=\"text-align: right;\">              3</td><td style=\"text-align: right;\">            67</td><td style=\"text-align: right;\">                  2</td><td>False        </td><td>United Airlines</td><td style=\"text-align: right;\">  2018</td><td style=\"text-align: right;\">          1</td><td style=\"text-align: right;\">      1</td><td style=\"text-align: right;\">          16</td></tr>\n",
       "<tr><td><i style='opacity: 0.6'>2</i></td><td>2018-01-17 00:00:00</td><td>Newark, NJ      </td><td>Charleston, SC</td><td style=\"text-align: right;\">        1835</td><td style=\"text-align: right;\">     1836</td><td style=\"text-align: right;\">         1</td><td style=\"text-align: right;\">                1</td><td style=\"text-align: right;\">       19</td><td style=\"text-align: right;\">       1855</td><td style=\"text-align: right;\">      2048</td><td style=\"text-align: right;\">       6</td><td style=\"text-align: right;\">        2058</td><td style=\"text-align: right;\">     2054</td><td style=\"text-align: right;\">        -4</td><td style=\"text-align: right;\">                0</td><td style=\"text-align: right;\">             143</td><td style=\"text-align: right;\">                138</td><td style=\"text-align: right;\">      113</td><td style=\"text-align: right;\">       628</td><td style=\"text-align: right;\">              3</td><td style=\"text-align: right;\">             0</td><td style=\"text-align: right;\">                  0</td><td>False        </td><td>United Airlines</td><td style=\"text-align: right;\">  2018</td><td style=\"text-align: right;\">          2</td><td style=\"text-align: right;\">      1</td><td style=\"text-align: right;\">          17</td></tr>\n",
       "<tr><td><i style='opacity: 0.6'>3</i></td><td>2018-01-18 00:00:00</td><td>Newark, NJ      </td><td>Charleston, SC</td><td style=\"text-align: right;\">        1845</td><td style=\"text-align: right;\">     1844</td><td style=\"text-align: right;\">        -1</td><td style=\"text-align: right;\">                0</td><td style=\"text-align: right;\">       36</td><td style=\"text-align: right;\">       1920</td><td style=\"text-align: right;\">      2052</td><td style=\"text-align: right;\">       6</td><td style=\"text-align: right;\">        2108</td><td style=\"text-align: right;\">     2058</td><td style=\"text-align: right;\">       -10</td><td style=\"text-align: right;\">                0</td><td style=\"text-align: right;\">             143</td><td style=\"text-align: right;\">                134</td><td style=\"text-align: right;\">       92</td><td style=\"text-align: right;\">       628</td><td style=\"text-align: right;\">              3</td><td style=\"text-align: right;\">             0</td><td style=\"text-align: right;\">                  0</td><td>False        </td><td>United Airlines</td><td style=\"text-align: right;\">  2018</td><td style=\"text-align: right;\">          3</td><td style=\"text-align: right;\">      1</td><td style=\"text-align: right;\">          18</td></tr>\n",
       "<tr><td><i style='opacity: 0.6'>4</i></td><td>2018-01-20 00:00:00</td><td>Newark, NJ      </td><td>Charleston, SC</td><td style=\"text-align: right;\">        1835</td><td style=\"text-align: right;\">     1829</td><td style=\"text-align: right;\">        -6</td><td style=\"text-align: right;\">                0</td><td style=\"text-align: right;\">       22</td><td style=\"text-align: right;\">       1851</td><td style=\"text-align: right;\">      2020</td><td style=\"text-align: right;\">       6</td><td style=\"text-align: right;\">        2058</td><td style=\"text-align: right;\">     2026</td><td style=\"text-align: right;\">       -32</td><td style=\"text-align: right;\">                0</td><td style=\"text-align: right;\">             143</td><td style=\"text-align: right;\">                117</td><td style=\"text-align: right;\">       89</td><td style=\"text-align: right;\">       628</td><td style=\"text-align: right;\">              3</td><td style=\"text-align: right;\">             0</td><td style=\"text-align: right;\">                  0</td><td>True         </td><td>United Airlines</td><td style=\"text-align: right;\">  2018</td><td style=\"text-align: right;\">          5</td><td style=\"text-align: right;\">      1</td><td style=\"text-align: right;\">          20</td></tr>\n",
       "<tr><td><i style='opacity: 0.6'>5</i></td><td>2018-01-21 00:00:00</td><td>Newark, NJ      </td><td>Charleston, SC</td><td style=\"text-align: right;\">        1835</td><td style=\"text-align: right;\">     1825</td><td style=\"text-align: right;\">       -10</td><td style=\"text-align: right;\">                0</td><td style=\"text-align: right;\">       44</td><td style=\"text-align: right;\">       1909</td><td style=\"text-align: right;\">      2039</td><td style=\"text-align: right;\">       5</td><td style=\"text-align: right;\">        2058</td><td style=\"text-align: right;\">     2044</td><td style=\"text-align: right;\">       -14</td><td style=\"text-align: right;\">                0</td><td style=\"text-align: right;\">             143</td><td style=\"text-align: right;\">                139</td><td style=\"text-align: right;\">       90</td><td style=\"text-align: right;\">       628</td><td style=\"text-align: right;\">              3</td><td style=\"text-align: right;\">             0</td><td style=\"text-align: right;\">                  0</td><td>True         </td><td>United Airlines</td><td style=\"text-align: right;\">  2018</td><td style=\"text-align: right;\">          6</td><td style=\"text-align: right;\">      1</td><td style=\"text-align: right;\">          21</td></tr>\n",
       "<tr><td><i style='opacity: 0.6'>6</i></td><td>2018-01-22 00:00:00</td><td>Newark, NJ      </td><td>Charleston, SC</td><td style=\"text-align: right;\">        1845</td><td style=\"text-align: right;\">     1847</td><td style=\"text-align: right;\">         2</td><td style=\"text-align: right;\">                2</td><td style=\"text-align: right;\">       41</td><td style=\"text-align: right;\">       1928</td><td style=\"text-align: right;\">      2118</td><td style=\"text-align: right;\">      10</td><td style=\"text-align: right;\">        2108</td><td style=\"text-align: right;\">     2128</td><td style=\"text-align: right;\">        20</td><td style=\"text-align: right;\">               20</td><td style=\"text-align: right;\">             143</td><td style=\"text-align: right;\">                161</td><td style=\"text-align: right;\">      110</td><td style=\"text-align: right;\">       628</td><td style=\"text-align: right;\">              3</td><td style=\"text-align: right;\">             2</td><td style=\"text-align: right;\">                  0</td><td>False        </td><td>United Airlines</td><td style=\"text-align: right;\">  2018</td><td style=\"text-align: right;\">          0</td><td style=\"text-align: right;\">      1</td><td style=\"text-align: right;\">          22</td></tr>\n",
       "<tr><td><i style='opacity: 0.6'>7</i></td><td>2018-01-23 00:00:00</td><td>Newark, NJ      </td><td>Charleston, SC</td><td style=\"text-align: right;\">        1835</td><td style=\"text-align: right;\">     1823</td><td style=\"text-align: right;\">       -12</td><td style=\"text-align: right;\">                0</td><td style=\"text-align: right;\">       34</td><td style=\"text-align: right;\">       1857</td><td style=\"text-align: right;\">      2103</td><td style=\"text-align: right;\">      11</td><td style=\"text-align: right;\">        2058</td><td style=\"text-align: right;\">     2114</td><td style=\"text-align: right;\">        16</td><td style=\"text-align: right;\">               16</td><td style=\"text-align: right;\">             143</td><td style=\"text-align: right;\">                171</td><td style=\"text-align: right;\">      126</td><td style=\"text-align: right;\">       628</td><td style=\"text-align: right;\">              3</td><td style=\"text-align: right;\">             0</td><td style=\"text-align: right;\">                  0</td><td>False        </td><td>United Airlines</td><td style=\"text-align: right;\">  2018</td><td style=\"text-align: right;\">          1</td><td style=\"text-align: right;\">      1</td><td style=\"text-align: right;\">          23</td></tr>\n",
       "<tr><td><i style='opacity: 0.6'>8</i></td><td>2018-01-25 00:00:00</td><td>Newark, NJ      </td><td>Charleston, SC</td><td style=\"text-align: right;\">        1845</td><td style=\"text-align: right;\">     1841</td><td style=\"text-align: right;\">        -4</td><td style=\"text-align: right;\">                0</td><td style=\"text-align: right;\">       38</td><td style=\"text-align: right;\">       1919</td><td style=\"text-align: right;\">      2056</td><td style=\"text-align: right;\">       7</td><td style=\"text-align: right;\">        2108</td><td style=\"text-align: right;\">     2103</td><td style=\"text-align: right;\">        -5</td><td style=\"text-align: right;\">                0</td><td style=\"text-align: right;\">             143</td><td style=\"text-align: right;\">                142</td><td style=\"text-align: right;\">       97</td><td style=\"text-align: right;\">       628</td><td style=\"text-align: right;\">              3</td><td style=\"text-align: right;\">             0</td><td style=\"text-align: right;\">                  0</td><td>False        </td><td>United Airlines</td><td style=\"text-align: right;\">  2018</td><td style=\"text-align: right;\">          3</td><td style=\"text-align: right;\">      1</td><td style=\"text-align: right;\">          25</td></tr>\n",
       "<tr><td><i style='opacity: 0.6'>9</i></td><td>2018-01-26 00:00:00</td><td>Newark, NJ      </td><td>Charleston, SC</td><td style=\"text-align: right;\">        1845</td><td style=\"text-align: right;\">     1838</td><td style=\"text-align: right;\">        -7</td><td style=\"text-align: right;\">                0</td><td style=\"text-align: right;\">       39</td><td style=\"text-align: right;\">       1917</td><td style=\"text-align: right;\">      2047</td><td style=\"text-align: right;\">       6</td><td style=\"text-align: right;\">        2108</td><td style=\"text-align: right;\">     2053</td><td style=\"text-align: right;\">       -15</td><td style=\"text-align: right;\">                0</td><td style=\"text-align: right;\">             143</td><td style=\"text-align: right;\">                135</td><td style=\"text-align: right;\">       90</td><td style=\"text-align: right;\">       628</td><td style=\"text-align: right;\">              3</td><td style=\"text-align: right;\">             0</td><td style=\"text-align: right;\">                  0</td><td>False        </td><td>United Airlines</td><td style=\"text-align: right;\">  2018</td><td style=\"text-align: right;\">          4</td><td style=\"text-align: right;\">      1</td><td style=\"text-align: right;\">          26</td></tr>\n",
       "</tbody>\n",
       "</table>"
      ],
      "text/plain": [
       "  #  FlightDate           OriginCityName    DestCityName      CRSDepTime    DepTime    DepDelay    DepDelayMinutes    TaxiOut    WheelsOff    WheelsOn    TaxiIn    CRSArrTime    ArrTime    ArrDelay    ArrDelayMinutes    CRSElapsedTime    ActualElapsedTime    AirTime    Distance    DistanceGroup    CarrierDelay    LateAircraftDelay  Was Weekend    Airline            Year    DayOfWeek    Month    DayOfMonth\n",
       "  0  2018-01-15 00:00:00  Newark, NJ        Charleston, SC          1845       1928          43                 43         35         2003        2145         4          2108       2149          41                 41               143                  141        102         628                3              41                    0  False          United Airlines    2018            0        1            15\n",
       "  1  2018-01-16 00:00:00  Newark, NJ        Charleston, SC          1835       1956          81                 81         18         2014        2202         5          2058       2207          69                 69               143                  131        108         628                3              67                    2  False          United Airlines    2018            1        1            16\n",
       "  2  2018-01-17 00:00:00  Newark, NJ        Charleston, SC          1835       1836           1                  1         19         1855        2048         6          2058       2054          -4                  0               143                  138        113         628                3               0                    0  False          United Airlines    2018            2        1            17\n",
       "  3  2018-01-18 00:00:00  Newark, NJ        Charleston, SC          1845       1844          -1                  0         36         1920        2052         6          2108       2058         -10                  0               143                  134         92         628                3               0                    0  False          United Airlines    2018            3        1            18\n",
       "  4  2018-01-20 00:00:00  Newark, NJ        Charleston, SC          1835       1829          -6                  0         22         1851        2020         6          2058       2026         -32                  0               143                  117         89         628                3               0                    0  True           United Airlines    2018            5        1            20\n",
       "  5  2018-01-21 00:00:00  Newark, NJ        Charleston, SC          1835       1825         -10                  0         44         1909        2039         5          2058       2044         -14                  0               143                  139         90         628                3               0                    0  True           United Airlines    2018            6        1            21\n",
       "  6  2018-01-22 00:00:00  Newark, NJ        Charleston, SC          1845       1847           2                  2         41         1928        2118        10          2108       2128          20                 20               143                  161        110         628                3               2                    0  False          United Airlines    2018            0        1            22\n",
       "  7  2018-01-23 00:00:00  Newark, NJ        Charleston, SC          1835       1823         -12                  0         34         1857        2103        11          2058       2114          16                 16               143                  171        126         628                3               0                    0  False          United Airlines    2018            1        1            23\n",
       "  8  2018-01-25 00:00:00  Newark, NJ        Charleston, SC          1845       1841          -4                  0         38         1919        2056         7          2108       2103          -5                  0               143                  142         97         628                3               0                    0  False          United Airlines    2018            3        1            25\n",
       "  9  2018-01-26 00:00:00  Newark, NJ        Charleston, SC          1845       1838          -7                  0         39         1917        2047         6          2108       2053         -15                  0               143                  135         90         628                3               0                    0  False          United Airlines    2018            4        1            26"
      ]
     },
     "execution_count": 95,
     "metadata": {},
     "output_type": "execute_result"
    }
   ],
   "source": [
    "flight_vaex.head()"
   ]
  },
  {
   "cell_type": "code",
   "execution_count": 96,
   "id": "bdba953c",
   "metadata": {},
   "outputs": [
    {
     "data": {
      "text/plain": [
       "array(0.07888809)"
      ]
     },
     "execution_count": 96,
     "metadata": {},
     "output_type": "execute_result"
    }
   ],
   "source": [
    "flight_vaex.correlation('TaxiOut', 'DepDelay')"
   ]
  },
  {
   "cell_type": "code",
   "execution_count": 97,
   "id": "c9bc394e",
   "metadata": {},
   "outputs": [
    {
     "data": {
      "text/plain": [
       "array(0.03074851)"
      ]
     },
     "execution_count": 97,
     "metadata": {},
     "output_type": "execute_result"
    }
   ],
   "source": [
    "flight_vaex.correlation('TaxiIn','DepDelay')"
   ]
  },
  {
   "cell_type": "code",
   "execution_count": 98,
   "id": "4cb9091f",
   "metadata": {},
   "outputs": [
    {
     "data": {
      "text/plain": [
       "array(0.21716151)"
      ]
     },
     "execution_count": 98,
     "metadata": {},
     "output_type": "execute_result"
    }
   ],
   "source": [
    "flight_vaex.correlation('TaxiOut', 'ArrDelay')"
   ]
  },
  {
   "cell_type": "code",
   "execution_count": 99,
   "id": "dc9b74c5",
   "metadata": {},
   "outputs": [
    {
     "data": {
      "text/plain": [
       "array(0.11426912)"
      ]
     },
     "execution_count": 99,
     "metadata": {},
     "output_type": "execute_result"
    }
   ],
   "source": [
    "flight_vaex.correlation('TaxiIn', 'ArrDelay')"
   ]
  },
  {
   "cell_type": "code",
   "execution_count": 100,
   "id": "00542409",
   "metadata": {},
   "outputs": [],
   "source": [
    "# Droping Taxiout, TaxiIn, DepDelayMinutes,ArrDelayMinutes,DistanceGroup, CarrierDelay, LateAircraftDelay,WheelsOn, WheelsOff,DepTime,ArrTime"
   ]
  },
  {
   "cell_type": "code",
   "execution_count": 101,
   "id": "7629d311",
   "metadata": {
    "scrolled": true
   },
   "outputs": [],
   "source": [
    "flight_vaex = flight_vaex.drop(columns=['TaxiOut','TaxiIn','DepDelayMinutes','ArrDelayMinutes','DistanceGroup','CarrierDelay','LateAircraftDelay','WheelsOn','WheelsOff','DepTime','ArrTime', 'ActualElapsedTime'])\n",
    "\n"
   ]
  },
  {
   "cell_type": "code",
   "execution_count": 102,
   "id": "470d7e64",
   "metadata": {
    "scrolled": true
   },
   "outputs": [
    {
     "data": {
      "text/plain": [
       "['FlightDate',\n",
       " '__FlightDate',\n",
       " '__Marketing_Airline_Network',\n",
       " 'OriginCityName',\n",
       " 'DestCityName',\n",
       " 'CRSDepTime',\n",
       " 'DepDelay',\n",
       " 'CRSArrTime',\n",
       " 'ArrDelay',\n",
       " 'CRSElapsedTime',\n",
       " 'ActualElapsedTime',\n",
       " 'AirTime',\n",
       " 'Distance',\n",
       " 'Was Weekend',\n",
       " 'Airline',\n",
       " 'Year',\n",
       " 'DayOfWeek',\n",
       " 'Month',\n",
       " 'DayOfMonth']"
      ]
     },
     "execution_count": 102,
     "metadata": {},
     "output_type": "execute_result"
    }
   ],
   "source": [
    "flight_vaex.column_names"
   ]
  },
  {
   "cell_type": "code",
   "execution_count": 103,
   "id": "ad78535a",
   "metadata": {
    "scrolled": false
   },
   "outputs": [
    {
     "data": {
      "text/html": [
       "<table>\n",
       "<thead>\n",
       "<tr><th>#                            </th><th>FlightDate         </th><th>OriginCityName  </th><th>DestCityName  </th><th style=\"text-align: right;\">  CRSDepTime</th><th style=\"text-align: right;\">  DepDelay</th><th style=\"text-align: right;\">  CRSArrTime</th><th style=\"text-align: right;\">  ArrDelay</th><th style=\"text-align: right;\">  CRSElapsedTime</th><th style=\"text-align: right;\">  ActualElapsedTime</th><th style=\"text-align: right;\">  AirTime</th><th style=\"text-align: right;\">  Distance</th><th>Was Weekend  </th><th>Airline        </th><th style=\"text-align: right;\">  Year</th><th style=\"text-align: right;\">  DayOfWeek</th><th style=\"text-align: right;\">  Month</th><th style=\"text-align: right;\">  DayOfMonth</th></tr>\n",
       "</thead>\n",
       "<tbody>\n",
       "<tr><td><i style='opacity: 0.6'>0</i></td><td>2018-01-15 00:00:00</td><td>Newark, NJ      </td><td>Charleston, SC</td><td style=\"text-align: right;\">        1845</td><td style=\"text-align: right;\">        43</td><td style=\"text-align: right;\">        2108</td><td style=\"text-align: right;\">        41</td><td style=\"text-align: right;\">             143</td><td style=\"text-align: right;\">                141</td><td style=\"text-align: right;\">      102</td><td style=\"text-align: right;\">       628</td><td>False        </td><td>United Airlines</td><td style=\"text-align: right;\">  2018</td><td style=\"text-align: right;\">          0</td><td style=\"text-align: right;\">      1</td><td style=\"text-align: right;\">          15</td></tr>\n",
       "</tbody>\n",
       "</table>"
      ],
      "text/plain": [
       "  #  FlightDate           OriginCityName    DestCityName      CRSDepTime    DepDelay    CRSArrTime    ArrDelay    CRSElapsedTime    ActualElapsedTime    AirTime    Distance  Was Weekend    Airline            Year    DayOfWeek    Month    DayOfMonth\n",
       "  0  2018-01-15 00:00:00  Newark, NJ        Charleston, SC          1845          43          2108          41               143                  141        102         628  False          United Airlines    2018            0        1            15"
      ]
     },
     "execution_count": 103,
     "metadata": {},
     "output_type": "execute_result"
    }
   ],
   "source": [
    "flight_vaex.head(1)"
   ]
  },
  {
   "cell_type": "code",
   "execution_count": 114,
   "id": "beae710c",
   "metadata": {},
   "outputs": [],
   "source": [
    "flight_vaex = flight_vaex.drop(columns=['AirTime'])"
   ]
  },
  {
   "cell_type": "code",
   "execution_count": null,
   "id": "20537fd3",
   "metadata": {},
   "outputs": [],
   "source": []
  },
  {
   "cell_type": "code",
   "execution_count": 136,
   "id": "ff43cb13",
   "metadata": {},
   "outputs": [],
   "source": [
    "from vaex.ml import OneHotEncoder\n"
   ]
  },
  {
   "cell_type": "code",
   "execution_count": 151,
   "id": "b44612da",
   "metadata": {},
   "outputs": [],
   "source": [
    "le = vaex.ml.LabelEncoder()"
   ]
  },
  {
   "cell_type": "code",
   "execution_count": 154,
   "id": "fb1b335f",
   "metadata": {},
   "outputs": [],
   "source": [
    "flight_vaex['Weekend?'] = le.fit_transform(flight_vaex['Was Weekend'])"
   ]
  },
  {
   "cell_type": "code",
   "execution_count": 155,
   "id": "5ca7be5a",
   "metadata": {},
   "outputs": [
    {
     "data": {
      "text/html": [
       "<table>\n",
       "<thead>\n",
       "<tr><th>#                            </th><th>FlightDate         </th><th>OriginCityName            </th><th>DestCityName   </th><th style=\"text-align: right;\">  CRSDepTime</th><th style=\"text-align: right;\">  DepDelay</th><th style=\"text-align: right;\">  CRSArrTime</th><th style=\"text-align: right;\">  ArrDelay</th><th style=\"text-align: right;\">  CRSElapsedTime</th><th style=\"text-align: right;\">  Distance</th><th>Was Weekend  </th><th>Airline          </th><th style=\"text-align: right;\">  Year</th><th style=\"text-align: right;\">  DayOfWeek</th><th style=\"text-align: right;\">  Month</th><th style=\"text-align: right;\">  DayOfMonth</th><th>Weekend?  </th></tr>\n",
       "</thead>\n",
       "<tbody>\n",
       "<tr><td><i style='opacity: 0.6'>0</i></td><td>2021-11-01 00:00:00</td><td>Chicago, IL               </td><td>Columbia, MO   </td><td style=\"text-align: right;\">        1930</td><td style=\"text-align: right;\">        71</td><td style=\"text-align: right;\">        2101</td><td style=\"text-align: right;\">        62</td><td style=\"text-align: right;\">              91</td><td style=\"text-align: right;\">       315</td><td>False        </td><td>American Airlines</td><td style=\"text-align: right;\">  2021</td><td style=\"text-align: right;\">          0</td><td style=\"text-align: right;\">     11</td><td style=\"text-align: right;\">           1</td><td>False     </td></tr>\n",
       "<tr><td><i style='opacity: 0.6'>1</i></td><td>2021-01-25 00:00:00</td><td>Detroit, MI               </td><td>Charlotte, NC  </td><td style=\"text-align: right;\">        1714</td><td style=\"text-align: right;\">       -14</td><td style=\"text-align: right;\">        1908</td><td style=\"text-align: right;\">        -3</td><td style=\"text-align: right;\">             114</td><td style=\"text-align: right;\">       500</td><td>False        </td><td>American Airlines</td><td style=\"text-align: right;\">  2021</td><td style=\"text-align: right;\">          0</td><td style=\"text-align: right;\">      1</td><td style=\"text-align: right;\">          25</td><td>False     </td></tr>\n",
       "<tr><td><i style='opacity: 0.6'>2</i></td><td>2022-01-09 00:00:00</td><td>Detroit, MI               </td><td>Atlanta, GA    </td><td style=\"text-align: right;\">        2105</td><td style=\"text-align: right;\">         2</td><td style=\"text-align: right;\">        2318</td><td style=\"text-align: right;\">        -9</td><td style=\"text-align: right;\">             133</td><td style=\"text-align: right;\">       594</td><td>True         </td><td>Delta Airlines   </td><td style=\"text-align: right;\">  2022</td><td style=\"text-align: right;\">          6</td><td style=\"text-align: right;\">      1</td><td style=\"text-align: right;\">           9</td><td>True      </td></tr>\n",
       "<tr><td><i style='opacity: 0.6'>3</i></td><td>2020-03-22 00:00:00</td><td>Atlanta, GA               </td><td>Baton Rouge, LA</td><td style=\"text-align: right;\">        1643</td><td style=\"text-align: right;\">        -8</td><td style=\"text-align: right;\">        1724</td><td style=\"text-align: right;\">       -19</td><td style=\"text-align: right;\">             101</td><td style=\"text-align: right;\">       448</td><td>True         </td><td>Delta Airlines   </td><td style=\"text-align: right;\">  2020</td><td style=\"text-align: right;\">          6</td><td style=\"text-align: right;\">      3</td><td style=\"text-align: right;\">          22</td><td>True      </td></tr>\n",
       "<tr><td><i style='opacity: 0.6'>4</i></td><td>2019-08-05 00:00:00</td><td>Seattle, WA               </td><td>Detroit, MI    </td><td style=\"text-align: right;\">        1153</td><td style=\"text-align: right;\">        11</td><td style=\"text-align: right;\">        1914</td><td style=\"text-align: right;\">        18</td><td style=\"text-align: right;\">             261</td><td style=\"text-align: right;\">      1927</td><td>False        </td><td>Delta Airlines   </td><td style=\"text-align: right;\">  2019</td><td style=\"text-align: right;\">          0</td><td style=\"text-align: right;\">      8</td><td style=\"text-align: right;\">           5</td><td>False     </td></tr>\n",
       "<tr><td><i style='opacity: 0.6'>5</i></td><td>2019-02-09 00:00:00</td><td>Cedar Rapids/Iowa City, IA</td><td>Denver, CO     </td><td style=\"text-align: right;\">         600</td><td style=\"text-align: right;\">         0</td><td style=\"text-align: right;\">         717</td><td style=\"text-align: right;\">        28</td><td style=\"text-align: right;\">             137</td><td style=\"text-align: right;\">       692</td><td>True         </td><td>United Airlines  </td><td style=\"text-align: right;\">  2019</td><td style=\"text-align: right;\">          5</td><td style=\"text-align: right;\">      2</td><td style=\"text-align: right;\">           9</td><td>True      </td></tr>\n",
       "<tr><td><i style='opacity: 0.6'>6</i></td><td>2023-03-08 00:00:00</td><td>Atlanta, GA               </td><td>Wilmington, NC </td><td style=\"text-align: right;\">         902</td><td style=\"text-align: right;\">        -3</td><td style=\"text-align: right;\">        1028</td><td style=\"text-align: right;\">       -19</td><td style=\"text-align: right;\">              86</td><td style=\"text-align: right;\">       377</td><td>False        </td><td>Delta Airlines   </td><td style=\"text-align: right;\">  2023</td><td style=\"text-align: right;\">          2</td><td style=\"text-align: right;\">      3</td><td style=\"text-align: right;\">           8</td><td>False     </td></tr>\n",
       "<tr><td><i style='opacity: 0.6'>7</i></td><td>2018-12-01 00:00:00</td><td>Albany, NY                </td><td>Newark, NJ     </td><td style=\"text-align: right;\">         820</td><td style=\"text-align: right;\">       170</td><td style=\"text-align: right;\">         934</td><td style=\"text-align: right;\">       175</td><td style=\"text-align: right;\">              74</td><td style=\"text-align: right;\">       143</td><td>True         </td><td>United Airlines  </td><td style=\"text-align: right;\">  2018</td><td style=\"text-align: right;\">          5</td><td style=\"text-align: right;\">     12</td><td style=\"text-align: right;\">           1</td><td>True      </td></tr>\n",
       "<tr><td><i style='opacity: 0.6'>8</i></td><td>2022-10-07 00:00:00</td><td>Houston, TX               </td><td>New York, NY   </td><td style=\"text-align: right;\">        1430</td><td style=\"text-align: right;\">        -2</td><td style=\"text-align: right;\">        1913</td><td style=\"text-align: right;\">       -28</td><td style=\"text-align: right;\">             223</td><td style=\"text-align: right;\">      1416</td><td>False        </td><td>United Airlines  </td><td style=\"text-align: right;\">  2022</td><td style=\"text-align: right;\">          4</td><td style=\"text-align: right;\">     10</td><td style=\"text-align: right;\">           7</td><td>False     </td></tr>\n",
       "<tr><td><i style='opacity: 0.6'>9</i></td><td>2019-03-23 00:00:00</td><td>Fort Lauderdale, FL       </td><td>Los Angeles, CA</td><td style=\"text-align: right;\">        2055</td><td style=\"text-align: right;\">        -5</td><td style=\"text-align: right;\">        2355</td><td style=\"text-align: right;\">        -7</td><td style=\"text-align: right;\">             360</td><td style=\"text-align: right;\">      2343</td><td>True         </td><td>Spirit Airlines  </td><td style=\"text-align: right;\">  2019</td><td style=\"text-align: right;\">          5</td><td style=\"text-align: right;\">      3</td><td style=\"text-align: right;\">          23</td><td>True      </td></tr>\n",
       "</tbody>\n",
       "</table>"
      ],
      "text/plain": [
       "  #  FlightDate           OriginCityName              DestCityName       CRSDepTime    DepDelay    CRSArrTime    ArrDelay    CRSElapsedTime    Distance  Was Weekend    Airline              Year    DayOfWeek    Month    DayOfMonth  Weekend?\n",
       "  0  2021-11-01 00:00:00  Chicago, IL                 Columbia, MO             1930          71          2101          62                91         315  False          American Airlines    2021            0       11             1  False\n",
       "  1  2021-01-25 00:00:00  Detroit, MI                 Charlotte, NC            1714         -14          1908          -3               114         500  False          American Airlines    2021            0        1            25  False\n",
       "  2  2022-01-09 00:00:00  Detroit, MI                 Atlanta, GA              2105           2          2318          -9               133         594  True           Delta Airlines       2022            6        1             9  True\n",
       "  3  2020-03-22 00:00:00  Atlanta, GA                 Baton Rouge, LA          1643          -8          1724         -19               101         448  True           Delta Airlines       2020            6        3            22  True\n",
       "  4  2019-08-05 00:00:00  Seattle, WA                 Detroit, MI              1153          11          1914          18               261        1927  False          Delta Airlines       2019            0        8             5  False\n",
       "  5  2019-02-09 00:00:00  Cedar Rapids/Iowa City, IA  Denver, CO                600           0           717          28               137         692  True           United Airlines      2019            5        2             9  True\n",
       "  6  2023-03-08 00:00:00  Atlanta, GA                 Wilmington, NC            902          -3          1028         -19                86         377  False          Delta Airlines       2023            2        3             8  False\n",
       "  7  2018-12-01 00:00:00  Albany, NY                  Newark, NJ                820         170           934         175                74         143  True           United Airlines      2018            5       12             1  True\n",
       "  8  2022-10-07 00:00:00  Houston, TX                 New York, NY             1430          -2          1913         -28               223        1416  False          United Airlines      2022            4       10             7  False\n",
       "  9  2019-03-23 00:00:00  Fort Lauderdale, FL         Los Angeles, CA          2055          -5          2355          -7               360        2343  True           Spirit Airlines      2019            5        3            23  True"
      ]
     },
     "execution_count": 155,
     "metadata": {},
     "output_type": "execute_result"
    }
   ],
   "source": [
    "flight_vaex.head()"
   ]
  },
  {
   "cell_type": "code",
   "execution_count": null,
   "id": "fd8fb956",
   "metadata": {},
   "outputs": [],
   "source": []
  },
  {
   "cell_type": "code",
   "execution_count": null,
   "id": "e731b667",
   "metadata": {},
   "outputs": [],
   "source": []
  },
  {
   "cell_type": "code",
   "execution_count": null,
   "id": "fe8e09ea",
   "metadata": {},
   "outputs": [],
   "source": []
  },
  {
   "cell_type": "code",
   "execution_count": 137,
   "id": "632423fd",
   "metadata": {},
   "outputs": [
    {
     "name": "stderr",
     "output_type": "stream",
     "text": [
      "C:\\Users\\HP\\Desktop\\Programming\\Projects\\Project 4- Flight\\flight\\lib\\site-packages\\vaex\\ml\\__init__.py:28: UserWarning: Make sure the DataFrame is shuffled\n",
      "  warnings.warn('Make sure the DataFrame is shuffled')\n"
     ]
    }
   ],
   "source": [
    "flight_vaex = flight_vaex.shuffle()\n",
    "df_train, df_test = flight_vaex.ml.train_test_split(test_size=0.2)"
   ]
  },
  {
   "cell_type": "code",
   "execution_count": 138,
   "id": "3e853622",
   "metadata": {},
   "outputs": [],
   "source": [
    "encoder=vaex.ml.OneHotEncoder()"
   ]
  },
  {
   "cell_type": "code",
   "execution_count": 149,
   "id": "accc72b6",
   "metadata": {},
   "outputs": [],
   "source": [
    "df_train['Airline'] = encoder.fit_transform(df_train['Airline'])\n"
   ]
  },
  {
   "cell_type": "code",
   "execution_count": 150,
   "id": "bdbb1d5d",
   "metadata": {},
   "outputs": [
    {
     "data": {
      "text/html": [
       "<table>\n",
       "<thead>\n",
       "<tr><th>#                            </th><th>FlightDate         </th><th>OriginCityName    </th><th>DestCityName    </th><th style=\"text-align: right;\">  CRSDepTime</th><th style=\"text-align: right;\">  DepDelay</th><th style=\"text-align: right;\">  CRSArrTime</th><th style=\"text-align: right;\">  ArrDelay</th><th style=\"text-align: right;\">  CRSElapsedTime</th><th style=\"text-align: right;\">  Distance</th><th>Was Weekend  </th><th>Airline           </th><th style=\"text-align: right;\">  Year</th><th style=\"text-align: right;\">  DayOfWeek</th><th style=\"text-align: right;\">  Month</th><th style=\"text-align: right;\">  DayOfMonth</th></tr>\n",
       "</thead>\n",
       "<tbody>\n",
       "<tr><td><i style='opacity: 0.6'>0</i></td><td>2019-03-26 00:00:00</td><td>Washington, DC    </td><td>Atlanta, GA     </td><td style=\"text-align: right;\">         600</td><td style=\"text-align: right;\">        -7</td><td style=\"text-align: right;\">         754</td><td style=\"text-align: right;\">       -25</td><td style=\"text-align: right;\">             114</td><td style=\"text-align: right;\">       547</td><td>False        </td><td>Delta Airlines    </td><td style=\"text-align: right;\">  2019</td><td style=\"text-align: right;\">          1</td><td style=\"text-align: right;\">      3</td><td style=\"text-align: right;\">          26</td></tr>\n",
       "<tr><td><i style='opacity: 0.6'>1</i></td><td>2018-02-16 00:00:00</td><td>Indianapolis, IN  </td><td>New York, NY    </td><td style=\"text-align: right;\">        1147</td><td style=\"text-align: right;\">        35</td><td style=\"text-align: right;\">        1348</td><td style=\"text-align: right;\">        36</td><td style=\"text-align: right;\">             121</td><td style=\"text-align: right;\">       660</td><td>False        </td><td>Delta Airlines    </td><td style=\"text-align: right;\">  2018</td><td style=\"text-align: right;\">          4</td><td style=\"text-align: right;\">      2</td><td style=\"text-align: right;\">          16</td></tr>\n",
       "<tr><td><i style='opacity: 0.6'>2</i></td><td>2022-03-20 00:00:00</td><td>Orlando, FL       </td><td>Austin, TX      </td><td style=\"text-align: right;\">         710</td><td style=\"text-align: right;\">        -4</td><td style=\"text-align: right;\">         910</td><td style=\"text-align: right;\">       -15</td><td style=\"text-align: right;\">             180</td><td style=\"text-align: right;\">       994</td><td>True         </td><td>Southwest Airlines</td><td style=\"text-align: right;\">  2022</td><td style=\"text-align: right;\">          6</td><td style=\"text-align: right;\">      3</td><td style=\"text-align: right;\">          20</td></tr>\n",
       "<tr><td><i style='opacity: 0.6'>3</i></td><td>2021-07-04 00:00:00</td><td>San Jose, CA      </td><td>Phoenix, AZ     </td><td style=\"text-align: right;\">        1930</td><td style=\"text-align: right;\">         2</td><td style=\"text-align: right;\">        2120</td><td style=\"text-align: right;\">        -8</td><td style=\"text-align: right;\">             110</td><td style=\"text-align: right;\">       621</td><td>True         </td><td>Southwest Airlines</td><td style=\"text-align: right;\">  2021</td><td style=\"text-align: right;\">          6</td><td style=\"text-align: right;\">      7</td><td style=\"text-align: right;\">           4</td></tr>\n",
       "<tr><td><i style='opacity: 0.6'>4</i></td><td>2021-12-24 00:00:00</td><td>Chicago, IL       </td><td>Charlotte, NC   </td><td style=\"text-align: right;\">        1425</td><td style=\"text-align: right;\">        -2</td><td style=\"text-align: right;\">        1715</td><td style=\"text-align: right;\">       -23</td><td style=\"text-align: right;\">             110</td><td style=\"text-align: right;\">       584</td><td>False        </td><td>Southwest Airlines</td><td style=\"text-align: right;\">  2021</td><td style=\"text-align: right;\">          4</td><td style=\"text-align: right;\">     12</td><td style=\"text-align: right;\">          24</td></tr>\n",
       "<tr><td><i style='opacity: 0.6'>5</i></td><td>2018-07-14 00:00:00</td><td>Chicago, IL       </td><td>Los Angeles, CA </td><td style=\"text-align: right;\">        1944</td><td style=\"text-align: right;\">        66</td><td style=\"text-align: right;\">        2211</td><td style=\"text-align: right;\">        29</td><td style=\"text-align: right;\">             267</td><td style=\"text-align: right;\">      1744</td><td>True         </td><td>United Airlines   </td><td style=\"text-align: right;\">  2018</td><td style=\"text-align: right;\">          5</td><td style=\"text-align: right;\">      7</td><td style=\"text-align: right;\">          14</td></tr>\n",
       "<tr><td><i style='opacity: 0.6'>6</i></td><td>2022-05-23 00:00:00</td><td>Phoenix, AZ       </td><td>Austin, TX      </td><td style=\"text-align: right;\">        1000</td><td style=\"text-align: right;\">         2</td><td style=\"text-align: right;\">        1415</td><td style=\"text-align: right;\">        -5</td><td style=\"text-align: right;\">             135</td><td style=\"text-align: right;\">       872</td><td>False        </td><td>Southwest Airlines</td><td style=\"text-align: right;\">  2022</td><td style=\"text-align: right;\">          0</td><td style=\"text-align: right;\">      5</td><td style=\"text-align: right;\">          23</td></tr>\n",
       "<tr><td><i style='opacity: 0.6'>7</i></td><td>2023-03-02 00:00:00</td><td>Atlanta, GA       </td><td>Baltimore, MD   </td><td style=\"text-align: right;\">        2230</td><td style=\"text-align: right;\">        -1</td><td style=\"text-align: right;\">          10</td><td style=\"text-align: right;\">        -9</td><td style=\"text-align: right;\">             100</td><td style=\"text-align: right;\">       577</td><td>False        </td><td>Southwest Airlines</td><td style=\"text-align: right;\">  2023</td><td style=\"text-align: right;\">          3</td><td style=\"text-align: right;\">      3</td><td style=\"text-align: right;\">           2</td></tr>\n",
       "<tr><td><i style='opacity: 0.6'>8</i></td><td>2018-12-16 00:00:00</td><td>Atlanta, GA       </td><td>Myrtle Beach, SC</td><td style=\"text-align: right;\">         941</td><td style=\"text-align: right;\">        -3</td><td style=\"text-align: right;\">        1048</td><td style=\"text-align: right;\">        -5</td><td style=\"text-align: right;\">              67</td><td style=\"text-align: right;\">       317</td><td>True         </td><td>Delta Airlines    </td><td style=\"text-align: right;\">  2018</td><td style=\"text-align: right;\">          6</td><td style=\"text-align: right;\">     12</td><td style=\"text-align: right;\">          16</td></tr>\n",
       "<tr><td><i style='opacity: 0.6'>9</i></td><td>2018-02-07 00:00:00</td><td>Raleigh/Durham, NC</td><td>Newark, NJ      </td><td style=\"text-align: right;\">        1730</td><td style=\"text-align: right;\">        79</td><td style=\"text-align: right;\">        1921</td><td style=\"text-align: right;\">        54</td><td style=\"text-align: right;\">             111</td><td style=\"text-align: right;\">       416</td><td>False        </td><td>United Airlines   </td><td style=\"text-align: right;\">  2018</td><td style=\"text-align: right;\">          2</td><td style=\"text-align: right;\">      2</td><td style=\"text-align: right;\">           7</td></tr>\n",
       "</tbody>\n",
       "</table>"
      ],
      "text/plain": [
       "  #  FlightDate           OriginCityName      DestCityName        CRSDepTime    DepDelay    CRSArrTime    ArrDelay    CRSElapsedTime    Distance  Was Weekend    Airline               Year    DayOfWeek    Month    DayOfMonth\n",
       "  0  2019-03-26 00:00:00  Washington, DC      Atlanta, GA                600          -7           754         -25               114         547  False          Delta Airlines        2019            1        3            26\n",
       "  1  2018-02-16 00:00:00  Indianapolis, IN    New York, NY              1147          35          1348          36               121         660  False          Delta Airlines        2018            4        2            16\n",
       "  2  2022-03-20 00:00:00  Orlando, FL         Austin, TX                 710          -4           910         -15               180         994  True           Southwest Airlines    2022            6        3            20\n",
       "  3  2021-07-04 00:00:00  San Jose, CA        Phoenix, AZ               1930           2          2120          -8               110         621  True           Southwest Airlines    2021            6        7             4\n",
       "  4  2021-12-24 00:00:00  Chicago, IL         Charlotte, NC             1425          -2          1715         -23               110         584  False          Southwest Airlines    2021            4       12            24\n",
       "  5  2018-07-14 00:00:00  Chicago, IL         Los Angeles, CA           1944          66          2211          29               267        1744  True           United Airlines       2018            5        7            14\n",
       "  6  2022-05-23 00:00:00  Phoenix, AZ         Austin, TX                1000           2          1415          -5               135         872  False          Southwest Airlines    2022            0        5            23\n",
       "  7  2023-03-02 00:00:00  Atlanta, GA         Baltimore, MD             2230          -1            10          -9               100         577  False          Southwest Airlines    2023            3        3             2\n",
       "  8  2018-12-16 00:00:00  Atlanta, GA         Myrtle Beach, SC           941          -3          1048          -5                67         317  True           Delta Airlines        2018            6       12            16\n",
       "  9  2018-02-07 00:00:00  Raleigh/Durham, NC  Newark, NJ                1730          79          1921          54               111         416  False          United Airlines       2018            2        2             7"
      ]
     },
     "execution_count": 150,
     "metadata": {},
     "output_type": "execute_result"
    }
   ],
   "source": [
    "df_train.head()"
   ]
  },
  {
   "cell_type": "code",
   "execution_count": 141,
   "id": "92baf0e6",
   "metadata": {},
   "outputs": [],
   "source": [
    "df_test = encoder.transform(df_test)"
   ]
  },
  {
   "cell_type": "code",
   "execution_count": 144,
   "id": "712a5019",
   "metadata": {},
   "outputs": [
    {
     "data": {
      "text/html": [
       "<table>\n",
       "<thead>\n",
       "<tr><th>#                            </th><th>FlightDate         </th><th>OriginCityName    </th><th>DestCityName    </th><th style=\"text-align: right;\">  CRSDepTime</th><th style=\"text-align: right;\">  DepDelay</th><th style=\"text-align: right;\">  CRSArrTime</th><th style=\"text-align: right;\">  ArrDelay</th><th style=\"text-align: right;\">  CRSElapsedTime</th><th style=\"text-align: right;\">  Distance</th><th>Was Weekend  </th><th>Airline           </th><th style=\"text-align: right;\">  Year</th><th style=\"text-align: right;\">  DayOfWeek</th><th style=\"text-align: right;\">  Month</th><th style=\"text-align: right;\">  DayOfMonth</th></tr>\n",
       "</thead>\n",
       "<tbody>\n",
       "<tr><td><i style='opacity: 0.6'>0</i></td><td>2019-03-26 00:00:00</td><td>Washington, DC    </td><td>Atlanta, GA     </td><td style=\"text-align: right;\">         600</td><td style=\"text-align: right;\">        -7</td><td style=\"text-align: right;\">         754</td><td style=\"text-align: right;\">       -25</td><td style=\"text-align: right;\">             114</td><td style=\"text-align: right;\">       547</td><td>False        </td><td>Delta Airlines    </td><td style=\"text-align: right;\">  2019</td><td style=\"text-align: right;\">          1</td><td style=\"text-align: right;\">      3</td><td style=\"text-align: right;\">          26</td></tr>\n",
       "<tr><td><i style='opacity: 0.6'>1</i></td><td>2018-02-16 00:00:00</td><td>Indianapolis, IN  </td><td>New York, NY    </td><td style=\"text-align: right;\">        1147</td><td style=\"text-align: right;\">        35</td><td style=\"text-align: right;\">        1348</td><td style=\"text-align: right;\">        36</td><td style=\"text-align: right;\">             121</td><td style=\"text-align: right;\">       660</td><td>False        </td><td>Delta Airlines    </td><td style=\"text-align: right;\">  2018</td><td style=\"text-align: right;\">          4</td><td style=\"text-align: right;\">      2</td><td style=\"text-align: right;\">          16</td></tr>\n",
       "<tr><td><i style='opacity: 0.6'>2</i></td><td>2022-03-20 00:00:00</td><td>Orlando, FL       </td><td>Austin, TX      </td><td style=\"text-align: right;\">         710</td><td style=\"text-align: right;\">        -4</td><td style=\"text-align: right;\">         910</td><td style=\"text-align: right;\">       -15</td><td style=\"text-align: right;\">             180</td><td style=\"text-align: right;\">       994</td><td>True         </td><td>Southwest Airlines</td><td style=\"text-align: right;\">  2022</td><td style=\"text-align: right;\">          6</td><td style=\"text-align: right;\">      3</td><td style=\"text-align: right;\">          20</td></tr>\n",
       "<tr><td><i style='opacity: 0.6'>3</i></td><td>2021-07-04 00:00:00</td><td>San Jose, CA      </td><td>Phoenix, AZ     </td><td style=\"text-align: right;\">        1930</td><td style=\"text-align: right;\">         2</td><td style=\"text-align: right;\">        2120</td><td style=\"text-align: right;\">        -8</td><td style=\"text-align: right;\">             110</td><td style=\"text-align: right;\">       621</td><td>True         </td><td>Southwest Airlines</td><td style=\"text-align: right;\">  2021</td><td style=\"text-align: right;\">          6</td><td style=\"text-align: right;\">      7</td><td style=\"text-align: right;\">           4</td></tr>\n",
       "<tr><td><i style='opacity: 0.6'>4</i></td><td>2021-12-24 00:00:00</td><td>Chicago, IL       </td><td>Charlotte, NC   </td><td style=\"text-align: right;\">        1425</td><td style=\"text-align: right;\">        -2</td><td style=\"text-align: right;\">        1715</td><td style=\"text-align: right;\">       -23</td><td style=\"text-align: right;\">             110</td><td style=\"text-align: right;\">       584</td><td>False        </td><td>Southwest Airlines</td><td style=\"text-align: right;\">  2021</td><td style=\"text-align: right;\">          4</td><td style=\"text-align: right;\">     12</td><td style=\"text-align: right;\">          24</td></tr>\n",
       "<tr><td><i style='opacity: 0.6'>5</i></td><td>2018-07-14 00:00:00</td><td>Chicago, IL       </td><td>Los Angeles, CA </td><td style=\"text-align: right;\">        1944</td><td style=\"text-align: right;\">        66</td><td style=\"text-align: right;\">        2211</td><td style=\"text-align: right;\">        29</td><td style=\"text-align: right;\">             267</td><td style=\"text-align: right;\">      1744</td><td>True         </td><td>United Airlines   </td><td style=\"text-align: right;\">  2018</td><td style=\"text-align: right;\">          5</td><td style=\"text-align: right;\">      7</td><td style=\"text-align: right;\">          14</td></tr>\n",
       "<tr><td><i style='opacity: 0.6'>6</i></td><td>2022-05-23 00:00:00</td><td>Phoenix, AZ       </td><td>Austin, TX      </td><td style=\"text-align: right;\">        1000</td><td style=\"text-align: right;\">         2</td><td style=\"text-align: right;\">        1415</td><td style=\"text-align: right;\">        -5</td><td style=\"text-align: right;\">             135</td><td style=\"text-align: right;\">       872</td><td>False        </td><td>Southwest Airlines</td><td style=\"text-align: right;\">  2022</td><td style=\"text-align: right;\">          0</td><td style=\"text-align: right;\">      5</td><td style=\"text-align: right;\">          23</td></tr>\n",
       "<tr><td><i style='opacity: 0.6'>7</i></td><td>2023-03-02 00:00:00</td><td>Atlanta, GA       </td><td>Baltimore, MD   </td><td style=\"text-align: right;\">        2230</td><td style=\"text-align: right;\">        -1</td><td style=\"text-align: right;\">          10</td><td style=\"text-align: right;\">        -9</td><td style=\"text-align: right;\">             100</td><td style=\"text-align: right;\">       577</td><td>False        </td><td>Southwest Airlines</td><td style=\"text-align: right;\">  2023</td><td style=\"text-align: right;\">          3</td><td style=\"text-align: right;\">      3</td><td style=\"text-align: right;\">           2</td></tr>\n",
       "<tr><td><i style='opacity: 0.6'>8</i></td><td>2018-12-16 00:00:00</td><td>Atlanta, GA       </td><td>Myrtle Beach, SC</td><td style=\"text-align: right;\">         941</td><td style=\"text-align: right;\">        -3</td><td style=\"text-align: right;\">        1048</td><td style=\"text-align: right;\">        -5</td><td style=\"text-align: right;\">              67</td><td style=\"text-align: right;\">       317</td><td>True         </td><td>Delta Airlines    </td><td style=\"text-align: right;\">  2018</td><td style=\"text-align: right;\">          6</td><td style=\"text-align: right;\">     12</td><td style=\"text-align: right;\">          16</td></tr>\n",
       "<tr><td><i style='opacity: 0.6'>9</i></td><td>2018-02-07 00:00:00</td><td>Raleigh/Durham, NC</td><td>Newark, NJ      </td><td style=\"text-align: right;\">        1730</td><td style=\"text-align: right;\">        79</td><td style=\"text-align: right;\">        1921</td><td style=\"text-align: right;\">        54</td><td style=\"text-align: right;\">             111</td><td style=\"text-align: right;\">       416</td><td>False        </td><td>United Airlines   </td><td style=\"text-align: right;\">  2018</td><td style=\"text-align: right;\">          2</td><td style=\"text-align: right;\">      2</td><td style=\"text-align: right;\">           7</td></tr>\n",
       "</tbody>\n",
       "</table>"
      ],
      "text/plain": [
       "  #  FlightDate           OriginCityName      DestCityName        CRSDepTime    DepDelay    CRSArrTime    ArrDelay    CRSElapsedTime    Distance  Was Weekend    Airline               Year    DayOfWeek    Month    DayOfMonth\n",
       "  0  2019-03-26 00:00:00  Washington, DC      Atlanta, GA                600          -7           754         -25               114         547  False          Delta Airlines        2019            1        3            26\n",
       "  1  2018-02-16 00:00:00  Indianapolis, IN    New York, NY              1147          35          1348          36               121         660  False          Delta Airlines        2018            4        2            16\n",
       "  2  2022-03-20 00:00:00  Orlando, FL         Austin, TX                 710          -4           910         -15               180         994  True           Southwest Airlines    2022            6        3            20\n",
       "  3  2021-07-04 00:00:00  San Jose, CA        Phoenix, AZ               1930           2          2120          -8               110         621  True           Southwest Airlines    2021            6        7             4\n",
       "  4  2021-12-24 00:00:00  Chicago, IL         Charlotte, NC             1425          -2          1715         -23               110         584  False          Southwest Airlines    2021            4       12            24\n",
       "  5  2018-07-14 00:00:00  Chicago, IL         Los Angeles, CA           1944          66          2211          29               267        1744  True           United Airlines       2018            5        7            14\n",
       "  6  2022-05-23 00:00:00  Phoenix, AZ         Austin, TX                1000           2          1415          -5               135         872  False          Southwest Airlines    2022            0        5            23\n",
       "  7  2023-03-02 00:00:00  Atlanta, GA         Baltimore, MD             2230          -1            10          -9               100         577  False          Southwest Airlines    2023            3        3             2\n",
       "  8  2018-12-16 00:00:00  Atlanta, GA         Myrtle Beach, SC           941          -3          1048          -5                67         317  True           Delta Airlines        2018            6       12            16\n",
       "  9  2018-02-07 00:00:00  Raleigh/Durham, NC  Newark, NJ                1730          79          1921          54               111         416  False          United Airlines       2018            2        2             7"
      ]
     },
     "execution_count": 144,
     "metadata": {},
     "output_type": "execute_result"
    }
   ],
   "source": [
    "df_train.head()"
   ]
  },
  {
   "cell_type": "code",
   "execution_count": 116,
   "id": "dac06bfa",
   "metadata": {},
   "outputs": [
    {
     "data": {
      "text/plain": [
       "(24106138, 15)"
      ]
     },
     "execution_count": 116,
     "metadata": {},
     "output_type": "execute_result"
    }
   ],
   "source": [
    "df_train.shape"
   ]
  },
  {
   "cell_type": "code",
   "execution_count": 117,
   "id": "fb47402c",
   "metadata": {},
   "outputs": [
    {
     "data": {
      "text/plain": [
       "(6026534, 15)"
      ]
     },
     "execution_count": 117,
     "metadata": {},
     "output_type": "execute_result"
    }
   ],
   "source": [
    "df_test.shape"
   ]
  },
  {
   "cell_type": "code",
   "execution_count": 131,
   "id": "ab78ec36",
   "metadata": {},
   "outputs": [],
   "source": [
    "from vaex.ml.sklearn import IncrementalPredictor\n",
    "# from sklearn.multioutput import MultiOutputRegressor\n",
    "from sklearn.linear_model import SGDRegressor"
   ]
  },
  {
   "cell_type": "code",
   "execution_count": 130,
   "id": "872193c6",
   "metadata": {},
   "outputs": [],
   "source": [
    "features = ['OriginCityName', 'DestCityName', 'CRSDepTime', 'CRSArrTime', 'CRSElapsedTime','Distance', 'Was Weekend', 'Airline', 'Year', 'DayOfWeek', 'Month', 'DayOfMonth']\n",
    "target = 'DepDelay'"
   ]
  },
  {
   "cell_type": "code",
   "execution_count": 132,
   "id": "b4818571",
   "metadata": {},
   "outputs": [],
   "source": [
    "model = SGDRegressor()\n",
    "\n",
    "vaex_model = IncrementalPredictor(features=features, target=target,model=model, batch_size=500000)"
   ]
  },
  {
   "cell_type": "code",
   "execution_count": null,
   "id": "6cf56e87",
   "metadata": {},
   "outputs": [],
   "source": [
    "vaex_model.fit(df=df_train,progress='widget')"
   ]
  },
  {
   "cell_type": "code",
   "execution_count": null,
   "id": "121476f2",
   "metadata": {},
   "outputs": [],
   "source": []
  }
 ],
 "metadata": {
  "kernelspec": {
   "display_name": "flight",
   "language": "python",
   "name": "flight"
  },
  "language_info": {
   "codemirror_mode": {
    "name": "ipython",
    "version": 3
   },
   "file_extension": ".py",
   "mimetype": "text/x-python",
   "name": "python",
   "nbconvert_exporter": "python",
   "pygments_lexer": "ipython3",
   "version": "3.10.6"
  }
 },
 "nbformat": 4,
 "nbformat_minor": 5
}
